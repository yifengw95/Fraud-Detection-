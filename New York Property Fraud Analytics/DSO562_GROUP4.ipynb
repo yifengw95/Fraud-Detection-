{
 "cells": [
  {
   "cell_type": "code",
   "execution_count": null,
   "metadata": {},
   "outputs": [],
   "source": [
    "import pandas as pd\n",
    "import numpy as np\n",
    "import scipy.stats as sps\n",
    "import matplotlib.pyplot as plt\n",
    "import seaborn as sns\n",
    "import sklearn as skl\n",
    "from sklearn import preprocessing\n",
    "from math import isnan"
   ]
  },
  {
   "cell_type": "markdown",
   "metadata": {},
   "source": [
    "# Overview of data"
   ]
  },
  {
   "cell_type": "code",
   "execution_count": null,
   "metadata": {},
   "outputs": [],
   "source": [
    "file = 'NY property data.csv'\n",
    "myData = pd.read_csv(file)"
   ]
  },
  {
   "cell_type": "code",
   "execution_count": null,
   "metadata": {},
   "outputs": [],
   "source": [
    "myData.head(6)"
   ]
  },
  {
   "cell_type": "code",
   "execution_count": null,
   "metadata": {},
   "outputs": [],
   "source": [
    "myData.isnull().sum()"
   ]
  },
  {
   "cell_type": "code",
   "execution_count": null,
   "metadata": {},
   "outputs": [],
   "source": [
    "myData2 = myData.copy()\n",
    "myData2"
   ]
  },
  {
   "cell_type": "code",
   "execution_count": null,
   "metadata": {},
   "outputs": [],
   "source": [
    "del_attribute = ['RECORD', 'BBLE', 'LOT', 'EASEMENT', 'OWNER', 'BLDGCL', 'EXT', \n",
    "                 'EXLAND', 'EXTOT', 'EXCD1', 'STADDR', 'EXMPTCL', 'AVLAND2', 'AVTOT2',\n",
    "                 'EXLAND2', 'EXTOT2', 'EXCD2', 'YEAR', 'VALTYPE', 'PERIOD']"
   ]
  },
  {
   "cell_type": "code",
   "execution_count": null,
   "metadata": {},
   "outputs": [],
   "source": [
    "for del_i in del_attribute: \n",
    "    myData2.drop([del_i], axis = 1, inplace= True)"
   ]
  },
  {
   "cell_type": "code",
   "execution_count": null,
   "metadata": {},
   "outputs": [],
   "source": [
    "myData2.head(6)"
   ]
  },
  {
   "cell_type": "markdown",
   "metadata": {},
   "source": [
    "# Fill up missing value"
   ]
  },
  {
   "cell_type": "code",
   "execution_count": null,
   "metadata": {},
   "outputs": [],
   "source": [
    "myData3 = myData2.copy()"
   ]
  },
  {
   "cell_type": "code",
   "execution_count": null,
   "metadata": {},
   "outputs": [],
   "source": [
    "myData3.head(6)"
   ]
  },
  {
   "cell_type": "code",
   "execution_count": null,
   "metadata": {},
   "outputs": [],
   "source": [
    "myData3.dtypes"
   ]
  },
  {
   "cell_type": "code",
   "execution_count": null,
   "metadata": {
    "scrolled": true
   },
   "outputs": [],
   "source": [
    "#myData3['BLOCK'] = pd.Categorical(myData3['BLOCK'])\n",
    "#myData3['B'] = pd.Categorical(myData3['B'])\n",
    "#myData3['TAXCLASS'] = pd.Categorical(myData3['TAXCLASS'])\n",
    "#myData3['STORIES'] = pd.Categorical(myData3['STORIES'])\n",
    "#myData3['ZIP'] = pd.Categorical(myData3['ZIP'])"
   ]
  },
  {
   "cell_type": "code",
   "execution_count": null,
   "metadata": {},
   "outputs": [],
   "source": [
    "myData3.dtypes"
   ]
  },
  {
   "cell_type": "markdown",
   "metadata": {},
   "source": [
    "## ZIP"
   ]
  },
  {
   "cell_type": "markdown",
   "metadata": {},
   "source": [
    "### Use the mode of ZIP Code below and above (2 above and 2 below)"
   ]
  },
  {
   "cell_type": "code",
   "execution_count": null,
   "metadata": {
    "scrolled": true
   },
   "outputs": [],
   "source": [
    "attribute = 'ZIP'\n",
    "\n",
    "print('Describe')\n",
    "print(myData3[attribute].describe())\n",
    "\n",
    "print('Value Counts')\n",
    "print(myData3[attribute].value_counts().index[0:6])\n",
    "\n",
    "print('Null Value Number Counts')\n",
    "print(myData3[attribute].isnull().sum())\n"
   ]
  },
  {
   "cell_type": "code",
   "execution_count": null,
   "metadata": {},
   "outputs": [],
   "source": [
    "index_missing_value = myData3[myData3['ZIP'].isnull()].index\n",
    "for i in index_missing_value:\n",
    "    flag = True\n",
    "    temp = [] \n",
    "    if myData3.loc[(i-2),['ZIP']].isnull().values[0] == True:\n",
    "        flag = False\n",
    "    else:\n",
    "        temp.append(myData3.loc[(i-2),'ZIP'])\n",
    "    if myData3.loc[(i-1),['ZIP']].isnull().values[0] == True:\n",
    "        flag = False\n",
    "    else:\n",
    "        temp.append(myData3.loc[(i-1),'ZIP'])\n",
    "    if myData3.loc[(i+1),['ZIP']].isnull().values[0] == True:\n",
    "        flag = False\n",
    "    else:\n",
    "        temp.append(myData3.loc[(i+1),'ZIP'])\n",
    "    if myData3.loc[(i+2),['ZIP']].isnull().values[0] == True:\n",
    "        flag = False\n",
    "    else:\n",
    "        temp.append(myData3.loc[(i+2),'ZIP'])\n",
    "    if(flag == True):\n",
    "        myData3.loc[i, 'ZIP'] = sps.mode(temp)[0][0]\n",
    "print('Null Value Number Counts')\n",
    "print(myData3[attribute].isnull().sum())"
   ]
  },
  {
   "cell_type": "markdown",
   "metadata": {},
   "source": [
    "### Aggregate by B, TAXCLASS. Use the mode of that group"
   ]
  },
  {
   "cell_type": "code",
   "execution_count": null,
   "metadata": {},
   "outputs": [],
   "source": [
    "valid_index = myData3[myData3['ZIP'].isnull() == False].copy()\n",
    "print('Null Value Number Counts')\n",
    "print(valid_index[attribute].isnull().sum())\n",
    "valid_index.head(2)"
   ]
  },
  {
   "cell_type": "code",
   "execution_count": null,
   "metadata": {},
   "outputs": [],
   "source": [
    "def f_mode (x):\n",
    "    return x.value_counts().index[0]\n",
    "\n",
    "valid_dataframe = valid_index[['ZIP', 'B', 'TAXCLASS']].copy()\n",
    "temp = valid_dataframe.groupby(['B','TAXCLASS']).agg(f_mode).copy()\n",
    "\n",
    "for i in myData3[myData3['ZIP'].isnull() == True].index:\n",
    "    try:\n",
    "        temp_B = myData3.loc[i,'B']\n",
    "        temp_TAXCLASS = myData3.loc[i,'TAXCLASS']\n",
    "        myData3.loc[i, 'ZIP'] = temp.loc[temp_B,].loc[temp_TAXCLASS, 'ZIP']\n",
    "    except:\n",
    "        continue\n",
    "print('Null Value Number Counts')\n",
    "print(myData3[attribute].isnull().sum())"
   ]
  },
  {
   "cell_type": "code",
   "execution_count": null,
   "metadata": {},
   "outputs": [],
   "source": [
    "def f_mode (x):\n",
    "    return x.value_counts().index[0]\n",
    "\n",
    "valid_dataframe = valid_index[[attribute, 'B']].copy()\n",
    "temp = valid_dataframe.groupby(['B']).agg(f_mode).copy()\n",
    "\n",
    "for i in myData3[myData3['ZIP'].isnull() == True].index:\n",
    "    try:\n",
    "        temp_B = myData3.loc[i,'B']\n",
    "        myData3.loc[i, 'ZIP'] = temp.loc[temp_B,attribute]\n",
    "    except:\n",
    "        continue\n",
    "print('Null Value Number Counts')\n",
    "print(myData3[attribute].isnull().sum())"
   ]
  },
  {
   "cell_type": "markdown",
   "metadata": {},
   "source": [
    "## TAXCLASS"
   ]
  },
  {
   "cell_type": "code",
   "execution_count": null,
   "metadata": {},
   "outputs": [],
   "source": [
    "attribute = 'TAXCLASS'\n",
    "\n",
    "print('Describe')\n",
    "print(myData3[attribute].describe())\n",
    "\n",
    "print('Value Counts')\n",
    "print(myData3[attribute].value_counts().index[0:6])\n",
    "\n",
    "print('Null Value Number Counts')\n",
    "print(myData3[attribute].isnull().sum())"
   ]
  },
  {
   "cell_type": "markdown",
   "metadata": {},
   "source": [
    "## BOROUGH(B)"
   ]
  },
  {
   "cell_type": "code",
   "execution_count": null,
   "metadata": {},
   "outputs": [],
   "source": [
    "attribute = 'B'\n",
    "\n",
    "print('Describe')\n",
    "print(myData3[attribute].describe())\n",
    "\n",
    "print('Value Counts')\n",
    "print(myData3[attribute].value_counts().index[0:6])\n",
    "\n",
    "print('Null Value Number Counts')\n",
    "print(myData3[attribute].isnull().sum())"
   ]
  },
  {
   "cell_type": "markdown",
   "metadata": {},
   "source": [
    "## STORIES"
   ]
  },
  {
   "cell_type": "code",
   "execution_count": null,
   "metadata": {
    "scrolled": true
   },
   "outputs": [],
   "source": [
    "attribute = 'STORIES'\n",
    "\n",
    "print('Describe')\n",
    "print(myData3[attribute].describe())\n",
    "\n",
    "print('Value Counts')\n",
    "print(myData3[attribute].value_counts().index[0:6])\n",
    "\n",
    "print('Null Value Number Counts')\n",
    "print(myData3[attribute].isnull().sum())"
   ]
  },
  {
   "cell_type": "code",
   "execution_count": null,
   "metadata": {},
   "outputs": [],
   "source": [
    "valid_index = myData3[myData3[attribute].isnull() == False].copy()\n",
    "print('Null Value Number Counts')\n",
    "print(myData3[attribute].isnull().sum())"
   ]
  },
  {
   "cell_type": "code",
   "execution_count": null,
   "metadata": {},
   "outputs": [],
   "source": [
    "def f_mode (x):\n",
    "    return x.value_counts().index[0]\n",
    "\n",
    "valid_dataframe = valid_index[[attribute, 'ZIP','B']].copy()\n",
    "temp = valid_dataframe.groupby(['ZIP', 'B']).agg(f_mode).copy()\n",
    "temp.head(2)"
   ]
  },
  {
   "cell_type": "code",
   "execution_count": null,
   "metadata": {},
   "outputs": [],
   "source": [
    "for i in myData3[myData3[attribute].isnull() == True].index:\n",
    "    try:\n",
    "        temp_B = myData3.loc[i,'B']\n",
    "        temp_ZIP = myData3.loc[i,'ZIP']\n",
    "        myData3.loc[i, attribute] = temp.loc[temp_ZIP,].loc[temp_B,attribute]\n",
    "    except:\n",
    "        continue\n",
    "print('Null Value Number Counts')\n",
    "print(myData3[attribute].isnull().sum())"
   ]
  },
  {
   "cell_type": "code",
   "execution_count": null,
   "metadata": {},
   "outputs": [],
   "source": [
    "def f_mode (x):\n",
    "    return x.value_counts().index[0]\n",
    "\n",
    "valid_dataframe = valid_index[[attribute, 'B']].copy()\n",
    "temp = valid_dataframe.groupby(['B']).agg(f_mode).copy()\n",
    "temp.head(2)"
   ]
  },
  {
   "cell_type": "code",
   "execution_count": null,
   "metadata": {},
   "outputs": [],
   "source": [
    "for i in myData3[myData3[attribute].isnull() == True].index:\n",
    "    try:\n",
    "        temp_B = myData3.loc[i,'B']\n",
    "        myData3.loc[i, attribute] = temp.loc[temp_B,attribute]\n",
    "    except:\n",
    "        continue\n",
    "print('Null Value Number Counts')\n",
    "print(myData3[attribute].isnull().sum())"
   ]
  },
  {
   "cell_type": "markdown",
   "metadata": {},
   "source": [
    "## LTFRONT"
   ]
  },
  {
   "cell_type": "code",
   "execution_count": null,
   "metadata": {},
   "outputs": [],
   "source": [
    "attribute = 'LTFRONT'\n",
    "\n",
    "print('Describe')\n",
    "print(myData3[attribute].describe())\n",
    "\n",
    "print('Value Counts')\n",
    "print(myData3[attribute].value_counts().index[0:6])\n",
    "\n",
    "print('Null Value Number Counts')\n",
    "print(myData3[attribute].isnull().sum())\n",
    "\n",
    "print('0 Value Counts')\n",
    "print(len(myData3[myData3[attribute] == 0]))"
   ]
  },
  {
   "cell_type": "code",
   "execution_count": null,
   "metadata": {},
   "outputs": [],
   "source": [
    "valid_index = myData3[myData3[attribute] != 0].copy()\n",
    "print('0 Value Number Counts')\n",
    "print(len(valid_index[valid_index[attribute] == 0]))"
   ]
  },
  {
   "cell_type": "code",
   "execution_count": null,
   "metadata": {},
   "outputs": [],
   "source": [
    "valid_dataframe = valid_index[[attribute, 'ZIP']].copy()\n",
    "temp = valid_dataframe.groupby(['ZIP']).median().copy()\n",
    "temp.head(2)"
   ]
  },
  {
   "cell_type": "code",
   "execution_count": null,
   "metadata": {},
   "outputs": [],
   "source": [
    "for i in myData3[myData3[attribute] == 0].index:\n",
    "    try:\n",
    "        temp_ZIP = myData3.loc[i,'ZIP']\n",
    "        #temp_STORIES = myData3.loc[i,'STORIES']\n",
    "        myData3.loc[i, attribute] = temp.loc[temp_ZIP,attribute]\n",
    "    except:\n",
    "        continue\n",
    "print('0 Value Counts')\n",
    "print(len(myData3[myData3[attribute] == 0]))"
   ]
  },
  {
   "cell_type": "markdown",
   "metadata": {},
   "source": [
    "## LTDEPTH"
   ]
  },
  {
   "cell_type": "code",
   "execution_count": null,
   "metadata": {},
   "outputs": [],
   "source": [
    "attribute = 'LTDEPTH'\n",
    "\n",
    "print('Describe')\n",
    "print(myData3[attribute].describe())\n",
    "\n",
    "print('Value Counts')\n",
    "print(myData3[attribute].value_counts().index[0:6])\n",
    "\n",
    "print('Null Value Number Counts')\n",
    "print(myData3[attribute].isnull().sum())\n",
    "\n",
    "print('0 Value Counts')\n",
    "print(len(myData3[myData3[attribute] == 0]))"
   ]
  },
  {
   "cell_type": "code",
   "execution_count": null,
   "metadata": {},
   "outputs": [],
   "source": [
    "valid_index = myData3[myData3[attribute] != 0].copy()\n",
    "print('0 Value Number Counts')\n",
    "print(len(valid_index[valid_index[attribute] == 0]))"
   ]
  },
  {
   "cell_type": "code",
   "execution_count": null,
   "metadata": {},
   "outputs": [],
   "source": [
    "valid_dataframe = valid_index[[attribute, 'ZIP']].copy()\n",
    "temp = valid_dataframe.groupby(['ZIP']).median().copy()\n",
    "temp.head(2)"
   ]
  },
  {
   "cell_type": "code",
   "execution_count": null,
   "metadata": {},
   "outputs": [],
   "source": [
    "for i in myData3[myData3[attribute] == 0].index:\n",
    "    try:\n",
    "        temp_ZIP = myData3.loc[i,'ZIP']\n",
    "        #temp_STORIES = myData3.loc[i,'STORIES']\n",
    "        myData3.loc[i, attribute] = temp.loc[temp_ZIP,attribute]\n",
    "    except:\n",
    "        continue\n",
    "print('0 Value Counts')\n",
    "print(len(myData3[myData3[attribute] == 0]))"
   ]
  },
  {
   "cell_type": "markdown",
   "metadata": {},
   "source": [
    "## BLDFRONT "
   ]
  },
  {
   "cell_type": "code",
   "execution_count": null,
   "metadata": {},
   "outputs": [],
   "source": [
    "attribute = 'BLDFRONT'\n",
    "\n",
    "print('Describe')\n",
    "print(myData3[attribute].describe())\n",
    "\n",
    "print('Value Counts')\n",
    "print(myData3[attribute].value_counts().index[0:6])\n",
    "\n",
    "print('Null Value Number Counts')\n",
    "print(myData3[attribute].isnull().sum())\n",
    "\n",
    "print('0 Value Counts')\n",
    "print(len(myData3[myData3[attribute] == 0]))"
   ]
  },
  {
   "cell_type": "code",
   "execution_count": null,
   "metadata": {},
   "outputs": [],
   "source": [
    "valid_index = myData3[myData3[attribute] != 0].copy()\n",
    "print('0 Value Number Counts')\n",
    "print(len(valid_index[valid_index[attribute] == 0]))"
   ]
  },
  {
   "cell_type": "code",
   "execution_count": null,
   "metadata": {},
   "outputs": [],
   "source": [
    "valid_dataframe = valid_index[[attribute, 'ZIP']].copy()\n",
    "temp = valid_dataframe.groupby(['ZIP']).median().copy()\n",
    "temp.head(2)"
   ]
  },
  {
   "cell_type": "code",
   "execution_count": null,
   "metadata": {},
   "outputs": [],
   "source": [
    "for i in myData3[myData3[attribute] == 0].index:\n",
    "    try:\n",
    "        temp_ZIP = myData3.loc[i,'ZIP']\n",
    "        #temp_STORIES = myData3.loc[i,'STORIES']\n",
    "        myData3.loc[i, attribute] = temp.loc[temp_ZIP,attribute]\n",
    "    except:\n",
    "        continue\n",
    "print('0 Value Counts')\n",
    "print(len(myData3[myData3[attribute] == 0]))"
   ]
  },
  {
   "cell_type": "code",
   "execution_count": null,
   "metadata": {},
   "outputs": [],
   "source": [
    "valid_dataframe = valid_index[[attribute, 'B']].copy()\n",
    "temp = valid_dataframe.groupby(['B']).median().copy()\n",
    "temp.head(2)"
   ]
  },
  {
   "cell_type": "code",
   "execution_count": null,
   "metadata": {},
   "outputs": [],
   "source": [
    "for i in myData3[myData3[attribute] == 0].index:\n",
    "    try:\n",
    "        temp_B = myData3.loc[i,'B']\n",
    "        #temp_STORIES = myData3.loc[i,'STORIES']\n",
    "        myData3.loc[i, attribute] = temp.loc[temp_B,attribute]\n",
    "    except:\n",
    "        continue\n",
    "print('0 Value Counts')\n",
    "print(len(myData3[myData3[attribute] == 0]))"
   ]
  },
  {
   "cell_type": "markdown",
   "metadata": {},
   "source": [
    "## BLDDEPTH  "
   ]
  },
  {
   "cell_type": "code",
   "execution_count": null,
   "metadata": {},
   "outputs": [],
   "source": [
    "attribute = 'BLDDEPTH'\n",
    "\n",
    "print('Describe')\n",
    "print(myData3[attribute].describe())\n",
    "\n",
    "print('Value Counts')\n",
    "print(myData3[attribute].value_counts().index[0:6])\n",
    "\n",
    "print('Null Value Number Counts')\n",
    "print(myData3[attribute].isnull().sum())\n",
    "\n",
    "print('0 Value Counts')\n",
    "print(len(myData3[myData3[attribute] == 0]))"
   ]
  },
  {
   "cell_type": "code",
   "execution_count": null,
   "metadata": {},
   "outputs": [],
   "source": [
    "valid_index = myData3[myData3[attribute] != 0].copy()\n",
    "print('0 Value Number Counts')\n",
    "print(len(valid_index[valid_index[attribute] == 0]))"
   ]
  },
  {
   "cell_type": "code",
   "execution_count": null,
   "metadata": {},
   "outputs": [],
   "source": [
    "valid_dataframe = valid_index[[attribute, 'ZIP']].copy()\n",
    "temp = valid_dataframe.groupby(['ZIP']).median().copy()\n",
    "temp.head(2)"
   ]
  },
  {
   "cell_type": "code",
   "execution_count": null,
   "metadata": {},
   "outputs": [],
   "source": [
    "for i in myData3[myData3[attribute] == 0].index:\n",
    "    try:\n",
    "        temp_ZIP = myData3.loc[i,'ZIP']\n",
    "        #temp_STORIES = myData3.loc[i,'STORIES']\n",
    "        myData3.loc[i, attribute] = temp.loc[temp_ZIP,attribute]\n",
    "    except:\n",
    "        continue\n",
    "print('0 Value Counts')\n",
    "print(len(myData3[myData3[attribute] == 0]))"
   ]
  },
  {
   "cell_type": "code",
   "execution_count": null,
   "metadata": {},
   "outputs": [],
   "source": [
    "valid_dataframe = valid_index[[attribute, 'B']].copy()\n",
    "temp = valid_dataframe.groupby(['B']).median().copy()\n",
    "temp.head(2)"
   ]
  },
  {
   "cell_type": "code",
   "execution_count": null,
   "metadata": {},
   "outputs": [],
   "source": [
    "for i in myData3[myData3[attribute] == 0].index:\n",
    "    try:\n",
    "        temp_B = myData3.loc[i,'B']\n",
    "        #temp_STORIES = myData3.loc[i,'STORIES']\n",
    "        myData3.loc[i, attribute] = temp.loc[temp_B,attribute]\n",
    "    except:\n",
    "        continue\n",
    "print('0 Value Counts')\n",
    "print(len(myData3[myData3[attribute] == 0]))"
   ]
  },
  {
   "cell_type": "markdown",
   "metadata": {},
   "source": [
    "## AVTOT"
   ]
  },
  {
   "cell_type": "code",
   "execution_count": null,
   "metadata": {},
   "outputs": [],
   "source": [
    "attribute = 'AVTOT'\n",
    "\n",
    "print('Describe')\n",
    "print(myData3[attribute].describe())\n",
    "\n",
    "print('Value Counts')\n",
    "print(myData3[attribute].value_counts().index[0:6])\n",
    "\n",
    "print('Null Value Number Counts')\n",
    "print(myData3[attribute].isnull().sum())\n",
    "\n",
    "print('0 Value Counts')\n",
    "print(len(myData3[myData3[attribute] == 0]))"
   ]
  },
  {
   "cell_type": "code",
   "execution_count": null,
   "metadata": {},
   "outputs": [],
   "source": [
    "valid_index = myData3[myData3[attribute] != 0].copy()\n",
    "print('0 Value Number Counts')\n",
    "print(len(valid_index[valid_index[attribute] == 0]))"
   ]
  },
  {
   "cell_type": "code",
   "execution_count": null,
   "metadata": {},
   "outputs": [],
   "source": [
    "valid_dataframe = valid_index[[attribute, 'ZIP']].copy()\n",
    "temp = valid_dataframe.groupby(['ZIP']).median().copy()\n",
    "temp.head(2)"
   ]
  },
  {
   "cell_type": "code",
   "execution_count": null,
   "metadata": {},
   "outputs": [],
   "source": [
    "for i in myData3[myData3[attribute] == 0].index:\n",
    "    try:\n",
    "        temp_ZIP = myData3.loc[i,'ZIP']\n",
    "        #temp_STORIES = myData3.loc[i,'STORIES']\n",
    "        myData3.loc[i, attribute] = temp.loc[temp_ZIP,attribute]\n",
    "    except:\n",
    "        continue\n",
    "print('0 Value Counts')\n",
    "print(len(myData3[myData3[attribute] == 0]))"
   ]
  },
  {
   "cell_type": "markdown",
   "metadata": {},
   "source": [
    "## FULLVALUE "
   ]
  },
  {
   "cell_type": "code",
   "execution_count": null,
   "metadata": {},
   "outputs": [],
   "source": [
    "attribute = 'FULLVAL'\n",
    "\n",
    "print('Describe')\n",
    "print(myData3[attribute].describe())\n",
    "\n",
    "print('Value Counts')\n",
    "print(myData3[attribute].value_counts().index[0:6])\n",
    "\n",
    "print('Null Value Number Counts')\n",
    "print(myData3[attribute].isnull().sum())\n",
    "\n",
    "print('0 Value Counts')\n",
    "print(len(myData3[myData3[attribute] == 0]))"
   ]
  },
  {
   "cell_type": "code",
   "execution_count": null,
   "metadata": {},
   "outputs": [],
   "source": [
    "valid_index = myData3[myData3[attribute] != 0].copy()\n",
    "print('0 Value Number Counts')\n",
    "print(len(valid_index[valid_index[attribute] == 0]))"
   ]
  },
  {
   "cell_type": "code",
   "execution_count": null,
   "metadata": {},
   "outputs": [],
   "source": [
    "valid_dataframe = valid_index[[attribute, 'ZIP']].copy()\n",
    "temp = valid_dataframe.groupby(['ZIP']).median().copy()\n",
    "temp.head(2)"
   ]
  },
  {
   "cell_type": "code",
   "execution_count": null,
   "metadata": {},
   "outputs": [],
   "source": [
    "for i in myData3[myData3[attribute] == 0].index:\n",
    "    try:\n",
    "        temp_ZIP = myData3.loc[i,'ZIP']\n",
    "        #temp_STORIES = myData3.loc[i,'STORIES']\n",
    "        myData3.loc[i, attribute] = temp.loc[temp_ZIP,attribute]\n",
    "    except:\n",
    "        continue\n",
    "print('0 Value Counts')\n",
    "print(len(myData3[myData3[attribute] == 0]))"
   ]
  },
  {
   "cell_type": "markdown",
   "metadata": {},
   "source": [
    "## AVLAND"
   ]
  },
  {
   "cell_type": "code",
   "execution_count": null,
   "metadata": {},
   "outputs": [],
   "source": [
    "attribute = 'AVLAND'\n",
    "\n",
    "print('Describe')\n",
    "print(myData3[attribute].describe())\n",
    "\n",
    "print('Value Counts')\n",
    "print(myData3[attribute].value_counts().index[0:6])\n",
    "\n",
    "print('Null Value Number Counts')\n",
    "print(myData3[attribute].isnull().sum())\n",
    "\n",
    "print('0 Value Counts')\n",
    "print(len(myData3[myData3[attribute] == 0]))"
   ]
  },
  {
   "cell_type": "code",
   "execution_count": null,
   "metadata": {},
   "outputs": [],
   "source": [
    "valid_index = myData3[myData3[attribute] != 0].copy()\n",
    "print('0 Value Number Counts')\n",
    "print(len(valid_index[valid_index[attribute] == 0]))"
   ]
  },
  {
   "cell_type": "code",
   "execution_count": null,
   "metadata": {},
   "outputs": [],
   "source": [
    "valid_dataframe = valid_index[[attribute, 'ZIP']].copy()\n",
    "temp = valid_dataframe.groupby(['ZIP']).median().copy()\n",
    "temp.head(2)"
   ]
  },
  {
   "cell_type": "code",
   "execution_count": null,
   "metadata": {},
   "outputs": [],
   "source": [
    "for i in myData3[myData3[attribute] == 0].index:\n",
    "    try:\n",
    "        temp_ZIP = myData3.loc[i,'ZIP']\n",
    "        #temp_STORIES = myData3.loc[i,'STORIES']\n",
    "        myData3.loc[i, attribute] = temp.loc[temp_ZIP,attribute]\n",
    "    except:\n",
    "        continue\n",
    "print('0 Value Counts')\n",
    "print(len(myData3[myData3[attribute] == 0]))"
   ]
  },
  {
   "cell_type": "code",
   "execution_count": null,
   "metadata": {},
   "outputs": [],
   "source": [
    "myData3.drop('Unnamed: 0', axis = 1 , inplace= True)"
   ]
  },
  {
   "cell_type": "code",
   "execution_count": null,
   "metadata": {},
   "outputs": [],
   "source": [
    "myData3.head(2)"
   ]
  },
  {
   "cell_type": "code",
   "execution_count": null,
   "metadata": {},
   "outputs": [],
   "source": [
    "myData3.to_csv('cleanData_yifeng.csv')"
   ]
  },
  {
   "cell_type": "markdown",
   "metadata": {},
   "source": [
    "# Build 'expert variable'"
   ]
  },
  {
   "cell_type": "code",
   "execution_count": null,
   "metadata": {},
   "outputs": [],
   "source": [
    "import pandas as pd\n",
    "import numpy as np\n",
    "import scipy.stats as sps\n",
    "import matplotlib.pyplot as plt\n",
    "import seaborn as sns\n",
    "import sklearn as skl"
   ]
  },
  {
   "cell_type": "code",
   "execution_count": null,
   "metadata": {},
   "outputs": [],
   "source": [
    "file = 'cleanData_yifeng.csv'\n",
    "myData4 = pd.read_csv(file)\n",
    "myData4.drop('Unnamed: 0', axis = 1 , inplace= True)"
   ]
  },
  {
   "cell_type": "code",
   "execution_count": null,
   "metadata": {},
   "outputs": [],
   "source": [
    "myData4.head(10).T"
   ]
  },
  {
   "cell_type": "code",
   "execution_count": null,
   "metadata": {},
   "outputs": [],
   "source": [
    "myData4['Base_lotarea'] = myData4['LTFRONT'] * myData4['LTDEPTH']\n",
    "myData4['Base_bldarea'] = myData4['BLDFRONT'] * myData4['BLDDEPTH']\n",
    "myData4['Base_bldvol'] = myData4['Base_bldarea'] * myData4['STORIES']\n",
    "\n",
    "myData4['Base_r1'] = myData4['FULLVAL'] / myData4['Base_lotarea']\n",
    "myData4['Base_r2'] = myData4['AVLAND'] / myData4['Base_lotarea']\n",
    "myData4['Base_r3'] = myData4['AVTOT'] / myData4['Base_lotarea']\n",
    "\n",
    "myData4['Base_r4'] = myData4['FULLVAL'] / myData4['Base_bldarea']\n",
    "myData4['Base_r5'] = myData4['AVLAND'] / myData4['Base_bldarea']\n",
    "myData4['Base_r6'] = myData4['AVTOT'] / myData4['Base_bldarea']\n",
    "\n",
    "myData4['Base_r7'] = myData4['FULLVAL'] / myData4['Base_bldvol']\n",
    "myData4['Base_r8'] = myData4['AVLAND'] / myData4['Base_bldvol']\n",
    "myData4['Base_r9'] = myData4['AVTOT'] / myData4['Base_bldvol']"
   ]
  },
  {
   "cell_type": "code",
   "execution_count": null,
   "metadata": {},
   "outputs": [],
   "source": [
    "Base_list = ['Base_r1', 'Base_r2', 'Base_r3', 'Base_r4', 'Base_r5', 'Base_r6', 'Base_r7', 'Base_r8', 'Base_r9']"
   ]
  },
  {
   "cell_type": "markdown",
   "metadata": {},
   "source": [
    "## Group by ZIP5"
   ]
  },
  {
   "cell_type": "code",
   "execution_count": null,
   "metadata": {},
   "outputs": [],
   "source": [
    "attribute = 'ZIP'\n",
    "temp = myData4.groupby([attribute]).mean().copy()\n",
    "def df2dict (x):\n",
    "    return temp_dict[x]\n",
    "temp.head(10)"
   ]
  },
  {
   "cell_type": "code",
   "execution_count": null,
   "metadata": {},
   "outputs": [],
   "source": [
    "for Base_i in Base_list:\n",
    "    temp_dict = temp[Base_i].to_dict()\n",
    "    \n",
    "    temp_attribute_name = 'Expert' + Base_i + attribute\n",
    "    myData4[temp_attribute_name] = myData4[Base_i] / myData4[attribute].apply(df2dict)"
   ]
  },
  {
   "cell_type": "markdown",
   "metadata": {},
   "source": [
    "## Group by ZIP3"
   ]
  },
  {
   "cell_type": "code",
   "execution_count": null,
   "metadata": {},
   "outputs": [],
   "source": [
    "myData4['ZIP3'] = myData4['ZIP'] / 100\n",
    "myData4['ZIP3'].astype(int)\n",
    "attribute = 'ZIP3'\n",
    "temp = myData4.groupby([attribute]).mean().copy()\n",
    "def df2dict (x):\n",
    "    return temp_dict[x]"
   ]
  },
  {
   "cell_type": "code",
   "execution_count": null,
   "metadata": {},
   "outputs": [],
   "source": [
    "for Base_i in Base_list:\n",
    "    temp_dict = temp[Base_i].to_dict()\n",
    "    temp_attribute_name = 'Expert' + Base_i + attribute\n",
    "    myData4[temp_attribute_name] = myData4[Base_i] / myData4[attribute].apply(df2dict)"
   ]
  },
  {
   "cell_type": "markdown",
   "metadata": {},
   "source": [
    "## Group by TAXCLASS"
   ]
  },
  {
   "cell_type": "code",
   "execution_count": null,
   "metadata": {},
   "outputs": [],
   "source": [
    "attribute = 'TAXCLASS'\n",
    "temp = myData4.groupby([attribute]).mean().copy()\n",
    "def df2dict (x):\n",
    "    return temp_dict[x]"
   ]
  },
  {
   "cell_type": "code",
   "execution_count": null,
   "metadata": {},
   "outputs": [],
   "source": [
    "for Base_i in Base_list:\n",
    "    temp_dict = temp[Base_i].to_dict()\n",
    "    temp_attribute_name = 'Expert' + Base_i + attribute\n",
    "    myData4[temp_attribute_name] = myData4[Base_i] / myData4[attribute].apply(df2dict)"
   ]
  },
  {
   "cell_type": "markdown",
   "metadata": {},
   "source": [
    "## Group by B"
   ]
  },
  {
   "cell_type": "code",
   "execution_count": null,
   "metadata": {},
   "outputs": [],
   "source": [
    "attribute = 'B'\n",
    "temp = myData4.groupby([attribute]).mean().copy()\n",
    "def df2dict (x):\n",
    "    return temp_dict[x]"
   ]
  },
  {
   "cell_type": "code",
   "execution_count": null,
   "metadata": {},
   "outputs": [],
   "source": [
    "for Base_i in Base_list:\n",
    "    temp_dict = temp[Base_i].to_dict()\n",
    "    temp_attribute_name = 'Expert' + Base_i + attribute\n",
    "    myData4[temp_attribute_name] = myData4[Base_i] / myData4[attribute].apply(df2dict)"
   ]
  },
  {
   "cell_type": "markdown",
   "metadata": {},
   "source": [
    "## Group by All"
   ]
  },
  {
   "cell_type": "code",
   "execution_count": null,
   "metadata": {},
   "outputs": [],
   "source": [
    "attribute = 'ALL'"
   ]
  },
  {
   "cell_type": "code",
   "execution_count": null,
   "metadata": {},
   "outputs": [],
   "source": [
    "for Base_i in Base_list:\n",
    "    temp_attribute_name = 'Expert' + Base_i + attribute\n",
    "    myData4[temp_attribute_name] = myData4[Base_i] / myData4[Base_i].mean()"
   ]
  },
  {
   "cell_type": "markdown",
   "metadata": {},
   "source": [
    "## Delete Inrelated Attribute"
   ]
  },
  {
   "cell_type": "code",
   "execution_count": null,
   "metadata": {},
   "outputs": [],
   "source": [
    "del_attribute = ['B','BLOCK','TAXCLASS','LTFRONT','LTDEPTH','STORIES','FULLVAL','AVLAND','ZIP3'\n",
    "                ,'AVTOT','ZIP','BLDFRONT','BLDDEPTH','Base_lotarea','Base_bldarea','Base_bldvol'\n",
    "                ,'Base_r1','Base_r2','Base_r3','Base_r4','Base_r5','Base_r6','Base_r7','Base_r8','Base_r9']"
   ]
  },
  {
   "cell_type": "code",
   "execution_count": null,
   "metadata": {},
   "outputs": [],
   "source": [
    "for del_i in del_attribute: \n",
    "    myData4.drop([del_i], axis = 1, inplace= True)"
   ]
  },
  {
   "cell_type": "code",
   "execution_count": null,
   "metadata": {},
   "outputs": [],
   "source": [
    "del_attribute = ['RECORD', 'BBLE', 'LOT', 'EASEMENT', 'OWNER', 'BLDGCL', 'EXT', \n",
    "                 'EXLAND', 'EXTOT', 'EXCD1', 'STADDR', 'EXMPTCL', 'AVLAND2', 'AVTOT2',\n",
    "                 'EXLAND2', 'EXTOT2', 'EXCD2', 'YEAR', 'VALTYPE', 'PERIOD']"
   ]
  },
  {
   "cell_type": "code",
   "execution_count": null,
   "metadata": {},
   "outputs": [],
   "source": [
    "for del_i in del_attribute: \n",
    "    myData4.drop([del_i], axis = 1, inplace= True)"
   ]
  },
  {
   "cell_type": "code",
   "execution_count": null,
   "metadata": {},
   "outputs": [],
   "source": [
    "myData4.shape"
   ]
  },
  {
   "cell_type": "code",
   "execution_count": null,
   "metadata": {},
   "outputs": [],
   "source": [
    "myData4.to_csv('expertVariableData_yifeng(yifengData2).csv')"
   ]
  },
  {
   "cell_type": "markdown",
   "metadata": {},
   "source": [
    "# Z-scale all variable"
   ]
  },
  {
   "cell_type": "code",
   "execution_count": 175,
   "metadata": {},
   "outputs": [],
   "source": [
    "import pandas as pd\n",
    "import numpy as np\n",
    "import scipy.stats as sps\n",
    "import matplotlib.pyplot as plt\n",
    "import seaborn as sns\n",
    "import sklearn as skl\n",
    "from sklearn import preprocessing "
   ]
  },
  {
   "cell_type": "code",
   "execution_count": 176,
   "metadata": {},
   "outputs": [],
   "source": [
    "file = 'expertVariableData_yifeng(yifengData).csv'\n",
    "myData4 = pd.read_csv(file)\n",
    "myData4.drop('Unnamed: 0', axis = 1 , inplace= True)"
   ]
  },
  {
   "cell_type": "code",
   "execution_count": 177,
   "metadata": {},
   "outputs": [],
   "source": [
    "myData5 = myData4.copy()"
   ]
  },
  {
   "cell_type": "code",
   "execution_count": 178,
   "metadata": {},
   "outputs": [
    {
     "data": {
      "text/html": [
       "<div>\n",
       "<style scoped>\n",
       "    .dataframe tbody tr th:only-of-type {\n",
       "        vertical-align: middle;\n",
       "    }\n",
       "\n",
       "    .dataframe tbody tr th {\n",
       "        vertical-align: top;\n",
       "    }\n",
       "\n",
       "    .dataframe thead th {\n",
       "        text-align: right;\n",
       "    }\n",
       "</style>\n",
       "<table border=\"1\" class=\"dataframe\">\n",
       "  <thead>\n",
       "    <tr style=\"text-align: right;\">\n",
       "      <th></th>\n",
       "      <th>ExpertBase_r1ZIP</th>\n",
       "      <th>ExpertBase_r2ZIP</th>\n",
       "      <th>ExpertBase_r3ZIP</th>\n",
       "      <th>ExpertBase_r4ZIP</th>\n",
       "      <th>ExpertBase_r5ZIP</th>\n",
       "      <th>ExpertBase_r6ZIP</th>\n",
       "      <th>ExpertBase_r7ZIP</th>\n",
       "      <th>ExpertBase_r8ZIP</th>\n",
       "      <th>ExpertBase_r9ZIP</th>\n",
       "      <th>ExpertBase_r1ZIP3</th>\n",
       "      <th>...</th>\n",
       "      <th>ExpertBase_r9B</th>\n",
       "      <th>ExpertBase_r1ALL</th>\n",
       "      <th>ExpertBase_r2ALL</th>\n",
       "      <th>ExpertBase_r3ALL</th>\n",
       "      <th>ExpertBase_r4ALL</th>\n",
       "      <th>ExpertBase_r5ALL</th>\n",
       "      <th>ExpertBase_r6ALL</th>\n",
       "      <th>ExpertBase_r7ALL</th>\n",
       "      <th>ExpertBase_r8ALL</th>\n",
       "      <th>ExpertBase_r9ALL</th>\n",
       "    </tr>\n",
       "  </thead>\n",
       "  <tbody>\n",
       "    <tr>\n",
       "      <th>0</th>\n",
       "      <td>0.119240</td>\n",
       "      <td>0.166497</td>\n",
       "      <td>0.129191</td>\n",
       "      <td>3.022971</td>\n",
       "      <td>2.727065</td>\n",
       "      <td>3.205864</td>\n",
       "      <td>0.237611</td>\n",
       "      <td>0.121950</td>\n",
       "      <td>0.249221</td>\n",
       "      <td>0.119240</td>\n",
       "      <td>...</td>\n",
       "      <td>0.391914</td>\n",
       "      <td>0.189376</td>\n",
       "      <td>0.766642</td>\n",
       "      <td>0.684654</td>\n",
       "      <td>2.277140</td>\n",
       "      <td>6.337456</td>\n",
       "      <td>7.778809</td>\n",
       "      <td>0.114565</td>\n",
       "      <td>0.315934</td>\n",
       "      <td>0.459889</td>\n",
       "    </tr>\n",
       "    <tr>\n",
       "      <th>1</th>\n",
       "      <td>119.525538</td>\n",
       "      <td>62.411945</td>\n",
       "      <td>129.500999</td>\n",
       "      <td>27.376252</td>\n",
       "      <td>9.235427</td>\n",
       "      <td>29.032542</td>\n",
       "      <td>2.151819</td>\n",
       "      <td>0.412992</td>\n",
       "      <td>2.256960</td>\n",
       "      <td>119.525538</td>\n",
       "      <td>...</td>\n",
       "      <td>3.549204</td>\n",
       "      <td>189.829606</td>\n",
       "      <td>287.378153</td>\n",
       "      <td>686.294968</td>\n",
       "      <td>20.621954</td>\n",
       "      <td>21.462312</td>\n",
       "      <td>70.445476</td>\n",
       "      <td>1.037514</td>\n",
       "      <td>1.069935</td>\n",
       "      <td>4.164791</td>\n",
       "    </tr>\n",
       "    <tr>\n",
       "      <th>2</th>\n",
       "      <td>0.762908</td>\n",
       "      <td>2.010324</td>\n",
       "      <td>0.826579</td>\n",
       "      <td>0.561378</td>\n",
       "      <td>0.955708</td>\n",
       "      <td>0.595342</td>\n",
       "      <td>0.647170</td>\n",
       "      <td>0.626818</td>\n",
       "      <td>0.678792</td>\n",
       "      <td>0.762908</td>\n",
       "      <td>...</td>\n",
       "      <td>1.067440</td>\n",
       "      <td>1.211645</td>\n",
       "      <td>9.256612</td>\n",
       "      <td>4.380484</td>\n",
       "      <td>0.422874</td>\n",
       "      <td>2.220981</td>\n",
       "      <td>1.444556</td>\n",
       "      <td>0.312037</td>\n",
       "      <td>1.623892</td>\n",
       "      <td>1.252581</td>\n",
       "    </tr>\n",
       "  </tbody>\n",
       "</table>\n",
       "<p>3 rows × 45 columns</p>\n",
       "</div>"
      ],
      "text/plain": [
       "   ExpertBase_r1ZIP  ExpertBase_r2ZIP  ExpertBase_r3ZIP  ExpertBase_r4ZIP  \\\n",
       "0          0.119240          0.166497          0.129191          3.022971   \n",
       "1        119.525538         62.411945        129.500999         27.376252   \n",
       "2          0.762908          2.010324          0.826579          0.561378   \n",
       "\n",
       "   ExpertBase_r5ZIP  ExpertBase_r6ZIP  ExpertBase_r7ZIP  ExpertBase_r8ZIP  \\\n",
       "0          2.727065          3.205864          0.237611          0.121950   \n",
       "1          9.235427         29.032542          2.151819          0.412992   \n",
       "2          0.955708          0.595342          0.647170          0.626818   \n",
       "\n",
       "   ExpertBase_r9ZIP  ExpertBase_r1ZIP3        ...         ExpertBase_r9B  \\\n",
       "0          0.249221           0.119240        ...               0.391914   \n",
       "1          2.256960         119.525538        ...               3.549204   \n",
       "2          0.678792           0.762908        ...               1.067440   \n",
       "\n",
       "   ExpertBase_r1ALL  ExpertBase_r2ALL  ExpertBase_r3ALL  ExpertBase_r4ALL  \\\n",
       "0          0.189376          0.766642          0.684654          2.277140   \n",
       "1        189.829606        287.378153        686.294968         20.621954   \n",
       "2          1.211645          9.256612          4.380484          0.422874   \n",
       "\n",
       "   ExpertBase_r5ALL  ExpertBase_r6ALL  ExpertBase_r7ALL  ExpertBase_r8ALL  \\\n",
       "0          6.337456          7.778809          0.114565          0.315934   \n",
       "1         21.462312         70.445476          1.037514          1.069935   \n",
       "2          2.220981          1.444556          0.312037          1.623892   \n",
       "\n",
       "   ExpertBase_r9ALL  \n",
       "0          0.459889  \n",
       "1          4.164791  \n",
       "2          1.252581  \n",
       "\n",
       "[3 rows x 45 columns]"
      ]
     },
     "execution_count": 178,
     "metadata": {},
     "output_type": "execute_result"
    }
   ],
   "source": [
    "myData4.head(3)"
   ]
  },
  {
   "cell_type": "code",
   "execution_count": 179,
   "metadata": {},
   "outputs": [],
   "source": [
    "for index in myData5:\n",
    "    myData5[index] = skl.preprocessing.scale(myData4[index])"
   ]
  },
  {
   "cell_type": "code",
   "execution_count": 180,
   "metadata": {},
   "outputs": [
    {
     "data": {
      "text/html": [
       "<div>\n",
       "<style scoped>\n",
       "    .dataframe tbody tr th:only-of-type {\n",
       "        vertical-align: middle;\n",
       "    }\n",
       "\n",
       "    .dataframe tbody tr th {\n",
       "        vertical-align: top;\n",
       "    }\n",
       "\n",
       "    .dataframe thead th {\n",
       "        text-align: right;\n",
       "    }\n",
       "</style>\n",
       "<table border=\"1\" class=\"dataframe\">\n",
       "  <thead>\n",
       "    <tr style=\"text-align: right;\">\n",
       "      <th></th>\n",
       "      <th>ExpertBase_r1ZIP</th>\n",
       "      <th>ExpertBase_r2ZIP</th>\n",
       "      <th>ExpertBase_r3ZIP</th>\n",
       "      <th>ExpertBase_r4ZIP</th>\n",
       "      <th>ExpertBase_r5ZIP</th>\n",
       "      <th>ExpertBase_r6ZIP</th>\n",
       "      <th>ExpertBase_r7ZIP</th>\n",
       "      <th>ExpertBase_r8ZIP</th>\n",
       "      <th>ExpertBase_r9ZIP</th>\n",
       "      <th>ExpertBase_r1ZIP3</th>\n",
       "      <th>...</th>\n",
       "      <th>ExpertBase_r9B</th>\n",
       "      <th>ExpertBase_r1ALL</th>\n",
       "      <th>ExpertBase_r2ALL</th>\n",
       "      <th>ExpertBase_r3ALL</th>\n",
       "      <th>ExpertBase_r4ALL</th>\n",
       "      <th>ExpertBase_r5ALL</th>\n",
       "      <th>ExpertBase_r6ALL</th>\n",
       "      <th>ExpertBase_r7ALL</th>\n",
       "      <th>ExpertBase_r8ALL</th>\n",
       "      <th>ExpertBase_r9ALL</th>\n",
       "    </tr>\n",
       "  </thead>\n",
       "  <tbody>\n",
       "    <tr>\n",
       "      <th>0</th>\n",
       "      <td>-0.187137</td>\n",
       "      <td>-0.075686</td>\n",
       "      <td>-0.118082</td>\n",
       "      <td>0.217863</td>\n",
       "      <td>0.080125</td>\n",
       "      <td>0.122362</td>\n",
       "      <td>-0.075585</td>\n",
       "      <td>-0.038927</td>\n",
       "      <td>-0.039976</td>\n",
       "      <td>-0.187137</td>\n",
       "      <td>...</td>\n",
       "      <td>-0.009372</td>\n",
       "      <td>-0.144666</td>\n",
       "      <td>-0.013868</td>\n",
       "      <td>-0.035370</td>\n",
       "      <td>0.085516</td>\n",
       "      <td>0.062323</td>\n",
       "      <td>0.086385</td>\n",
       "      <td>-0.060768</td>\n",
       "      <td>-0.007991</td>\n",
       "      <td>-0.007138</td>\n",
       "    </tr>\n",
       "    <tr>\n",
       "      <th>1</th>\n",
       "      <td>25.183320</td>\n",
       "      <td>5.576513</td>\n",
       "      <td>17.424791</td>\n",
       "      <td>2.840574</td>\n",
       "      <td>0.382073</td>\n",
       "      <td>1.554998</td>\n",
       "      <td>0.114195</td>\n",
       "      <td>-0.026024</td>\n",
       "      <td>0.066929</td>\n",
       "      <td>25.183320</td>\n",
       "      <td>...</td>\n",
       "      <td>0.039291</td>\n",
       "      <td>33.699070</td>\n",
       "      <td>17.018300</td>\n",
       "      <td>76.864514</td>\n",
       "      <td>1.313870</td>\n",
       "      <td>0.238929</td>\n",
       "      <td>0.884974</td>\n",
       "      <td>0.002575</td>\n",
       "      <td>0.000817</td>\n",
       "      <td>0.041826</td>\n",
       "    </tr>\n",
       "    <tr>\n",
       "      <th>2</th>\n",
       "      <td>-0.050375</td>\n",
       "      <td>0.091742</td>\n",
       "      <td>-0.023516</td>\n",
       "      <td>-0.047237</td>\n",
       "      <td>-0.002055</td>\n",
       "      <td>-0.022447</td>\n",
       "      <td>-0.034981</td>\n",
       "      <td>-0.016544</td>\n",
       "      <td>-0.017103</td>\n",
       "      <td>-0.050375</td>\n",
       "      <td>...</td>\n",
       "      <td>0.001039</td>\n",
       "      <td>0.037771</td>\n",
       "      <td>0.490657</td>\n",
       "      <td>0.379164</td>\n",
       "      <td>-0.038644</td>\n",
       "      <td>0.014257</td>\n",
       "      <td>0.005665</td>\n",
       "      <td>-0.047215</td>\n",
       "      <td>0.007288</td>\n",
       "      <td>0.003338</td>\n",
       "    </tr>\n",
       "  </tbody>\n",
       "</table>\n",
       "<p>3 rows × 45 columns</p>\n",
       "</div>"
      ],
      "text/plain": [
       "   ExpertBase_r1ZIP  ExpertBase_r2ZIP  ExpertBase_r3ZIP  ExpertBase_r4ZIP  \\\n",
       "0         -0.187137         -0.075686         -0.118082          0.217863   \n",
       "1         25.183320          5.576513         17.424791          2.840574   \n",
       "2         -0.050375          0.091742         -0.023516         -0.047237   \n",
       "\n",
       "   ExpertBase_r5ZIP  ExpertBase_r6ZIP  ExpertBase_r7ZIP  ExpertBase_r8ZIP  \\\n",
       "0          0.080125          0.122362         -0.075585         -0.038927   \n",
       "1          0.382073          1.554998          0.114195         -0.026024   \n",
       "2         -0.002055         -0.022447         -0.034981         -0.016544   \n",
       "\n",
       "   ExpertBase_r9ZIP  ExpertBase_r1ZIP3        ...         ExpertBase_r9B  \\\n",
       "0         -0.039976          -0.187137        ...              -0.009372   \n",
       "1          0.066929          25.183320        ...               0.039291   \n",
       "2         -0.017103          -0.050375        ...               0.001039   \n",
       "\n",
       "   ExpertBase_r1ALL  ExpertBase_r2ALL  ExpertBase_r3ALL  ExpertBase_r4ALL  \\\n",
       "0         -0.144666         -0.013868         -0.035370          0.085516   \n",
       "1         33.699070         17.018300         76.864514          1.313870   \n",
       "2          0.037771          0.490657          0.379164         -0.038644   \n",
       "\n",
       "   ExpertBase_r5ALL  ExpertBase_r6ALL  ExpertBase_r7ALL  ExpertBase_r8ALL  \\\n",
       "0          0.062323          0.086385         -0.060768         -0.007991   \n",
       "1          0.238929          0.884974          0.002575          0.000817   \n",
       "2          0.014257          0.005665         -0.047215          0.007288   \n",
       "\n",
       "   ExpertBase_r9ALL  \n",
       "0         -0.007138  \n",
       "1          0.041826  \n",
       "2          0.003338  \n",
       "\n",
       "[3 rows x 45 columns]"
      ]
     },
     "execution_count": 180,
     "metadata": {},
     "output_type": "execute_result"
    }
   ],
   "source": [
    "myData5.head(3)"
   ]
  },
  {
   "cell_type": "code",
   "execution_count": 181,
   "metadata": {},
   "outputs": [
    {
     "name": "stdout",
     "output_type": "stream",
     "text": [
      "ExpertBase_r1ZIP\n",
      "-2.6772799859185946e-17 1.0000004668563391\n",
      "ExpertBase_r2ZIP\n",
      "4.880171507081207e-17 1.000000466856326\n",
      "ExpertBase_r3ZIP\n",
      "8.791813126431981e-17 1.000000466856387\n",
      "ExpertBase_r4ZIP\n",
      "9.62364927791047e-17 1.0000004668563813\n",
      "ExpertBase_r5ZIP\n",
      "2.6019151420834097e-18 1.0000004668563716\n",
      "ExpertBase_r6ZIP\n",
      "2.5797053740524084e-17 1.000000466856414\n",
      "ExpertBase_r7ZIP\n",
      "3.9993714988589935e-17 1.0000004668563625\n",
      "ExpertBase_r8ZIP\n",
      "5.6078627649664864e-18 1.0000004668563625\n",
      "ExpertBase_r9ZIP\n",
      "-2.037498073870141e-17 1.0000004668563303\n",
      "ExpertBase_r1ZIP3\n",
      "-2.6772799859185946e-17 1.0000004668563391\n",
      "ExpertBase_r2ZIP3\n",
      "4.880171507081207e-17 1.000000466856326\n",
      "ExpertBase_r3ZIP3\n",
      "8.791813126431981e-17 1.000000466856387\n",
      "ExpertBase_r4ZIP3\n",
      "9.62364927791047e-17 1.0000004668563813\n",
      "ExpertBase_r5ZIP3\n",
      "2.6019151420834097e-18 1.0000004668563716\n",
      "ExpertBase_r6ZIP3\n",
      "2.5797053740524084e-17 1.000000466856414\n",
      "ExpertBase_r7ZIP3\n",
      "3.9993714988589935e-17 1.0000004668563625\n",
      "ExpertBase_r8ZIP3\n",
      "5.6078627649664864e-18 1.0000004668563625\n",
      "ExpertBase_r9ZIP3\n",
      "-2.037498073870141e-17 1.0000004668563303\n",
      "ExpertBase_r1TAXCLASS\n",
      "-1.1666161006066815e-15 1.0000004668562812\n",
      "ExpertBase_r2TAXCLASS\n",
      "-1.1000406947226192e-15 1.000000466856378\n",
      "ExpertBase_r3TAXCLASS\n",
      "1.4110844337084129e-15 1.0000004668563307\n",
      "ExpertBase_r4TAXCLASS\n",
      "1.7512231332176368e-16 1.0000004668563955\n",
      "ExpertBase_r5TAXCLASS\n",
      "7.410070561175398e-17 1.0000004668563764\n",
      "ExpertBase_r6TAXCLASS\n",
      "1.1092271904864224e-16 1.000000466856346\n",
      "ExpertBase_r7TAXCLASS\n",
      "7.51417965868682e-17 1.0000004668562266\n",
      "ExpertBase_r8TAXCLASS\n",
      "-1.8107799171193357e-16 1.000000466856335\n",
      "ExpertBase_r9TAXCLASS\n",
      "3.293593096906068e-17 1.000000466856365\n",
      "ExpertBase_r1B\n",
      "8.701573309894819e-17 1.0000004668563978\n",
      "ExpertBase_r2B\n",
      "-1.729547945653772e-17 1.000000466856357\n",
      "ExpertBase_r3B\n",
      "6.342647478081853e-17 1.0000004668562987\n",
      "ExpertBase_r4B\n",
      "1.3277772427115152e-16 1.0000004668564653\n",
      "ExpertBase_r5B\n",
      "4.089657801710514e-18 1.0000004668563705\n",
      "ExpertBase_r6B\n",
      "-6.92603987108071e-17 1.0000004668563243\n",
      "ExpertBase_r7B\n",
      "-4.339702422517556e-17 1.0000004668563425\n",
      "ExpertBase_r8B\n",
      "-2.4782602501028735e-17 1.0000004668563032\n",
      "ExpertBase_r9B\n",
      "-2.390556448283196e-17 1.0000004668564018\n",
      "ExpertBase_r1ALL\n",
      "-2.4043241396533935e-15 1.0000004668562723\n",
      "ExpertBase_r2ALL\n",
      "5.4232251821312486e-15 1.000000466856386\n",
      "ExpertBase_r3ALL\n",
      "-1.91674715441216e-15 1.0000004668562759\n",
      "ExpertBase_r4ALL\n",
      "-2.4795921801931895e-16 1.0000004668563178\n",
      "ExpertBase_r5ALL\n",
      "6.607289449490485e-17 1.0000004668562907\n",
      "ExpertBase_r6ALL\n",
      "1.219468827478596e-16 1.0000004668563436\n",
      "ExpertBase_r7ALL\n",
      "3.822927486890337e-15 1.000000466856288\n",
      "ExpertBase_r8ALL\n",
      "3.490467836544216e-18 1.000000466856372\n",
      "ExpertBase_r9ALL\n",
      "-3.8173443736335027e-17 1.0000004668563391\n"
     ]
    }
   ],
   "source": [
    "for index in myData5:\n",
    "    print(index)\n",
    "    print (myData5[index].mean(), myData5[index].std())"
   ]
  },
  {
   "cell_type": "markdown",
   "metadata": {},
   "source": [
    "# PCA"
   ]
  },
  {
   "cell_type": "code",
   "execution_count": 182,
   "metadata": {},
   "outputs": [],
   "source": [
    "import pandas as pd\n",
    "import numpy as np\n",
    "from sklearn.decomposition import PCA"
   ]
  },
  {
   "cell_type": "code",
   "execution_count": 183,
   "metadata": {},
   "outputs": [],
   "source": [
    "myData6 = myData5.copy()"
   ]
  },
  {
   "cell_type": "code",
   "execution_count": 184,
   "metadata": {},
   "outputs": [],
   "source": [
    "pca_modle = PCA(n_components = 15)\n",
    "myData6 = pca_modle.fit_transform(myData6)"
   ]
  },
  {
   "cell_type": "code",
   "execution_count": 185,
   "metadata": {},
   "outputs": [
    {
     "data": {
      "text/plain": [
       "array([0.50097735, 0.22722943, 0.07224364, 0.05208972, 0.04411291,\n",
       "       0.04045688, 0.01658566, 0.0097775 , 0.00806087, 0.0051208 ,\n",
       "       0.00489789, 0.00447862, 0.00317243, 0.0023302 , 0.00195961])"
      ]
     },
     "execution_count": 185,
     "metadata": {},
     "output_type": "execute_result"
    }
   ],
   "source": [
    "y = pca_modle.explained_variance_ratio_\n",
    "pca_modle.explained_variance_ratio_"
   ]
  },
  {
   "cell_type": "code",
   "execution_count": 206,
   "metadata": {},
   "outputs": [
    {
     "data": {
      "image/png": "[encoded data removed]",
      "text/plain": [
       "<Figure size 432x288 with 1 Axes>"
      ]
     },
     "metadata": {
      "needs_background": "light"
     },
     "output_type": "display_data"
    }
   ],
   "source": [
    "plt.plot(list(range(0,15,1)),y,'k',list(range(0,15,1)),y,'bo')\n",
    "plt.ylabel('Percentage of Variances')\n",
    "plt.xlabel('Principal Components')\n",
    "plt.savefig('PCA.png')"
   ]
  },
  {
   "cell_type": "code",
   "execution_count": null,
   "metadata": {},
   "outputs": [],
   "source": [
    "'''plt.plot(history.history['loss'])\n",
    "plt.plot(history.history['val_loss'])\n",
    "plt.title('model loss')\n",
    "plt.ylabel('loss')\n",
    "plt.xlabel('epoch')\n",
    "plt.legend(['train', 'test'], loc='upper right')\n",
    "plt.show()'''"
   ]
  },
  {
   "cell_type": "markdown",
   "metadata": {},
   "source": [
    "we choose 6 as our desired dimension "
   ]
  },
  {
   "cell_type": "code",
   "execution_count": 187,
   "metadata": {},
   "outputs": [],
   "source": [
    "myData6 = myData5.copy()\n",
    "pca_modle = PCA(n_components = 6)\n",
    "myData6 = pca_modle.fit_transform(myData6)\n",
    "myData7 = pd.DataFrame(myData6).copy()"
   ]
  },
  {
   "cell_type": "markdown",
   "metadata": {},
   "source": [
    "# Z-scale again"
   ]
  },
  {
   "cell_type": "code",
   "execution_count": null,
   "metadata": {},
   "outputs": [],
   "source": [
    "for index in myData7:\n",
    "    myData7[index] = skl.preprocessing.scale(myData7[index])"
   ]
  },
  {
   "cell_type": "code",
   "execution_count": null,
   "metadata": {},
   "outputs": [],
   "source": [
    "for index in myData7:\n",
    "    print(index)\n",
    "    print (myData7[index].mean(), myData7[index].std())"
   ]
  },
  {
   "cell_type": "code",
   "execution_count": null,
   "metadata": {},
   "outputs": [],
   "source": [
    "myData7.to_csv('zScaleAfterPCA_yifeng(yifengData).csv')"
   ]
  },
  {
   "cell_type": "markdown",
   "metadata": {},
   "source": [
    "# Modeling"
   ]
  },
  {
   "cell_type": "markdown",
   "metadata": {},
   "source": [
    "## Outlier detection via z-scores"
   ]
  },
  {
   "cell_type": "code",
   "execution_count": 24,
   "metadata": {},
   "outputs": [],
   "source": [
    "import pandas as pd\n",
    "import numpy as np\n",
    "import scipy.stats as sps\n",
    "import matplotlib.pyplot as plt\n",
    "import seaborn as sns\n",
    "import sklearn as skl\n",
    "from sklearn import preprocessing "
   ]
  },
  {
   "cell_type": "code",
   "execution_count": 25,
   "metadata": {},
   "outputs": [],
   "source": [
    "file = 'zScaleAfterPCA_yifeng(yifengData).csv'\n",
    "myData8 = pd.read_csv(file)\n",
    "myData8.drop('Unnamed: 0', axis = 1 , inplace= True)"
   ]
  },
  {
   "cell_type": "code",
   "execution_count": 28,
   "metadata": {},
   "outputs": [
    {
     "data": {
      "text/html": [
       "<div>\n",
       "<style scoped>\n",
       "    .dataframe tbody tr th:only-of-type {\n",
       "        vertical-align: middle;\n",
       "    }\n",
       "\n",
       "    .dataframe tbody tr th {\n",
       "        vertical-align: top;\n",
       "    }\n",
       "\n",
       "    .dataframe thead th {\n",
       "        text-align: right;\n",
       "    }\n",
       "</style>\n",
       "<table border=\"1\" class=\"dataframe\">\n",
       "  <thead>\n",
       "    <tr style=\"text-align: right;\">\n",
       "      <th></th>\n",
       "      <th>0</th>\n",
       "      <th>1</th>\n",
       "      <th>2</th>\n",
       "      <th>3</th>\n",
       "      <th>4</th>\n",
       "      <th>5</th>\n",
       "    </tr>\n",
       "  </thead>\n",
       "  <tbody>\n",
       "    <tr>\n",
       "      <th>0</th>\n",
       "      <td>0.004199</td>\n",
       "      <td>-0.120170</td>\n",
       "      <td>-0.126649</td>\n",
       "      <td>-0.063994</td>\n",
       "      <td>0.067439</td>\n",
       "      <td>0.129863</td>\n",
       "    </tr>\n",
       "    <tr>\n",
       "      <th>1</th>\n",
       "      <td>6.109354</td>\n",
       "      <td>22.719222</td>\n",
       "      <td>6.424920</td>\n",
       "      <td>-0.221121</td>\n",
       "      <td>0.735808</td>\n",
       "      <td>2.137036</td>\n",
       "    </tr>\n",
       "  </tbody>\n",
       "</table>\n",
       "</div>"
      ],
      "text/plain": [
       "          0          1         2         3         4         5\n",
       "0  0.004199  -0.120170 -0.126649 -0.063994  0.067439  0.129863\n",
       "1  6.109354  22.719222  6.424920 -0.221121  0.735808  2.137036"
      ]
     },
     "execution_count": 28,
     "metadata": {},
     "output_type": "execute_result"
    }
   ],
   "source": [
    "myData8.head(2)"
   ]
  },
  {
   "cell_type": "code",
   "execution_count": 27,
   "metadata": {},
   "outputs": [],
   "source": [
    "myData9 = myData8.copy()"
   ]
  },
  {
   "cell_type": "code",
   "execution_count": 30,
   "metadata": {},
   "outputs": [],
   "source": [
    "myData9['Score1'] = abs(myData8['0']) +abs(myData8['1']) +abs(myData8['2'])+ \\\n",
    "                            abs(myData8['3']) + abs(myData8['4']) +abs(myData8['5'])"
   ]
  },
  {
   "cell_type": "code",
   "execution_count": 31,
   "metadata": {},
   "outputs": [
    {
     "data": {
      "text/html": [
       "<div>\n",
       "<style scoped>\n",
       "    .dataframe tbody tr th:only-of-type {\n",
       "        vertical-align: middle;\n",
       "    }\n",
       "\n",
       "    .dataframe tbody tr th {\n",
       "        vertical-align: top;\n",
       "    }\n",
       "\n",
       "    .dataframe thead th {\n",
       "        text-align: right;\n",
       "    }\n",
       "</style>\n",
       "<table border=\"1\" class=\"dataframe\">\n",
       "  <thead>\n",
       "    <tr style=\"text-align: right;\">\n",
       "      <th></th>\n",
       "      <th>0</th>\n",
       "      <th>1</th>\n",
       "      <th>2</th>\n",
       "      <th>3</th>\n",
       "      <th>4</th>\n",
       "      <th>5</th>\n",
       "      <th>Score1</th>\n",
       "    </tr>\n",
       "  </thead>\n",
       "  <tbody>\n",
       "    <tr>\n",
       "      <th>0</th>\n",
       "      <td>0.004199</td>\n",
       "      <td>-0.120170</td>\n",
       "      <td>-0.126649</td>\n",
       "      <td>-0.063994</td>\n",
       "      <td>0.067439</td>\n",
       "      <td>0.129863</td>\n",
       "      <td>0.512314</td>\n",
       "    </tr>\n",
       "    <tr>\n",
       "      <th>1</th>\n",
       "      <td>6.109354</td>\n",
       "      <td>22.719222</td>\n",
       "      <td>6.424920</td>\n",
       "      <td>-0.221121</td>\n",
       "      <td>0.735808</td>\n",
       "      <td>2.137036</td>\n",
       "      <td>38.347460</td>\n",
       "    </tr>\n",
       "  </tbody>\n",
       "</table>\n",
       "</div>"
      ],
      "text/plain": [
       "          0          1         2         3         4         5     Score1\n",
       "0  0.004199  -0.120170 -0.126649 -0.063994  0.067439  0.129863   0.512314\n",
       "1  6.109354  22.719222  6.424920 -0.221121  0.735808  2.137036  38.347460"
      ]
     },
     "execution_count": 31,
     "metadata": {},
     "output_type": "execute_result"
    }
   ],
   "source": [
    "myData9.head(2)"
   ]
  },
  {
   "cell_type": "markdown",
   "metadata": {},
   "source": [
    "## autoencoder error"
   ]
  },
  {
   "cell_type": "code",
   "execution_count": 32,
   "metadata": {
    "scrolled": true
   },
   "outputs": [
    {
     "name": "stdout",
     "output_type": "stream",
     "text": [
      "Requirement already satisfied: keras in /Users/yifengwang/anaconda3/lib/python3.7/site-packages (2.2.4)\n",
      "Requirement already satisfied: keras-applications>=1.0.6 in /Users/yifengwang/anaconda3/lib/python3.7/site-packages (from keras) (1.0.7)\n",
      "Requirement already satisfied: keras-preprocessing>=1.0.5 in /Users/yifengwang/anaconda3/lib/python3.7/site-packages (from keras) (1.0.9)\n",
      "Requirement already satisfied: pyyaml in /Users/yifengwang/anaconda3/lib/python3.7/site-packages (from keras) (3.13)\n",
      "Requirement already satisfied: h5py in /Users/yifengwang/anaconda3/lib/python3.7/site-packages (from keras) (2.8.0)\n",
      "Requirement already satisfied: numpy>=1.9.1 in /Users/yifengwang/anaconda3/lib/python3.7/site-packages (from keras) (1.15.4)\n",
      "Requirement already satisfied: scipy>=0.14 in /Users/yifengwang/.local/lib/python3.7/site-packages (from keras) (1.2.0)\n",
      "Requirement already satisfied: six>=1.9.0 in /Users/yifengwang/anaconda3/lib/python3.7/site-packages (from keras) (1.12.0)\n",
      "Requirement already satisfied: Tensorflow in /Users/yifengwang/anaconda3/lib/python3.7/site-packages (1.13.0rc2)\n",
      "Requirement already satisfied: absl-py>=0.1.6 in /Users/yifengwang/anaconda3/lib/python3.7/site-packages (from Tensorflow) (0.7.0)\n",
      "Requirement already satisfied: astor>=0.6.0 in /Users/yifengwang/anaconda3/lib/python3.7/site-packages (from Tensorflow) (0.7.1)\n",
      "Requirement already satisfied: wheel>=0.26 in /Users/yifengwang/anaconda3/lib/python3.7/site-packages (from Tensorflow) (0.32.3)\n",
      "Requirement already satisfied: termcolor>=1.1.0 in /Users/yifengwang/anaconda3/lib/python3.7/site-packages (from Tensorflow) (1.1.0)\n",
      "Requirement already satisfied: keras-preprocessing>=1.0.5 in /Users/yifengwang/anaconda3/lib/python3.7/site-packages (from Tensorflow) (1.0.9)\n",
      "Requirement already satisfied: tensorboard<1.13.0,>=1.12.0 in /Users/yifengwang/anaconda3/lib/python3.7/site-packages (from Tensorflow) (1.12.2)\n",
      "Requirement already satisfied: gast>=0.2.0 in /Users/yifengwang/anaconda3/lib/python3.7/site-packages (from Tensorflow) (0.2.2)\n",
      "Requirement already satisfied: keras-applications>=1.0.6 in /Users/yifengwang/anaconda3/lib/python3.7/site-packages (from Tensorflow) (1.0.7)\n",
      "Requirement already satisfied: grpcio>=1.8.6 in /Users/yifengwang/anaconda3/lib/python3.7/site-packages (from Tensorflow) (1.18.0)\n",
      "Requirement already satisfied: tensorflow-estimator<1.14.0rc0,>=1.13.0rc0 in /Users/yifengwang/anaconda3/lib/python3.7/site-packages (from Tensorflow) (1.13.0rc0)\n",
      "Requirement already satisfied: protobuf>=3.6.1 in /Users/yifengwang/anaconda3/lib/python3.7/site-packages (from Tensorflow) (3.6.1)\n",
      "Requirement already satisfied: six>=1.10.0 in /Users/yifengwang/anaconda3/lib/python3.7/site-packages (from Tensorflow) (1.12.0)\n",
      "Requirement already satisfied: numpy>=1.13.3 in /Users/yifengwang/anaconda3/lib/python3.7/site-packages (from Tensorflow) (1.15.4)\n",
      "Requirement already satisfied: werkzeug>=0.11.10 in /Users/yifengwang/anaconda3/lib/python3.7/site-packages (from tensorboard<1.13.0,>=1.12.0->Tensorflow) (0.14.1)\n",
      "Requirement already satisfied: markdown>=2.6.8 in /Users/yifengwang/anaconda3/lib/python3.7/site-packages (from tensorboard<1.13.0,>=1.12.0->Tensorflow) (3.0.1)\n",
      "Requirement already satisfied: h5py in /Users/yifengwang/anaconda3/lib/python3.7/site-packages (from keras-applications>=1.0.6->Tensorflow) (2.8.0)\n",
      "Requirement already satisfied: mock>=2.0.0 in /Users/yifengwang/anaconda3/lib/python3.7/site-packages (from tensorflow-estimator<1.14.0rc0,>=1.13.0rc0->Tensorflow) (2.0.0)\n",
      "Requirement already satisfied: setuptools in /Users/yifengwang/anaconda3/lib/python3.7/site-packages (from protobuf>=3.6.1->Tensorflow) (40.6.3)\n",
      "Requirement already satisfied: pbr>=0.11 in /Users/yifengwang/anaconda3/lib/python3.7/site-packages (from mock>=2.0.0->tensorflow-estimator<1.14.0rc0,>=1.13.0rc0->Tensorflow) (5.1.2)\n"
     ]
    }
   ],
   "source": [
    "!pip install keras\n",
    "!pip install Tensorflow"
   ]
  },
  {
   "cell_type": "code",
   "execution_count": 33,
   "metadata": {},
   "outputs": [],
   "source": [
    "from keras.models import Model, load_model\n",
    "from keras.layers import Input, Dense\n",
    "from keras.callbacks import ModelCheckpoint, TensorBoard\n",
    "from keras import regularizers"
   ]
  },
  {
   "cell_type": "code",
   "execution_count": 34,
   "metadata": {},
   "outputs": [],
   "source": [
    "from sklearn.model_selection import train_test_split\n",
    "seed = 46\n",
    "data_train, data_test = train_test_split(myData8, test_size=0.2, random_state=seed)"
   ]
  },
  {
   "cell_type": "code",
   "execution_count": 35,
   "metadata": {},
   "outputs": [
    {
     "data": {
      "text/plain": [
       "(856795, 6)"
      ]
     },
     "execution_count": 35,
     "metadata": {},
     "output_type": "execute_result"
    }
   ],
   "source": [
    "data_train.shape"
   ]
  },
  {
   "cell_type": "code",
   "execution_count": 36,
   "metadata": {},
   "outputs": [
    {
     "data": {
      "text/plain": [
       "(214199, 6)"
      ]
     },
     "execution_count": 36,
     "metadata": {},
     "output_type": "execute_result"
    }
   ],
   "source": [
    "data_test.shape"
   ]
  },
  {
   "cell_type": "code",
   "execution_count": 37,
   "metadata": {},
   "outputs": [],
   "source": [
    "input_dim =data_train.shape[1]\n",
    "encoding_dim = int(input_dim/2)"
   ]
  },
  {
   "cell_type": "code",
   "execution_count": 38,
   "metadata": {},
   "outputs": [],
   "source": [
    "input_layer = Input(shape=(input_dim, ))\n",
    "encoder = Dense(encoding_dim, activation=\"tanh\", \n",
    "                activity_regularizer=regularizers.l1(10e-5))(input_layer)\n",
    "encoder = Dense(int(encoding_dim / 2), activation=\"relu\")(encoder)\n",
    "decoder = Dense(int(encoding_dim / 2), activation='tanh')(encoder)\n",
    "decoder = Dense(input_dim, activation='relu')(decoder)\n",
    "autoencoder = Model(inputs=input_layer, outputs=decoder)"
   ]
  },
  {
   "cell_type": "code",
   "execution_count": 39,
   "metadata": {
    "scrolled": true
   },
   "outputs": [
    {
     "name": "stdout",
     "output_type": "stream",
     "text": [
      "Train on 856795 samples, validate on 214199 samples\n",
      "Epoch 1/50\n",
      "856795/856795 [==============================] - 2s 3us/step - loss: 0.7680 - acc: 0.1803 - val_loss: 1.9237 - val_acc: 0.0877\n",
      "Epoch 2/50\n",
      "856795/856795 [==============================] - 2s 2us/step - loss: 0.7600 - acc: 0.0943 - val_loss: 1.9183 - val_acc: 0.0944\n",
      "Epoch 3/50\n",
      "856795/856795 [==============================] - 2s 2us/step - loss: 0.7570 - acc: 0.0940 - val_loss: 1.9160 - val_acc: 0.0940\n",
      "Epoch 4/50\n",
      "856795/856795 [==============================] - 2s 2us/step - loss: 0.7549 - acc: 0.0924 - val_loss: 1.9137 - val_acc: 0.0917\n",
      "Epoch 5/50\n",
      "856795/856795 [==============================] - 2s 2us/step - loss: 0.7532 - acc: 0.0910 - val_loss: 1.9116 - val_acc: 0.0918\n",
      "Epoch 6/50\n",
      "856795/856795 [==============================] - 2s 2us/step - loss: 0.7517 - acc: 0.0914 - val_loss: 1.9100 - val_acc: 0.0904\n",
      "Epoch 7/50\n",
      "856795/856795 [==============================] - 2s 2us/step - loss: 0.7504 - acc: 0.0903 - val_loss: 1.9084 - val_acc: 0.0919\n",
      "Epoch 8/50\n",
      "856795/856795 [==============================] - 2s 2us/step - loss: 0.7493 - acc: 0.0906 - val_loss: 1.9070 - val_acc: 0.0906\n",
      "Epoch 9/50\n",
      "856795/856795 [==============================] - 2s 2us/step - loss: 0.7483 - acc: 0.0893 - val_loss: 1.9057 - val_acc: 0.0868\n",
      "Epoch 10/50\n",
      "856795/856795 [==============================] - 2s 2us/step - loss: 0.7474 - acc: 0.0886 - val_loss: 1.9045 - val_acc: 0.0882\n",
      "Epoch 11/50\n",
      "856795/856795 [==============================] - 2s 2us/step - loss: 0.7465 - acc: 0.0875 - val_loss: 1.9049 - val_acc: 0.0885\n",
      "Epoch 12/50\n",
      "856795/856795 [==============================] - 2s 3us/step - loss: 0.7457 - acc: 0.0880 - val_loss: 1.9022 - val_acc: 0.0873\n",
      "Epoch 13/50\n",
      "856795/856795 [==============================] - 2s 3us/step - loss: 0.7449 - acc: 0.0865 - val_loss: 1.9010 - val_acc: 0.0865\n",
      "Epoch 14/50\n",
      "856795/856795 [==============================] - 3s 3us/step - loss: 0.7441 - acc: 0.0861 - val_loss: 1.8999 - val_acc: 0.0824\n",
      "Epoch 15/50\n",
      "856795/856795 [==============================] - 2s 3us/step - loss: 0.7437 - acc: 0.0846 - val_loss: 1.8991 - val_acc: 0.0852\n",
      "Epoch 16/50\n",
      "856795/856795 [==============================] - 2s 2us/step - loss: 0.7430 - acc: 0.0795 - val_loss: 1.8981 - val_acc: 0.0891\n",
      "Epoch 17/50\n",
      "856795/856795 [==============================] - 2s 2us/step - loss: 0.7420 - acc: 0.0838 - val_loss: 1.8970 - val_acc: 0.0813\n",
      "Epoch 18/50\n",
      "856795/856795 [==============================] - 2s 2us/step - loss: 0.7414 - acc: 0.0823 - val_loss: 1.8960 - val_acc: 0.0836\n",
      "Epoch 19/50\n",
      "856795/856795 [==============================] - 2s 3us/step - loss: 0.7407 - acc: 0.0809 - val_loss: 1.8951 - val_acc: 0.0796\n",
      "Epoch 20/50\n",
      "856795/856795 [==============================] - 2s 2us/step - loss: 0.7401 - acc: 0.0810 - val_loss: 1.8943 - val_acc: 0.0840\n",
      "Epoch 21/50\n",
      "856795/856795 [==============================] - 2s 2us/step - loss: 0.7396 - acc: 0.0801 - val_loss: 1.8933 - val_acc: 0.0759\n",
      "Epoch 22/50\n",
      "856795/856795 [==============================] - 2s 2us/step - loss: 0.7393 - acc: 0.0778 - val_loss: 1.8925 - val_acc: 0.0784\n",
      "Epoch 23/50\n",
      "856795/856795 [==============================] - 2s 2us/step - loss: 0.7383 - acc: 0.0763 - val_loss: 1.8916 - val_acc: 0.0779\n",
      "Epoch 24/50\n",
      "856795/856795 [==============================] - 2s 2us/step - loss: 0.7378 - acc: 0.0773 - val_loss: 1.8906 - val_acc: 0.0811\n",
      "Epoch 25/50\n",
      "856795/856795 [==============================] - 2s 3us/step - loss: 0.7372 - acc: 0.0767 - val_loss: 1.8899 - val_acc: 0.0756\n",
      "Epoch 26/50\n",
      "856795/856795 [==============================] - 2s 2us/step - loss: 0.7367 - acc: 0.0762 - val_loss: 1.8891 - val_acc: 0.0829\n",
      "Epoch 27/50\n",
      "856795/856795 [==============================] - 2s 2us/step - loss: 0.7363 - acc: 0.0761 - val_loss: 1.8881 - val_acc: 0.0775\n",
      "Epoch 28/50\n",
      "856795/856795 [==============================] - 2s 3us/step - loss: 0.7357 - acc: 0.0754 - val_loss: 1.8873 - val_acc: 0.0690\n",
      "Epoch 29/50\n",
      "856795/856795 [==============================] - 2s 2us/step - loss: 0.7352 - acc: 0.0738 - val_loss: 1.8865 - val_acc: 0.0686\n",
      "Epoch 30/50\n",
      "856795/856795 [==============================] - 2s 2us/step - loss: 0.7348 - acc: 0.0734 - val_loss: 1.8858 - val_acc: 0.0728\n",
      "Epoch 31/50\n",
      "856795/856795 [==============================] - 2s 2us/step - loss: 0.7344 - acc: 0.0730 - val_loss: 1.8864 - val_acc: 0.0789\n",
      "Epoch 32/50\n",
      "856795/856795 [==============================] - 2s 2us/step - loss: 0.7348 - acc: 0.0697 - val_loss: 1.8844 - val_acc: 0.0720\n",
      "Epoch 33/50\n",
      "856795/856795 [==============================] - 2s 2us/step - loss: 0.7339 - acc: 0.0699 - val_loss: 1.8835 - val_acc: 0.0615\n",
      "Epoch 34/50\n",
      "856795/856795 [==============================] - 2s 2us/step - loss: 0.7330 - acc: 0.0692 - val_loss: 1.8839 - val_acc: 0.0771\n",
      "Epoch 35/50\n",
      "856795/856795 [==============================] - 2s 2us/step - loss: 0.7329 - acc: 0.0706 - val_loss: 1.8834 - val_acc: 0.0763\n",
      "Epoch 36/50\n",
      "856795/856795 [==============================] - 2s 2us/step - loss: 0.7343 - acc: 0.0671 - val_loss: 1.8816 - val_acc: 0.0706\n",
      "Epoch 37/50\n",
      "856795/856795 [==============================] - 2s 2us/step - loss: 0.7318 - acc: 0.0669 - val_loss: 1.8810 - val_acc: 0.0730\n",
      "Epoch 38/50\n",
      "856795/856795 [==============================] - 2s 2us/step - loss: 0.7343 - acc: 0.0404 - val_loss: 1.8839 - val_acc: 0.0140\n",
      "Epoch 39/50\n",
      "856795/856795 [==============================] - 2s 2us/step - loss: 0.7314 - acc: 0.0599 - val_loss: 1.8800 - val_acc: 0.0656\n",
      "Epoch 40/50\n",
      "856795/856795 [==============================] - 2s 2us/step - loss: 0.7341 - acc: 0.0427 - val_loss: 1.8807 - val_acc: 0.0824\n",
      "Epoch 41/50\n",
      "856795/856795 [==============================] - 2s 2us/step - loss: 0.7310 - acc: 0.0674 - val_loss: 1.8787 - val_acc: 0.0574\n",
      "Epoch 42/50\n",
      "856795/856795 [==============================] - 2s 2us/step - loss: 0.7300 - acc: 0.0641 - val_loss: 1.8777 - val_acc: 0.0698\n",
      "Epoch 43/50\n",
      "856795/856795 [==============================] - 2s 2us/step - loss: 0.7301 - acc: 0.0640 - val_loss: 1.8975 - val_acc: 0.0147\n",
      "Epoch 44/50\n",
      "856795/856795 [==============================] - 2s 2us/step - loss: 0.7335 - acc: 0.0578 - val_loss: 1.8783 - val_acc: 0.0785\n",
      "Epoch 45/50\n",
      "856795/856795 [==============================] - 2s 2us/step - loss: 0.7299 - acc: 0.0660 - val_loss: 1.8767 - val_acc: 0.0661\n",
      "Epoch 46/50\n",
      "856795/856795 [==============================] - 2s 2us/step - loss: 0.7291 - acc: 0.0663 - val_loss: 1.8756 - val_acc: 0.0586\n",
      "Epoch 47/50\n",
      "856795/856795 [==============================] - 2s 2us/step - loss: 0.7288 - acc: 0.0650 - val_loss: 1.8761 - val_acc: 0.0717\n",
      "Epoch 48/50\n",
      "856795/856795 [==============================] - 2s 2us/step - loss: 0.7285 - acc: 0.0676 - val_loss: 1.8751 - val_acc: 0.0759\n",
      "Epoch 49/50\n",
      "856795/856795 [==============================] - 2s 2us/step - loss: 0.7278 - acc: 0.0620 - val_loss: 1.8736 - val_acc: 0.0672\n",
      "Epoch 50/50\n",
      "856795/856795 [==============================] - 2s 2us/step - loss: 0.7286 - acc: 0.0586 - val_loss: 1.8738 - val_acc: 0.0672\n"
     ]
    }
   ],
   "source": [
    "nb_epoch = 50\n",
    "batch_size = 500\n",
    "autoencoder.compile(optimizer='adam', \n",
    "                    loss='mean_squared_error', \n",
    "                    metrics=['accuracy'])\n",
    "history = autoencoder.fit(data_train, data_train,\n",
    "                    epochs=nb_epoch,\n",
    "                    batch_size=batch_size,\n",
    "                    shuffle=True,\n",
    "                    validation_data=(data_test, data_test),\n",
    "                    verbose=1)"
   ]
  },
  {
   "cell_type": "code",
   "execution_count": 40,
   "metadata": {},
   "outputs": [
    {
     "data": {
      "image/png": "[encoded data removed]",
      "text/plain": [
       "<Figure size 432x288 with 1 Axes>"
      ]
     },
     "metadata": {
      "needs_background": "light"
     },
     "output_type": "display_data"
    }
   ],
   "source": [
    "plt.plot(history.history['loss'])\n",
    "plt.plot(history.history['val_loss'])\n",
    "plt.title('model loss')\n",
    "plt.ylabel('loss')\n",
    "plt.xlabel('epoch')\n",
    "plt.legend(['train', 'test'], loc='upper right')\n",
    "plt.show()"
   ]
  },
  {
   "cell_type": "code",
   "execution_count": 41,
   "metadata": {},
   "outputs": [
    {
     "data": {
      "text/plain": [
       "array([[0.0000000e+00, 8.7358952e-03, 0.0000000e+00, 0.0000000e+00,\n",
       "        0.0000000e+00, 0.0000000e+00],\n",
       "       [1.5661048e+01, 5.7779078e+00, 0.0000000e+00, 0.0000000e+00,\n",
       "        0.0000000e+00, 0.0000000e+00],\n",
       "       [0.0000000e+00, 2.3977280e-02, 0.0000000e+00, 0.0000000e+00,\n",
       "        0.0000000e+00, 0.0000000e+00],\n",
       "       ...,\n",
       "       [0.0000000e+00, 0.0000000e+00, 0.0000000e+00, 0.0000000e+00,\n",
       "        0.0000000e+00, 0.0000000e+00],\n",
       "       [0.0000000e+00, 1.5385151e-03, 0.0000000e+00, 0.0000000e+00,\n",
       "        0.0000000e+00, 0.0000000e+00],\n",
       "       [0.0000000e+00, 4.1437149e-03, 0.0000000e+00, 0.0000000e+00,\n",
       "        0.0000000e+00, 0.0000000e+00]], dtype=float32)"
      ]
     },
     "execution_count": 41,
     "metadata": {},
     "output_type": "execute_result"
    }
   ],
   "source": [
    "predictions = autoencoder.predict(myData8)\n",
    "predictions"
   ]
  },
  {
   "cell_type": "code",
   "execution_count": 42,
   "metadata": {},
   "outputs": [
    {
     "data": {
      "text/html": [
       "<div>\n",
       "<style scoped>\n",
       "    .dataframe tbody tr th:only-of-type {\n",
       "        vertical-align: middle;\n",
       "    }\n",
       "\n",
       "    .dataframe tbody tr th {\n",
       "        vertical-align: top;\n",
       "    }\n",
       "\n",
       "    .dataframe thead th {\n",
       "        text-align: right;\n",
       "    }\n",
       "</style>\n",
       "<table border=\"1\" class=\"dataframe\">\n",
       "  <thead>\n",
       "    <tr style=\"text-align: right;\">\n",
       "      <th></th>\n",
       "      <th>0</th>\n",
       "      <th>1</th>\n",
       "      <th>2</th>\n",
       "      <th>3</th>\n",
       "      <th>4</th>\n",
       "      <th>5</th>\n",
       "    </tr>\n",
       "  </thead>\n",
       "  <tbody>\n",
       "    <tr>\n",
       "      <th>0</th>\n",
       "      <td>0.000000</td>\n",
       "      <td>0.008736</td>\n",
       "      <td>0.0</td>\n",
       "      <td>0.0</td>\n",
       "      <td>0.0</td>\n",
       "      <td>0.0</td>\n",
       "    </tr>\n",
       "    <tr>\n",
       "      <th>1</th>\n",
       "      <td>15.661048</td>\n",
       "      <td>5.777908</td>\n",
       "      <td>0.0</td>\n",
       "      <td>0.0</td>\n",
       "      <td>0.0</td>\n",
       "      <td>0.0</td>\n",
       "    </tr>\n",
       "    <tr>\n",
       "      <th>2</th>\n",
       "      <td>0.000000</td>\n",
       "      <td>0.023977</td>\n",
       "      <td>0.0</td>\n",
       "      <td>0.0</td>\n",
       "      <td>0.0</td>\n",
       "      <td>0.0</td>\n",
       "    </tr>\n",
       "    <tr>\n",
       "      <th>3</th>\n",
       "      <td>0.000000</td>\n",
       "      <td>0.022347</td>\n",
       "      <td>0.0</td>\n",
       "      <td>0.0</td>\n",
       "      <td>0.0</td>\n",
       "      <td>0.0</td>\n",
       "    </tr>\n",
       "    <tr>\n",
       "      <th>4</th>\n",
       "      <td>12.062043</td>\n",
       "      <td>4.456103</td>\n",
       "      <td>0.0</td>\n",
       "      <td>0.0</td>\n",
       "      <td>0.0</td>\n",
       "      <td>0.0</td>\n",
       "    </tr>\n",
       "  </tbody>\n",
       "</table>\n",
       "</div>"
      ],
      "text/plain": [
       "           0         1    2    3    4    5\n",
       "0   0.000000  0.008736  0.0  0.0  0.0  0.0\n",
       "1  15.661048  5.777908  0.0  0.0  0.0  0.0\n",
       "2   0.000000  0.023977  0.0  0.0  0.0  0.0\n",
       "3   0.000000  0.022347  0.0  0.0  0.0  0.0\n",
       "4  12.062043  4.456103  0.0  0.0  0.0  0.0"
      ]
     },
     "execution_count": 42,
     "metadata": {},
     "output_type": "execute_result"
    }
   ],
   "source": [
    "pre =pd.DataFrame(predictions)\n",
    "pre.head(5)"
   ]
  },
  {
   "cell_type": "code",
   "execution_count": 43,
   "metadata": {},
   "outputs": [
    {
     "data": {
      "text/html": [
       "<div>\n",
       "<style scoped>\n",
       "    .dataframe tbody tr th:only-of-type {\n",
       "        vertical-align: middle;\n",
       "    }\n",
       "\n",
       "    .dataframe tbody tr th {\n",
       "        vertical-align: top;\n",
       "    }\n",
       "\n",
       "    .dataframe thead th {\n",
       "        text-align: right;\n",
       "    }\n",
       "</style>\n",
       "<table border=\"1\" class=\"dataframe\">\n",
       "  <thead>\n",
       "    <tr style=\"text-align: right;\">\n",
       "      <th></th>\n",
       "      <th>0</th>\n",
       "      <th>1</th>\n",
       "      <th>2</th>\n",
       "      <th>3</th>\n",
       "      <th>4</th>\n",
       "      <th>5</th>\n",
       "      <th>s2</th>\n",
       "    </tr>\n",
       "  </thead>\n",
       "  <tbody>\n",
       "    <tr>\n",
       "      <th>0</th>\n",
       "      <td>0.004199</td>\n",
       "      <td>0.128906</td>\n",
       "      <td>0.126649</td>\n",
       "      <td>0.063994</td>\n",
       "      <td>0.067439</td>\n",
       "      <td>0.129863</td>\n",
       "      <td>0.521050</td>\n",
       "    </tr>\n",
       "    <tr>\n",
       "      <th>1</th>\n",
       "      <td>9.551694</td>\n",
       "      <td>16.941314</td>\n",
       "      <td>6.424920</td>\n",
       "      <td>0.221121</td>\n",
       "      <td>0.735808</td>\n",
       "      <td>2.137036</td>\n",
       "      <td>36.011893</td>\n",
       "    </tr>\n",
       "    <tr>\n",
       "      <th>2</th>\n",
       "      <td>0.008008</td>\n",
       "      <td>0.062135</td>\n",
       "      <td>0.073528</td>\n",
       "      <td>0.001193</td>\n",
       "      <td>0.140935</td>\n",
       "      <td>0.137290</td>\n",
       "      <td>0.423089</td>\n",
       "    </tr>\n",
       "    <tr>\n",
       "      <th>3</th>\n",
       "      <td>0.063215</td>\n",
       "      <td>0.122062</td>\n",
       "      <td>0.094958</td>\n",
       "      <td>0.105938</td>\n",
       "      <td>0.023812</td>\n",
       "      <td>0.069026</td>\n",
       "      <td>0.479011</td>\n",
       "    </tr>\n",
       "    <tr>\n",
       "      <th>4</th>\n",
       "      <td>1.074257</td>\n",
       "      <td>10.360090</td>\n",
       "      <td>1.005213</td>\n",
       "      <td>16.463523</td>\n",
       "      <td>15.612072</td>\n",
       "      <td>5.671343</td>\n",
       "      <td>50.186499</td>\n",
       "    </tr>\n",
       "  </tbody>\n",
       "</table>\n",
       "</div>"
      ],
      "text/plain": [
       "          0          1         2          3          4         5         s2\n",
       "0  0.004199   0.128906  0.126649   0.063994   0.067439  0.129863   0.521050\n",
       "1  9.551694  16.941314  6.424920   0.221121   0.735808  2.137036  36.011893\n",
       "2  0.008008   0.062135  0.073528   0.001193   0.140935  0.137290   0.423089\n",
       "3  0.063215   0.122062  0.094958   0.105938   0.023812  0.069026   0.479011\n",
       "4  1.074257  10.360090  1.005213  16.463523  15.612072  5.671343  50.186499"
      ]
     },
     "execution_count": 43,
     "metadata": {},
     "output_type": "execute_result"
    }
   ],
   "source": [
    "s2 = abs(myData8 - predictions)\n",
    "s2['s2'] = s2.sum(axis=1)\n",
    "s2.head()"
   ]
  },
  {
   "cell_type": "code",
   "execution_count": 44,
   "metadata": {},
   "outputs": [],
   "source": [
    "myData9['Score2'] = s2['s2']"
   ]
  },
  {
   "cell_type": "code",
   "execution_count": 45,
   "metadata": {},
   "outputs": [
    {
     "data": {
      "text/html": [
       "<div>\n",
       "<style scoped>\n",
       "    .dataframe tbody tr th:only-of-type {\n",
       "        vertical-align: middle;\n",
       "    }\n",
       "\n",
       "    .dataframe tbody tr th {\n",
       "        vertical-align: top;\n",
       "    }\n",
       "\n",
       "    .dataframe thead th {\n",
       "        text-align: right;\n",
       "    }\n",
       "</style>\n",
       "<table border=\"1\" class=\"dataframe\">\n",
       "  <thead>\n",
       "    <tr style=\"text-align: right;\">\n",
       "      <th></th>\n",
       "      <th>0</th>\n",
       "      <th>1</th>\n",
       "      <th>2</th>\n",
       "      <th>3</th>\n",
       "      <th>4</th>\n",
       "      <th>5</th>\n",
       "      <th>Score1</th>\n",
       "      <th>Score2</th>\n",
       "    </tr>\n",
       "  </thead>\n",
       "  <tbody>\n",
       "    <tr>\n",
       "      <th>0</th>\n",
       "      <td>0.004199</td>\n",
       "      <td>-0.120170</td>\n",
       "      <td>-0.126649</td>\n",
       "      <td>-0.063994</td>\n",
       "      <td>0.067439</td>\n",
       "      <td>0.129863</td>\n",
       "      <td>0.512314</td>\n",
       "      <td>0.521050</td>\n",
       "    </tr>\n",
       "    <tr>\n",
       "      <th>1</th>\n",
       "      <td>6.109354</td>\n",
       "      <td>22.719222</td>\n",
       "      <td>6.424920</td>\n",
       "      <td>-0.221121</td>\n",
       "      <td>0.735808</td>\n",
       "      <td>2.137036</td>\n",
       "      <td>38.347460</td>\n",
       "      <td>36.011893</td>\n",
       "    </tr>\n",
       "    <tr>\n",
       "      <th>2</th>\n",
       "      <td>0.008008</td>\n",
       "      <td>0.086112</td>\n",
       "      <td>-0.073528</td>\n",
       "      <td>-0.001193</td>\n",
       "      <td>0.140935</td>\n",
       "      <td>-0.137290</td>\n",
       "      <td>0.447066</td>\n",
       "      <td>0.423089</td>\n",
       "    </tr>\n",
       "    <tr>\n",
       "      <th>3</th>\n",
       "      <td>0.063215</td>\n",
       "      <td>-0.099715</td>\n",
       "      <td>-0.094958</td>\n",
       "      <td>-0.105938</td>\n",
       "      <td>-0.023812</td>\n",
       "      <td>-0.069026</td>\n",
       "      <td>0.456664</td>\n",
       "      <td>0.479011</td>\n",
       "    </tr>\n",
       "    <tr>\n",
       "      <th>4</th>\n",
       "      <td>13.136300</td>\n",
       "      <td>-5.903987</td>\n",
       "      <td>-1.005213</td>\n",
       "      <td>-16.463523</td>\n",
       "      <td>-15.612072</td>\n",
       "      <td>-5.671343</td>\n",
       "      <td>57.792439</td>\n",
       "      <td>50.186499</td>\n",
       "    </tr>\n",
       "  </tbody>\n",
       "</table>\n",
       "</div>"
      ],
      "text/plain": [
       "           0          1         2          3          4         5     Score1  \\\n",
       "0   0.004199  -0.120170 -0.126649  -0.063994   0.067439  0.129863   0.512314   \n",
       "1   6.109354  22.719222  6.424920  -0.221121   0.735808  2.137036  38.347460   \n",
       "2   0.008008   0.086112 -0.073528  -0.001193   0.140935 -0.137290   0.447066   \n",
       "3   0.063215  -0.099715 -0.094958  -0.105938  -0.023812 -0.069026   0.456664   \n",
       "4  13.136300  -5.903987 -1.005213 -16.463523 -15.612072 -5.671343  57.792439   \n",
       "\n",
       "      Score2  \n",
       "0   0.521050  \n",
       "1  36.011893  \n",
       "2   0.423089  \n",
       "3   0.479011  \n",
       "4  50.186499  "
      ]
     },
     "execution_count": 45,
     "metadata": {},
     "output_type": "execute_result"
    }
   ],
   "source": [
    "myData9.head(5)"
   ]
  },
  {
   "cell_type": "markdown",
   "metadata": {},
   "source": [
    "# Combine scores"
   ]
  },
  {
   "cell_type": "code",
   "execution_count": 46,
   "metadata": {},
   "outputs": [],
   "source": [
    "myData9['Score1_Rank'] = myData9['Score1'].rank(ascending = 0)"
   ]
  },
  {
   "cell_type": "code",
   "execution_count": 49,
   "metadata": {},
   "outputs": [],
   "source": [
    "myData9['Score2_Rank'] = myData9['Score2'].rank(ascending = 0)"
   ]
  },
  {
   "cell_type": "code",
   "execution_count": 219,
   "metadata": {},
   "outputs": [
    {
     "data": {
      "text/html": [
       "<div>\n",
       "<style scoped>\n",
       "    .dataframe tbody tr th:only-of-type {\n",
       "        vertical-align: middle;\n",
       "    }\n",
       "\n",
       "    .dataframe tbody tr th {\n",
       "        vertical-align: top;\n",
       "    }\n",
       "\n",
       "    .dataframe thead th {\n",
       "        text-align: right;\n",
       "    }\n",
       "</style>\n",
       "<table border=\"1\" class=\"dataframe\">\n",
       "  <thead>\n",
       "    <tr style=\"text-align: right;\">\n",
       "      <th></th>\n",
       "      <th>0</th>\n",
       "      <th>1</th>\n",
       "      <th>2</th>\n",
       "      <th>3</th>\n",
       "      <th>4</th>\n",
       "      <th>5</th>\n",
       "      <th>Score1</th>\n",
       "      <th>Score2</th>\n",
       "      <th>Score1_Rank</th>\n",
       "      <th>Score2_Rank</th>\n",
       "    </tr>\n",
       "  </thead>\n",
       "  <tbody>\n",
       "    <tr>\n",
       "      <th>0</th>\n",
       "      <td>0.004199</td>\n",
       "      <td>-0.120170</td>\n",
       "      <td>-0.126649</td>\n",
       "      <td>-0.063994</td>\n",
       "      <td>0.067439</td>\n",
       "      <td>0.129863</td>\n",
       "      <td>0.512314</td>\n",
       "      <td>0.521050</td>\n",
       "      <td>96825.0</td>\n",
       "      <td>86290.0</td>\n",
       "    </tr>\n",
       "    <tr>\n",
       "      <th>1</th>\n",
       "      <td>6.109354</td>\n",
       "      <td>22.719222</td>\n",
       "      <td>6.424920</td>\n",
       "      <td>-0.221121</td>\n",
       "      <td>0.735808</td>\n",
       "      <td>2.137036</td>\n",
       "      <td>38.347460</td>\n",
       "      <td>36.011893</td>\n",
       "      <td>354.0</td>\n",
       "      <td>341.0</td>\n",
       "    </tr>\n",
       "    <tr>\n",
       "      <th>2</th>\n",
       "      <td>0.008008</td>\n",
       "      <td>0.086112</td>\n",
       "      <td>-0.073528</td>\n",
       "      <td>-0.001193</td>\n",
       "      <td>0.140935</td>\n",
       "      <td>-0.137290</td>\n",
       "      <td>0.447066</td>\n",
       "      <td>0.423089</td>\n",
       "      <td>140797.0</td>\n",
       "      <td>191465.0</td>\n",
       "    </tr>\n",
       "    <tr>\n",
       "      <th>3</th>\n",
       "      <td>0.063215</td>\n",
       "      <td>-0.099715</td>\n",
       "      <td>-0.094958</td>\n",
       "      <td>-0.105938</td>\n",
       "      <td>-0.023812</td>\n",
       "      <td>-0.069026</td>\n",
       "      <td>0.456664</td>\n",
       "      <td>0.479011</td>\n",
       "      <td>123471.0</td>\n",
       "      <td>102714.0</td>\n",
       "    </tr>\n",
       "    <tr>\n",
       "      <th>4</th>\n",
       "      <td>13.136300</td>\n",
       "      <td>-5.903987</td>\n",
       "      <td>-1.005213</td>\n",
       "      <td>-16.463523</td>\n",
       "      <td>-15.612072</td>\n",
       "      <td>-5.671343</td>\n",
       "      <td>57.792439</td>\n",
       "      <td>50.186499</td>\n",
       "      <td>224.0</td>\n",
       "      <td>233.0</td>\n",
       "    </tr>\n",
       "  </tbody>\n",
       "</table>\n",
       "</div>"
      ],
      "text/plain": [
       "           0          1         2          3          4         5     Score1  \\\n",
       "0   0.004199  -0.120170 -0.126649  -0.063994   0.067439  0.129863   0.512314   \n",
       "1   6.109354  22.719222  6.424920  -0.221121   0.735808  2.137036  38.347460   \n",
       "2   0.008008   0.086112 -0.073528  -0.001193   0.140935 -0.137290   0.447066   \n",
       "3   0.063215  -0.099715 -0.094958  -0.105938  -0.023812 -0.069026   0.456664   \n",
       "4  13.136300  -5.903987 -1.005213 -16.463523 -15.612072 -5.671343  57.792439   \n",
       "\n",
       "      Score2  Score1_Rank  Score2_Rank  \n",
       "0   0.521050      96825.0      86290.0  \n",
       "1  36.011893        354.0        341.0  \n",
       "2   0.423089     140797.0     191465.0  \n",
       "3   0.479011     123471.0     102714.0  \n",
       "4  50.186499        224.0        233.0  "
      ]
     },
     "execution_count": 219,
     "metadata": {},
     "output_type": "execute_result"
    }
   ],
   "source": [
    "myData9.head(5)"
   ]
  },
  {
   "cell_type": "code",
   "execution_count": 220,
   "metadata": {},
   "outputs": [],
   "source": [
    "myData10  = myData9.copy()"
   ]
  },
  {
   "cell_type": "code",
   "execution_count": 221,
   "metadata": {},
   "outputs": [
    {
     "data": {
      "text/html": [
       "<div>\n",
       "<style scoped>\n",
       "    .dataframe tbody tr th:only-of-type {\n",
       "        vertical-align: middle;\n",
       "    }\n",
       "\n",
       "    .dataframe tbody tr th {\n",
       "        vertical-align: top;\n",
       "    }\n",
       "\n",
       "    .dataframe thead th {\n",
       "        text-align: right;\n",
       "    }\n",
       "</style>\n",
       "<table border=\"1\" class=\"dataframe\">\n",
       "  <thead>\n",
       "    <tr style=\"text-align: right;\">\n",
       "      <th></th>\n",
       "      <th>0</th>\n",
       "      <th>1</th>\n",
       "      <th>2</th>\n",
       "      <th>3</th>\n",
       "      <th>4</th>\n",
       "      <th>5</th>\n",
       "      <th>Score1</th>\n",
       "      <th>Score2</th>\n",
       "      <th>Score1_Rank</th>\n",
       "      <th>Score2_Rank</th>\n",
       "    </tr>\n",
       "  </thead>\n",
       "  <tbody>\n",
       "    <tr>\n",
       "      <th>0</th>\n",
       "      <td>0.004199</td>\n",
       "      <td>-0.120170</td>\n",
       "      <td>-0.126649</td>\n",
       "      <td>-0.063994</td>\n",
       "      <td>0.067439</td>\n",
       "      <td>0.129863</td>\n",
       "      <td>0.512314</td>\n",
       "      <td>0.521050</td>\n",
       "      <td>96825.0</td>\n",
       "      <td>86290.0</td>\n",
       "    </tr>\n",
       "    <tr>\n",
       "      <th>1</th>\n",
       "      <td>6.109354</td>\n",
       "      <td>22.719222</td>\n",
       "      <td>6.424920</td>\n",
       "      <td>-0.221121</td>\n",
       "      <td>0.735808</td>\n",
       "      <td>2.137036</td>\n",
       "      <td>38.347460</td>\n",
       "      <td>36.011893</td>\n",
       "      <td>354.0</td>\n",
       "      <td>341.0</td>\n",
       "    </tr>\n",
       "    <tr>\n",
       "      <th>2</th>\n",
       "      <td>0.008008</td>\n",
       "      <td>0.086112</td>\n",
       "      <td>-0.073528</td>\n",
       "      <td>-0.001193</td>\n",
       "      <td>0.140935</td>\n",
       "      <td>-0.137290</td>\n",
       "      <td>0.447066</td>\n",
       "      <td>0.423089</td>\n",
       "      <td>140797.0</td>\n",
       "      <td>191465.0</td>\n",
       "    </tr>\n",
       "    <tr>\n",
       "      <th>3</th>\n",
       "      <td>0.063215</td>\n",
       "      <td>-0.099715</td>\n",
       "      <td>-0.094958</td>\n",
       "      <td>-0.105938</td>\n",
       "      <td>-0.023812</td>\n",
       "      <td>-0.069026</td>\n",
       "      <td>0.456664</td>\n",
       "      <td>0.479011</td>\n",
       "      <td>123471.0</td>\n",
       "      <td>102714.0</td>\n",
       "    </tr>\n",
       "    <tr>\n",
       "      <th>4</th>\n",
       "      <td>13.136300</td>\n",
       "      <td>-5.903987</td>\n",
       "      <td>-1.005213</td>\n",
       "      <td>-16.463523</td>\n",
       "      <td>-15.612072</td>\n",
       "      <td>-5.671343</td>\n",
       "      <td>57.792439</td>\n",
       "      <td>50.186499</td>\n",
       "      <td>224.0</td>\n",
       "      <td>233.0</td>\n",
       "    </tr>\n",
       "  </tbody>\n",
       "</table>\n",
       "</div>"
      ],
      "text/plain": [
       "           0          1         2          3          4         5     Score1  \\\n",
       "0   0.004199  -0.120170 -0.126649  -0.063994   0.067439  0.129863   0.512314   \n",
       "1   6.109354  22.719222  6.424920  -0.221121   0.735808  2.137036  38.347460   \n",
       "2   0.008008   0.086112 -0.073528  -0.001193   0.140935 -0.137290   0.447066   \n",
       "3   0.063215  -0.099715 -0.094958  -0.105938  -0.023812 -0.069026   0.456664   \n",
       "4  13.136300  -5.903987 -1.005213 -16.463523 -15.612072 -5.671343  57.792439   \n",
       "\n",
       "      Score2  Score1_Rank  Score2_Rank  \n",
       "0   0.521050      96825.0      86290.0  \n",
       "1  36.011893        354.0        341.0  \n",
       "2   0.423089     140797.0     191465.0  \n",
       "3   0.479011     123471.0     102714.0  \n",
       "4  50.186499        224.0        233.0  "
      ]
     },
     "execution_count": 221,
     "metadata": {},
     "output_type": "execute_result"
    }
   ],
   "source": [
    "myData10.head(5)"
   ]
  },
  {
   "cell_type": "code",
   "execution_count": 222,
   "metadata": {},
   "outputs": [
    {
     "data": {
      "text/plain": [
       "\"def combine_score1 (x):\\n    return x[['Score1_Rank', 'Score2_Rank']].min\""
      ]
     },
     "execution_count": 222,
     "metadata": {},
     "output_type": "execute_result"
    }
   ],
   "source": [
    "'''def combine_score1 (x):\n",
    "    return x[['Score1_Rank', 'Score2_Rank']].min'''"
   ]
  },
  {
   "cell_type": "code",
   "execution_count": 223,
   "metadata": {},
   "outputs": [
    {
     "data": {
      "text/plain": [
       "\"%%time\\nmyData10['Final_Rank1'] = myData10.apply(combine_score1, axis = 1)\""
      ]
     },
     "execution_count": 223,
     "metadata": {},
     "output_type": "execute_result"
    }
   ],
   "source": [
    "'''%%time\n",
    "myData10['Final_Rank1'] = myData10.apply(combine_score1, axis = 1)'''"
   ]
  },
  {
   "cell_type": "code",
   "execution_count": 224,
   "metadata": {},
   "outputs": [
    {
     "name": "stdout",
     "output_type": "stream",
     "text": [
      "CPU times: user 60.6 ms, sys: 22.5 ms, total: 83.2 ms\n",
      "Wall time: 70.4 ms\n"
     ]
    }
   ],
   "source": [
    "%%time\n",
    "myData10['Final_Rank'] = myData10[['Score1_Rank', 'Score2_Rank']].min(axis = 1)"
   ]
  },
  {
   "cell_type": "code",
   "execution_count": 225,
   "metadata": {},
   "outputs": [],
   "source": [
    "def combine_score2 (x):\n",
    "    return min([x['Score1_Rank'], x['Score2_Rank']])"
   ]
  },
  {
   "cell_type": "code",
   "execution_count": 226,
   "metadata": {},
   "outputs": [
    {
     "data": {
      "text/plain": [
       "\"%%time\\nmyData10['Final_Rank3'] = myData10.apply(combine_score2, axis = 1)\""
      ]
     },
     "execution_count": 226,
     "metadata": {},
     "output_type": "execute_result"
    }
   ],
   "source": [
    "'''%%time\n",
    "myData10['Final_Rank3'] = myData10.apply(combine_score2, axis = 1)'''"
   ]
  },
  {
   "cell_type": "code",
   "execution_count": 227,
   "metadata": {},
   "outputs": [
    {
     "data": {
      "text/plain": [
       "\"%%time\\nfor index in myData10.index:\\n    myData10.loc[index,'Final_Rank4']  = min([myData10.loc[index,'Score1_Rank'], myData10.loc[index,'Score2_Rank']])\""
      ]
     },
     "execution_count": 227,
     "metadata": {},
     "output_type": "execute_result"
    }
   ],
   "source": [
    "'''%%time\n",
    "for index in myData10.index:\n",
    "    myData10.loc[index,'Final_Rank4']  = min([myData10.loc[index,'Score1_Rank'], myData10.loc[index,'Score2_Rank']])'''"
   ]
  },
  {
   "cell_type": "code",
   "execution_count": 228,
   "metadata": {},
   "outputs": [
    {
     "data": {
      "text/html": [
       "<div>\n",
       "<style scoped>\n",
       "    .dataframe tbody tr th:only-of-type {\n",
       "        vertical-align: middle;\n",
       "    }\n",
       "\n",
       "    .dataframe tbody tr th {\n",
       "        vertical-align: top;\n",
       "    }\n",
       "\n",
       "    .dataframe thead th {\n",
       "        text-align: right;\n",
       "    }\n",
       "</style>\n",
       "<table border=\"1\" class=\"dataframe\">\n",
       "  <thead>\n",
       "    <tr style=\"text-align: right;\">\n",
       "      <th></th>\n",
       "      <th>0</th>\n",
       "      <th>1</th>\n",
       "      <th>2</th>\n",
       "      <th>3</th>\n",
       "      <th>4</th>\n",
       "      <th>5</th>\n",
       "      <th>Score1</th>\n",
       "      <th>Score2</th>\n",
       "      <th>Score1_Rank</th>\n",
       "      <th>Score2_Rank</th>\n",
       "      <th>Final_Rank</th>\n",
       "    </tr>\n",
       "  </thead>\n",
       "  <tbody>\n",
       "    <tr>\n",
       "      <th>0</th>\n",
       "      <td>0.004199</td>\n",
       "      <td>-0.120170</td>\n",
       "      <td>-0.126649</td>\n",
       "      <td>-0.063994</td>\n",
       "      <td>0.067439</td>\n",
       "      <td>0.129863</td>\n",
       "      <td>0.512314</td>\n",
       "      <td>0.521050</td>\n",
       "      <td>96825.0</td>\n",
       "      <td>86290.0</td>\n",
       "      <td>86290.0</td>\n",
       "    </tr>\n",
       "    <tr>\n",
       "      <th>1</th>\n",
       "      <td>6.109354</td>\n",
       "      <td>22.719222</td>\n",
       "      <td>6.424920</td>\n",
       "      <td>-0.221121</td>\n",
       "      <td>0.735808</td>\n",
       "      <td>2.137036</td>\n",
       "      <td>38.347460</td>\n",
       "      <td>36.011893</td>\n",
       "      <td>354.0</td>\n",
       "      <td>341.0</td>\n",
       "      <td>341.0</td>\n",
       "    </tr>\n",
       "    <tr>\n",
       "      <th>2</th>\n",
       "      <td>0.008008</td>\n",
       "      <td>0.086112</td>\n",
       "      <td>-0.073528</td>\n",
       "      <td>-0.001193</td>\n",
       "      <td>0.140935</td>\n",
       "      <td>-0.137290</td>\n",
       "      <td>0.447066</td>\n",
       "      <td>0.423089</td>\n",
       "      <td>140797.0</td>\n",
       "      <td>191465.0</td>\n",
       "      <td>140797.0</td>\n",
       "    </tr>\n",
       "    <tr>\n",
       "      <th>3</th>\n",
       "      <td>0.063215</td>\n",
       "      <td>-0.099715</td>\n",
       "      <td>-0.094958</td>\n",
       "      <td>-0.105938</td>\n",
       "      <td>-0.023812</td>\n",
       "      <td>-0.069026</td>\n",
       "      <td>0.456664</td>\n",
       "      <td>0.479011</td>\n",
       "      <td>123471.0</td>\n",
       "      <td>102714.0</td>\n",
       "      <td>102714.0</td>\n",
       "    </tr>\n",
       "    <tr>\n",
       "      <th>4</th>\n",
       "      <td>13.136300</td>\n",
       "      <td>-5.903987</td>\n",
       "      <td>-1.005213</td>\n",
       "      <td>-16.463523</td>\n",
       "      <td>-15.612072</td>\n",
       "      <td>-5.671343</td>\n",
       "      <td>57.792439</td>\n",
       "      <td>50.186499</td>\n",
       "      <td>224.0</td>\n",
       "      <td>233.0</td>\n",
       "      <td>224.0</td>\n",
       "    </tr>\n",
       "  </tbody>\n",
       "</table>\n",
       "</div>"
      ],
      "text/plain": [
       "           0          1         2          3          4         5     Score1  \\\n",
       "0   0.004199  -0.120170 -0.126649  -0.063994   0.067439  0.129863   0.512314   \n",
       "1   6.109354  22.719222  6.424920  -0.221121   0.735808  2.137036  38.347460   \n",
       "2   0.008008   0.086112 -0.073528  -0.001193   0.140935 -0.137290   0.447066   \n",
       "3   0.063215  -0.099715 -0.094958  -0.105938  -0.023812 -0.069026   0.456664   \n",
       "4  13.136300  -5.903987 -1.005213 -16.463523 -15.612072 -5.671343  57.792439   \n",
       "\n",
       "      Score2  Score1_Rank  Score2_Rank  Final_Rank  \n",
       "0   0.521050      96825.0      86290.0     86290.0  \n",
       "1  36.011893        354.0        341.0       341.0  \n",
       "2   0.423089     140797.0     191465.0    140797.0  \n",
       "3   0.479011     123471.0     102714.0    102714.0  \n",
       "4  50.186499        224.0        233.0       224.0  "
      ]
     },
     "execution_count": 228,
     "metadata": {},
     "output_type": "execute_result"
    }
   ],
   "source": [
    "myData10.head(5)"
   ]
  },
  {
   "cell_type": "code",
   "execution_count": null,
   "metadata": {},
   "outputs": [],
   "source": []
  },
  {
   "cell_type": "code",
   "execution_count": 229,
   "metadata": {},
   "outputs": [
    {
     "data": {
      "image/png": "[encoded data removed]",
      "text/plain": [
       "<Figure size 432x288 with 1 Axes>"
      ]
     },
     "metadata": {
      "needs_background": "light"
     },
     "output_type": "display_data"
    }
   ],
   "source": [
    "ax = sns.distplot(myData10['Score1'],bins=100, kde=False)\n",
    "ax.set_yscale('log')\n",
    "plt.savefig('Score1_log.png')"
   ]
  },
  {
   "cell_type": "code",
   "execution_count": 230,
   "metadata": {},
   "outputs": [
    {
     "data": {
      "image/png": "[encoded data removed]",
      "text/plain": [
       "<Figure size 432x288 with 1 Axes>"
      ]
     },
     "metadata": {
      "needs_background": "light"
     },
     "output_type": "display_data"
    }
   ],
   "source": [
    "ax = sns.distplot(myData10['Score2'],bins=100, kde=False)\n",
    "ax.set_yscale('log')\n",
    "plt.savefig('Score2_log.png')"
   ]
  },
  {
   "cell_type": "code",
   "execution_count": 231,
   "metadata": {},
   "outputs": [
    {
     "data": {
      "image/png": "[encoded data removed]",
      "text/plain": [
       "<Figure size 432x288 with 1 Axes>"
      ]
     },
     "metadata": {
      "needs_background": "light"
     },
     "output_type": "display_data"
    }
   ],
   "source": [
    "ax = sns.distplot(myData10['Final_Rank'],bins=100, kde=False)\n",
    "ax.set_yscale('log')\n",
    "plt.savefig('ScoreFinal_log.png')"
   ]
  },
  {
   "cell_type": "code",
   "execution_count": null,
   "metadata": {},
   "outputs": [],
   "source": []
  },
  {
   "cell_type": "code",
   "execution_count": null,
   "metadata": {},
   "outputs": [],
   "source": []
  },
  {
   "cell_type": "code",
   "execution_count": null,
   "metadata": {},
   "outputs": [],
   "source": []
  },
  {
   "cell_type": "code",
   "execution_count": null,
   "metadata": {},
   "outputs": [],
   "source": []
  },
  {
   "cell_type": "code",
   "execution_count": null,
   "metadata": {},
   "outputs": [],
   "source": []
  },
  {
   "cell_type": "code",
   "execution_count": null,
   "metadata": {},
   "outputs": [],
   "source": []
  },
  {
   "cell_type": "code",
   "execution_count": 234,
   "metadata": {},
   "outputs": [],
   "source": [
    "myData10 = myData10[['Final_Rank']]"
   ]
  },
  {
   "cell_type": "code",
   "execution_count": 235,
   "metadata": {},
   "outputs": [],
   "source": [
    "myData10 = myData10.sort_values(by = ['Final_Rank']).copy()"
   ]
  },
  {
   "cell_type": "code",
   "execution_count": 236,
   "metadata": {},
   "outputs": [
    {
     "data": {
      "text/html": [
       "<div>\n",
       "<style scoped>\n",
       "    .dataframe tbody tr th:only-of-type {\n",
       "        vertical-align: middle;\n",
       "    }\n",
       "\n",
       "    .dataframe tbody tr th {\n",
       "        vertical-align: top;\n",
       "    }\n",
       "\n",
       "    .dataframe thead th {\n",
       "        text-align: right;\n",
       "    }\n",
       "</style>\n",
       "<table border=\"1\" class=\"dataframe\">\n",
       "  <thead>\n",
       "    <tr style=\"text-align: right;\">\n",
       "      <th></th>\n",
       "      <th>Final_Rank</th>\n",
       "    </tr>\n",
       "  </thead>\n",
       "  <tbody>\n",
       "    <tr>\n",
       "      <th>632815</th>\n",
       "      <td>1.0</td>\n",
       "    </tr>\n",
       "    <tr>\n",
       "      <th>565391</th>\n",
       "      <td>2.0</td>\n",
       "    </tr>\n",
       "    <tr>\n",
       "      <th>917941</th>\n",
       "      <td>3.0</td>\n",
       "    </tr>\n",
       "  </tbody>\n",
       "</table>\n",
       "</div>"
      ],
      "text/plain": [
       "        Final_Rank\n",
       "632815         1.0\n",
       "565391         2.0\n",
       "917941         3.0"
      ]
     },
     "execution_count": 236,
     "metadata": {},
     "output_type": "execute_result"
    }
   ],
   "source": [
    "myData10.head(3)"
   ]
  },
  {
   "cell_type": "code",
   "execution_count": 237,
   "metadata": {},
   "outputs": [],
   "source": [
    "i = 0\n",
    "fraudList = []\n",
    "for index in myData10.index:\n",
    "    if i > 20:\n",
    "        break\n",
    "    i = i + 1\n",
    "    fraudList.append(index)"
   ]
  },
  {
   "cell_type": "code",
   "execution_count": 238,
   "metadata": {},
   "outputs": [
    {
     "data": {
      "text/plain": [
       "[632815,\n",
       " 565391,\n",
       " 917941,\n",
       " 1067359,\n",
       " 750815,\n",
       " 230595,\n",
       " 585117,\n",
       " 585438,\n",
       " 691878,\n",
       " 556608,\n",
       " 690832,\n",
       " 67128,\n",
       " 920627,\n",
       " 565397,\n",
       " 585119,\n",
       " 770593,\n",
       " 248664,\n",
       " 1067000,\n",
       " 85885,\n",
       " 153069,\n",
       " 964933]"
      ]
     },
     "execution_count": 238,
     "metadata": {},
     "output_type": "execute_result"
    }
   ],
   "source": [
    "fraudList"
   ]
  },
  {
   "cell_type": "code",
   "execution_count": 239,
   "metadata": {},
   "outputs": [],
   "source": [
    "myData10.to_csv('fraudList(yifengData).csv')"
   ]
  },
  {
   "cell_type": "markdown",
   "metadata": {},
   "source": [
    "# Check most 10 probable item in fraudList"
   ]
  },
  {
   "cell_type": "code",
   "execution_count": 240,
   "metadata": {},
   "outputs": [],
   "source": [
    "import pandas as pd\n",
    "import numpy as np\n",
    "import scipy.stats as sps\n",
    "import matplotlib.pyplot as plt\n",
    "import seaborn as sns\n",
    "import sklearn as skl\n",
    "from sklearn import preprocessing "
   ]
  },
  {
   "cell_type": "code",
   "execution_count": 255,
   "metadata": {},
   "outputs": [],
   "source": [
    "file = 'NY property data.csv'\n",
    "myData = pd.read_csv(file)\n",
    "#myData.drop('Unnamed: 0', axis = 1 , inplace= True)"
   ]
  },
  {
   "cell_type": "code",
   "execution_count": 242,
   "metadata": {
    "scrolled": true
   },
   "outputs": [
    {
     "data": {
      "text/html": [
       "<div>\n",
       "<style scoped>\n",
       "    .dataframe tbody tr th:only-of-type {\n",
       "        vertical-align: middle;\n",
       "    }\n",
       "\n",
       "    .dataframe tbody tr th {\n",
       "        vertical-align: top;\n",
       "    }\n",
       "\n",
       "    .dataframe thead th {\n",
       "        text-align: right;\n",
       "    }\n",
       "</style>\n",
       "<table border=\"1\" class=\"dataframe\">\n",
       "  <thead>\n",
       "    <tr style=\"text-align: right;\">\n",
       "      <th></th>\n",
       "      <th>RECORD</th>\n",
       "      <th>BBLE</th>\n",
       "      <th>B</th>\n",
       "      <th>BLOCK</th>\n",
       "      <th>LOT</th>\n",
       "      <th>EASEMENT</th>\n",
       "      <th>OWNER</th>\n",
       "      <th>BLDGCL</th>\n",
       "      <th>TAXCLASS</th>\n",
       "      <th>LTFRONT</th>\n",
       "      <th>...</th>\n",
       "      <th>BLDFRONT</th>\n",
       "      <th>BLDDEPTH</th>\n",
       "      <th>AVLAND2</th>\n",
       "      <th>AVTOT2</th>\n",
       "      <th>EXLAND2</th>\n",
       "      <th>EXTOT2</th>\n",
       "      <th>EXCD2</th>\n",
       "      <th>PERIOD</th>\n",
       "      <th>YEAR</th>\n",
       "      <th>VALTYPE</th>\n",
       "    </tr>\n",
       "  </thead>\n",
       "  <tbody>\n",
       "    <tr>\n",
       "      <th>0</th>\n",
       "      <td>1</td>\n",
       "      <td>1000010101</td>\n",
       "      <td>1</td>\n",
       "      <td>1</td>\n",
       "      <td>101</td>\n",
       "      <td>NaN</td>\n",
       "      <td>U S GOVT LAND &amp; BLDGS</td>\n",
       "      <td>P7</td>\n",
       "      <td>4</td>\n",
       "      <td>500</td>\n",
       "      <td>...</td>\n",
       "      <td>0</td>\n",
       "      <td>0</td>\n",
       "      <td>3775500.0</td>\n",
       "      <td>8613000.0</td>\n",
       "      <td>3775500.0</td>\n",
       "      <td>8613000.0</td>\n",
       "      <td>NaN</td>\n",
       "      <td>FINAL</td>\n",
       "      <td>2010/11</td>\n",
       "      <td>AC-TR</td>\n",
       "    </tr>\n",
       "    <tr>\n",
       "      <th>1</th>\n",
       "      <td>2</td>\n",
       "      <td>1000010201</td>\n",
       "      <td>1</td>\n",
       "      <td>1</td>\n",
       "      <td>201</td>\n",
       "      <td>NaN</td>\n",
       "      <td>U S GOVT LAND &amp; BLDGS</td>\n",
       "      <td>Z9</td>\n",
       "      <td>4</td>\n",
       "      <td>27</td>\n",
       "      <td>...</td>\n",
       "      <td>0</td>\n",
       "      <td>0</td>\n",
       "      <td>11111400.0</td>\n",
       "      <td>80690400.0</td>\n",
       "      <td>11111400.0</td>\n",
       "      <td>80690400.0</td>\n",
       "      <td>NaN</td>\n",
       "      <td>FINAL</td>\n",
       "      <td>2010/11</td>\n",
       "      <td>AC-TR</td>\n",
       "    </tr>\n",
       "    <tr>\n",
       "      <th>2</th>\n",
       "      <td>3</td>\n",
       "      <td>1000020001</td>\n",
       "      <td>1</td>\n",
       "      <td>2</td>\n",
       "      <td>1</td>\n",
       "      <td>NaN</td>\n",
       "      <td>DEPT OF GENERAL SERVI</td>\n",
       "      <td>Y7</td>\n",
       "      <td>4</td>\n",
       "      <td>709</td>\n",
       "      <td>...</td>\n",
       "      <td>709</td>\n",
       "      <td>564</td>\n",
       "      <td>32321790.0</td>\n",
       "      <td>40179510.0</td>\n",
       "      <td>32321790.0</td>\n",
       "      <td>40179510.0</td>\n",
       "      <td>NaN</td>\n",
       "      <td>FINAL</td>\n",
       "      <td>2010/11</td>\n",
       "      <td>AC-TR</td>\n",
       "    </tr>\n",
       "  </tbody>\n",
       "</table>\n",
       "<p>3 rows × 32 columns</p>\n",
       "</div>"
      ],
      "text/plain": [
       "   RECORD        BBLE  B  BLOCK  LOT EASEMENT                  OWNER BLDGCL  \\\n",
       "0       1  1000010101  1      1  101      NaN  U S GOVT LAND & BLDGS     P7   \n",
       "1       2  1000010201  1      1  201      NaN  U S GOVT LAND & BLDGS     Z9   \n",
       "2       3  1000020001  1      2    1      NaN  DEPT OF GENERAL SERVI     Y7   \n",
       "\n",
       "  TAXCLASS  LTFRONT   ...    BLDFRONT BLDDEPTH     AVLAND2      AVTOT2  \\\n",
       "0        4      500   ...           0        0   3775500.0   8613000.0   \n",
       "1        4       27   ...           0        0  11111400.0  80690400.0   \n",
       "2        4      709   ...         709      564  32321790.0  40179510.0   \n",
       "\n",
       "      EXLAND2      EXTOT2  EXCD2  PERIOD     YEAR VALTYPE  \n",
       "0   3775500.0   8613000.0    NaN   FINAL  2010/11   AC-TR  \n",
       "1  11111400.0  80690400.0    NaN   FINAL  2010/11   AC-TR  \n",
       "2  32321790.0  40179510.0    NaN   FINAL  2010/11   AC-TR  \n",
       "\n",
       "[3 rows x 32 columns]"
      ]
     },
     "execution_count": 242,
     "metadata": {},
     "output_type": "execute_result"
    }
   ],
   "source": [
    "myData.head(3)"
   ]
  },
  {
   "cell_type": "code",
   "execution_count": 256,
   "metadata": {},
   "outputs": [],
   "source": [
    "del_attribute = ['RECORD', 'BBLE', 'LOT', 'EASEMENT', 'BLDGCL', 'EXT', \n",
    "                 'EXLAND', 'EXTOT', 'EXCD1', 'STADDR', 'EXMPTCL', 'AVLAND2', 'AVTOT2',\n",
    "                 'EXLAND2', 'EXTOT2', 'EXCD2', 'YEAR', 'VALTYPE', 'PERIOD']\n",
    "for del_i in del_attribute: \n",
    "    myData.drop([del_i], axis = 1, inplace= True)"
   ]
  },
  {
   "cell_type": "code",
   "execution_count": 257,
   "metadata": {},
   "outputs": [],
   "source": [
    "output1 = myData.iloc[fraudList].copy()"
   ]
  },
  {
   "cell_type": "code",
   "execution_count": 258,
   "metadata": {},
   "outputs": [],
   "source": [
    "output1.to_excel('output1.xlsx')"
   ]
  },
  {
   "cell_type": "code",
   "execution_count": 254,
   "metadata": {},
   "outputs": [],
   "source": [
    "file = 'cleanData_yifeng.csv'\n",
    "myData = pd.read_csv(file)\n",
    "myData.drop('Unnamed: 0', axis = 1 , inplace= True)"
   ]
  },
  {
   "cell_type": "code",
   "execution_count": 248,
   "metadata": {},
   "outputs": [
    {
     "data": {
      "text/html": [
       "<div>\n",
       "<style scoped>\n",
       "    .dataframe tbody tr th:only-of-type {\n",
       "        vertical-align: middle;\n",
       "    }\n",
       "\n",
       "    .dataframe tbody tr th {\n",
       "        vertical-align: top;\n",
       "    }\n",
       "\n",
       "    .dataframe thead th {\n",
       "        text-align: right;\n",
       "    }\n",
       "</style>\n",
       "<table border=\"1\" class=\"dataframe\">\n",
       "  <thead>\n",
       "    <tr style=\"text-align: right;\">\n",
       "      <th></th>\n",
       "      <th>B</th>\n",
       "      <th>BLOCK</th>\n",
       "      <th>TAXCLASS</th>\n",
       "      <th>LTFRONT</th>\n",
       "      <th>LTDEPTH</th>\n",
       "      <th>STORIES</th>\n",
       "      <th>FULLVAL</th>\n",
       "      <th>AVLAND</th>\n",
       "      <th>AVTOT</th>\n",
       "      <th>ZIP</th>\n",
       "      <th>BLDFRONT</th>\n",
       "      <th>BLDDEPTH</th>\n",
       "    </tr>\n",
       "  </thead>\n",
       "  <tbody>\n",
       "    <tr>\n",
       "      <th>632815</th>\n",
       "      <td>4</td>\n",
       "      <td>1842</td>\n",
       "      <td>2</td>\n",
       "      <td>157.0</td>\n",
       "      <td>95.0</td>\n",
       "      <td>1.0</td>\n",
       "      <td>2.930000e+06</td>\n",
       "      <td>1.318500e+06</td>\n",
       "      <td>1.318500e+06</td>\n",
       "      <td>11373.0</td>\n",
       "      <td>1.0</td>\n",
       "      <td>1.0</td>\n",
       "    </tr>\n",
       "    <tr>\n",
       "      <th>565391</th>\n",
       "      <td>3</td>\n",
       "      <td>8590</td>\n",
       "      <td>4</td>\n",
       "      <td>117.0</td>\n",
       "      <td>108.0</td>\n",
       "      <td>3.0</td>\n",
       "      <td>4.326304e+09</td>\n",
       "      <td>1.946837e+09</td>\n",
       "      <td>1.946837e+09</td>\n",
       "      <td>11211.0</td>\n",
       "      <td>25.0</td>\n",
       "      <td>50.0</td>\n",
       "    </tr>\n",
       "    <tr>\n",
       "      <th>917941</th>\n",
       "      <td>4</td>\n",
       "      <td>14260</td>\n",
       "      <td>4</td>\n",
       "      <td>4910.0</td>\n",
       "      <td>100.0</td>\n",
       "      <td>3.0</td>\n",
       "      <td>3.740199e+08</td>\n",
       "      <td>1.792809e+09</td>\n",
       "      <td>4.668309e+09</td>\n",
       "      <td>11422.0</td>\n",
       "      <td>24.0</td>\n",
       "      <td>36.0</td>\n",
       "    </tr>\n",
       "    <tr>\n",
       "      <th>1067359</th>\n",
       "      <td>5</td>\n",
       "      <td>7853</td>\n",
       "      <td>1</td>\n",
       "      <td>1.0</td>\n",
       "      <td>1.0</td>\n",
       "      <td>2.0</td>\n",
       "      <td>8.360000e+05</td>\n",
       "      <td>2.880000e+04</td>\n",
       "      <td>5.016000e+04</td>\n",
       "      <td>10307.0</td>\n",
       "      <td>36.0</td>\n",
       "      <td>45.0</td>\n",
       "    </tr>\n",
       "    <tr>\n",
       "      <th>750815</th>\n",
       "      <td>4</td>\n",
       "      <td>6661</td>\n",
       "      <td>1B</td>\n",
       "      <td>1.0</td>\n",
       "      <td>1.0</td>\n",
       "      <td>2.0</td>\n",
       "      <td>4.720000e+05</td>\n",
       "      <td>1.492200e+04</td>\n",
       "      <td>2.466400e+04</td>\n",
       "      <td>11367.0</td>\n",
       "      <td>20.0</td>\n",
       "      <td>36.0</td>\n",
       "    </tr>\n",
       "    <tr>\n",
       "      <th>230595</th>\n",
       "      <td>2</td>\n",
       "      <td>4991</td>\n",
       "      <td>1B</td>\n",
       "      <td>1.0</td>\n",
       "      <td>1.0</td>\n",
       "      <td>2.0</td>\n",
       "      <td>3.800000e+05</td>\n",
       "      <td>1.293800e+04</td>\n",
       "      <td>2.087400e+04</td>\n",
       "      <td>10466.0</td>\n",
       "      <td>20.0</td>\n",
       "      <td>40.0</td>\n",
       "    </tr>\n",
       "    <tr>\n",
       "      <th>585117</th>\n",
       "      <td>4</td>\n",
       "      <td>420</td>\n",
       "      <td>4</td>\n",
       "      <td>298.0</td>\n",
       "      <td>402.0</td>\n",
       "      <td>20.0</td>\n",
       "      <td>3.443400e+06</td>\n",
       "      <td>1.549530e+06</td>\n",
       "      <td>1.549530e+06</td>\n",
       "      <td>11101.0</td>\n",
       "      <td>1.0</td>\n",
       "      <td>1.0</td>\n",
       "    </tr>\n",
       "    <tr>\n",
       "      <th>585438</th>\n",
       "      <td>4</td>\n",
       "      <td>459</td>\n",
       "      <td>4</td>\n",
       "      <td>94.0</td>\n",
       "      <td>165.0</td>\n",
       "      <td>10.0</td>\n",
       "      <td>3.712000e+06</td>\n",
       "      <td>2.520000e+05</td>\n",
       "      <td>1.670400e+06</td>\n",
       "      <td>11101.0</td>\n",
       "      <td>1.0</td>\n",
       "      <td>1.0</td>\n",
       "    </tr>\n",
       "    <tr>\n",
       "      <th>691878</th>\n",
       "      <td>4</td>\n",
       "      <td>3907</td>\n",
       "      <td>4</td>\n",
       "      <td>22.0</td>\n",
       "      <td>47.0</td>\n",
       "      <td>1.0</td>\n",
       "      <td>1.017000e+08</td>\n",
       "      <td>4.455000e+07</td>\n",
       "      <td>4.576500e+07</td>\n",
       "      <td>11421.0</td>\n",
       "      <td>27.0</td>\n",
       "      <td>47.0</td>\n",
       "    </tr>\n",
       "    <tr>\n",
       "      <th>556608</th>\n",
       "      <td>3</td>\n",
       "      <td>8312</td>\n",
       "      <td>4</td>\n",
       "      <td>35.0</td>\n",
       "      <td>50.0</td>\n",
       "      <td>1.0</td>\n",
       "      <td>1.360000e+08</td>\n",
       "      <td>6.075000e+07</td>\n",
       "      <td>6.120000e+07</td>\n",
       "      <td>11236.0</td>\n",
       "      <td>88.0</td>\n",
       "      <td>62.0</td>\n",
       "    </tr>\n",
       "    <tr>\n",
       "      <th>690832</th>\n",
       "      <td>4</td>\n",
       "      <td>3866</td>\n",
       "      <td>4</td>\n",
       "      <td>610.0</td>\n",
       "      <td>534.0</td>\n",
       "      <td>3.0</td>\n",
       "      <td>2.420000e+08</td>\n",
       "      <td>1.035000e+08</td>\n",
       "      <td>1.089000e+08</td>\n",
       "      <td>11385.0</td>\n",
       "      <td>20.0</td>\n",
       "      <td>20.0</td>\n",
       "    </tr>\n",
       "    <tr>\n",
       "      <th>67128</th>\n",
       "      <td>1</td>\n",
       "      <td>1111</td>\n",
       "      <td>4</td>\n",
       "      <td>840.0</td>\n",
       "      <td>102.0</td>\n",
       "      <td>5.0</td>\n",
       "      <td>6.150000e+09</td>\n",
       "      <td>2.668500e+09</td>\n",
       "      <td>2.767500e+09</td>\n",
       "      <td>10028.0</td>\n",
       "      <td>26.0</td>\n",
       "      <td>80.0</td>\n",
       "    </tr>\n",
       "    <tr>\n",
       "      <th>920627</th>\n",
       "      <td>4</td>\n",
       "      <td>15577</td>\n",
       "      <td>1</td>\n",
       "      <td>91.0</td>\n",
       "      <td>100.0</td>\n",
       "      <td>2.0</td>\n",
       "      <td>1.900000e+06</td>\n",
       "      <td>9.763000e+03</td>\n",
       "      <td>7.576300e+04</td>\n",
       "      <td>11691.0</td>\n",
       "      <td>1.0</td>\n",
       "      <td>1.0</td>\n",
       "    </tr>\n",
       "    <tr>\n",
       "      <th>565397</th>\n",
       "      <td>3</td>\n",
       "      <td>8591</td>\n",
       "      <td>4</td>\n",
       "      <td>466.0</td>\n",
       "      <td>1009.0</td>\n",
       "      <td>3.0</td>\n",
       "      <td>2.310884e+09</td>\n",
       "      <td>1.039898e+09</td>\n",
       "      <td>1.039898e+09</td>\n",
       "      <td>11211.0</td>\n",
       "      <td>25.0</td>\n",
       "      <td>50.0</td>\n",
       "    </tr>\n",
       "    <tr>\n",
       "      <th>585119</th>\n",
       "      <td>4</td>\n",
       "      <td>420</td>\n",
       "      <td>4</td>\n",
       "      <td>139.0</td>\n",
       "      <td>342.0</td>\n",
       "      <td>20.0</td>\n",
       "      <td>2.151600e+06</td>\n",
       "      <td>9.682200e+05</td>\n",
       "      <td>9.682200e+05</td>\n",
       "      <td>11101.0</td>\n",
       "      <td>1.0</td>\n",
       "      <td>1.0</td>\n",
       "    </tr>\n",
       "    <tr>\n",
       "      <th>770593</th>\n",
       "      <td>4</td>\n",
       "      <td>7621</td>\n",
       "      <td>1A</td>\n",
       "      <td>1.0</td>\n",
       "      <td>1.0</td>\n",
       "      <td>1.0</td>\n",
       "      <td>2.519890e+05</td>\n",
       "      <td>1.001000e+03</td>\n",
       "      <td>8.934000e+03</td>\n",
       "      <td>11364.0</td>\n",
       "      <td>25.0</td>\n",
       "      <td>38.0</td>\n",
       "    </tr>\n",
       "    <tr>\n",
       "      <th>248664</th>\n",
       "      <td>2</td>\n",
       "      <td>5650</td>\n",
       "      <td>4</td>\n",
       "      <td>600.0</td>\n",
       "      <td>4000.0</td>\n",
       "      <td>6.0</td>\n",
       "      <td>1.900000e+08</td>\n",
       "      <td>7.920000e+07</td>\n",
       "      <td>8.550000e+07</td>\n",
       "      <td>10462.0</td>\n",
       "      <td>21.0</td>\n",
       "      <td>48.0</td>\n",
       "    </tr>\n",
       "    <tr>\n",
       "      <th>1067000</th>\n",
       "      <td>5</td>\n",
       "      <td>7812</td>\n",
       "      <td>1</td>\n",
       "      <td>96.0</td>\n",
       "      <td>279.0</td>\n",
       "      <td>3.0</td>\n",
       "      <td>2.120000e+06</td>\n",
       "      <td>6.540100e+04</td>\n",
       "      <td>1.249100e+05</td>\n",
       "      <td>10307.0</td>\n",
       "      <td>1.0</td>\n",
       "      <td>1.0</td>\n",
       "    </tr>\n",
       "    <tr>\n",
       "      <th>85885</th>\n",
       "      <td>1</td>\n",
       "      <td>1254</td>\n",
       "      <td>4</td>\n",
       "      <td>4000.0</td>\n",
       "      <td>150.0</td>\n",
       "      <td>1.0</td>\n",
       "      <td>7.021400e+07</td>\n",
       "      <td>3.145500e+07</td>\n",
       "      <td>3.159630e+07</td>\n",
       "      <td>10013.0</td>\n",
       "      <td>8.0</td>\n",
       "      <td>8.0</td>\n",
       "    </tr>\n",
       "    <tr>\n",
       "      <th>153069</th>\n",
       "      <td>2</td>\n",
       "      <td>2605</td>\n",
       "      <td>4</td>\n",
       "      <td>999.0</td>\n",
       "      <td>999.0</td>\n",
       "      <td>6.0</td>\n",
       "      <td>1.021000e+09</td>\n",
       "      <td>8.370000e+07</td>\n",
       "      <td>4.594500e+08</td>\n",
       "      <td>11370.0</td>\n",
       "      <td>20.0</td>\n",
       "      <td>44.0</td>\n",
       "    </tr>\n",
       "    <tr>\n",
       "      <th>964933</th>\n",
       "      <td>5</td>\n",
       "      <td>902</td>\n",
       "      <td>4</td>\n",
       "      <td>923.0</td>\n",
       "      <td>1500.0</td>\n",
       "      <td>1.0</td>\n",
       "      <td>4.380000e+07</td>\n",
       "      <td>1.921500e+07</td>\n",
       "      <td>1.971000e+07</td>\n",
       "      <td>10304.0</td>\n",
       "      <td>10.0</td>\n",
       "      <td>20.0</td>\n",
       "    </tr>\n",
       "  </tbody>\n",
       "</table>\n",
       "</div>"
      ],
      "text/plain": [
       "         B  BLOCK TAXCLASS  LTFRONT  LTDEPTH  STORIES       FULLVAL  \\\n",
       "632815   4   1842        2    157.0     95.0      1.0  2.930000e+06   \n",
       "565391   3   8590        4    117.0    108.0      3.0  4.326304e+09   \n",
       "917941   4  14260        4   4910.0    100.0      3.0  3.740199e+08   \n",
       "1067359  5   7853        1      1.0      1.0      2.0  8.360000e+05   \n",
       "750815   4   6661       1B      1.0      1.0      2.0  4.720000e+05   \n",
       "230595   2   4991       1B      1.0      1.0      2.0  3.800000e+05   \n",
       "585117   4    420        4    298.0    402.0     20.0  3.443400e+06   \n",
       "585438   4    459        4     94.0    165.0     10.0  3.712000e+06   \n",
       "691878   4   3907        4     22.0     47.0      1.0  1.017000e+08   \n",
       "556608   3   8312        4     35.0     50.0      1.0  1.360000e+08   \n",
       "690832   4   3866        4    610.0    534.0      3.0  2.420000e+08   \n",
       "67128    1   1111        4    840.0    102.0      5.0  6.150000e+09   \n",
       "920627   4  15577        1     91.0    100.0      2.0  1.900000e+06   \n",
       "565397   3   8591        4    466.0   1009.0      3.0  2.310884e+09   \n",
       "585119   4    420        4    139.0    342.0     20.0  2.151600e+06   \n",
       "770593   4   7621       1A      1.0      1.0      1.0  2.519890e+05   \n",
       "248664   2   5650        4    600.0   4000.0      6.0  1.900000e+08   \n",
       "1067000  5   7812        1     96.0    279.0      3.0  2.120000e+06   \n",
       "85885    1   1254        4   4000.0    150.0      1.0  7.021400e+07   \n",
       "153069   2   2605        4    999.0    999.0      6.0  1.021000e+09   \n",
       "964933   5    902        4    923.0   1500.0      1.0  4.380000e+07   \n",
       "\n",
       "               AVLAND         AVTOT      ZIP  BLDFRONT  BLDDEPTH  \n",
       "632815   1.318500e+06  1.318500e+06  11373.0       1.0       1.0  \n",
       "565391   1.946837e+09  1.946837e+09  11211.0      25.0      50.0  \n",
       "917941   1.792809e+09  4.668309e+09  11422.0      24.0      36.0  \n",
       "1067359  2.880000e+04  5.016000e+04  10307.0      36.0      45.0  \n",
       "750815   1.492200e+04  2.466400e+04  11367.0      20.0      36.0  \n",
       "230595   1.293800e+04  2.087400e+04  10466.0      20.0      40.0  \n",
       "585117   1.549530e+06  1.549530e+06  11101.0       1.0       1.0  \n",
       "585438   2.520000e+05  1.670400e+06  11101.0       1.0       1.0  \n",
       "691878   4.455000e+07  4.576500e+07  11421.0      27.0      47.0  \n",
       "556608   6.075000e+07  6.120000e+07  11236.0      88.0      62.0  \n",
       "690832   1.035000e+08  1.089000e+08  11385.0      20.0      20.0  \n",
       "67128    2.668500e+09  2.767500e+09  10028.0      26.0      80.0  \n",
       "920627   9.763000e+03  7.576300e+04  11691.0       1.0       1.0  \n",
       "565397   1.039898e+09  1.039898e+09  11211.0      25.0      50.0  \n",
       "585119   9.682200e+05  9.682200e+05  11101.0       1.0       1.0  \n",
       "770593   1.001000e+03  8.934000e+03  11364.0      25.0      38.0  \n",
       "248664   7.920000e+07  8.550000e+07  10462.0      21.0      48.0  \n",
       "1067000  6.540100e+04  1.249100e+05  10307.0       1.0       1.0  \n",
       "85885    3.145500e+07  3.159630e+07  10013.0       8.0       8.0  \n",
       "153069   8.370000e+07  4.594500e+08  11370.0      20.0      44.0  \n",
       "964933   1.921500e+07  1.971000e+07  10304.0      10.0      20.0  "
      ]
     },
     "execution_count": 248,
     "metadata": {},
     "output_type": "execute_result"
    }
   ],
   "source": [
    "myData.iloc[fraudList]"
   ]
  },
  {
   "cell_type": "code",
   "execution_count": 250,
   "metadata": {},
   "outputs": [],
   "source": [
    "output2 = myData.iloc[fraudList].copy()\n",
    "output2.to_excel('output1.xlsx')"
   ]
  },
  {
   "cell_type": "code",
   "execution_count": null,
   "metadata": {},
   "outputs": [],
   "source": [
    "'''myData4['Base_lotarea'] = myData4['LTFRONT'] * myData4['LTDEPTH']\n",
    "myData4['Base_bldarea'] = myData4['BLDFRONT'] * myData4['BLDDEPTH']\n",
    "myData4['Base_bldvol'] = myData4['Base_bldarea'] * myData4['STORIES']\n",
    "\n",
    "myData4['Base_r1'] = myData4['FULLVAL'] / myData4['Base_lotarea']\n",
    "myData4['Base_r2'] = myData4['AVLAND'] / myData4['Base_lotarea']\n",
    "myData4['Base_r3'] = myData4['AVTOT'] / myData4['Base_lotarea']\n",
    "\n",
    "myData4['Base_r4'] = myData4['FULLVAL'] / myData4['Base_bldarea']\n",
    "myData4['Base_r5'] = myData4['AVLAND'] / myData4['Base_bldarea']\n",
    "myData4['Base_r6'] = myData4['AVTOT'] / myData4['Base_bldarea']\n",
    "\n",
    "myData4['Base_r7'] = myData4['FULLVAL'] / myData4['Base_bldvol']\n",
    "myData4['Base_r8'] = myData4['AVLAND'] / myData4['Base_bldvol']\n",
    "myData4['Base_r9'] = myData4['AVTOT'] / myData4['Base_bldvol']'''"
   ]
  },
  {
   "cell_type": "code",
   "execution_count": 207,
   "metadata": {},
   "outputs": [],
   "source": [
    "a = [0.50097735, 0.22722943, 0.07224364, 0.05208972, 0.04411291,\n",
    "       0.04045688, 0.01658566, 0.0097775 , 0.00806087, 0.0051208 ,\n",
    "       0.00489789, 0.00447862, 0.00317243, 0.0023302 , 0.00195961]"
   ]
  },
  {
   "cell_type": "code",
   "execution_count": 208,
   "metadata": {},
   "outputs": [
    {
     "data": {
      "text/plain": [
       "0.9934935099999999"
      ]
     },
     "execution_count": 208,
     "metadata": {},
     "output_type": "execute_result"
    }
   ],
   "source": [
    "sum(a)"
   ]
  },
  {
   "cell_type": "code",
   "execution_count": null,
   "metadata": {},
   "outputs": [],
   "source": []
  }
 ],
 "metadata": {
  "kernelspec": {
   "display_name": "Python 3",
   "language": "python",
   "name": "python3"
  },
  "language_info": {
   "codemirror_mode": {
    "name": "ipython",
    "version": 3
   },
   "file_extension": ".py",
   "mimetype": "text/x-python",
   "name": "python",
   "nbconvert_exporter": "python",
   "pygments_lexer": "ipython3",
   "version": "3.7.1"
  }
 },
 "nbformat": 4,
 "nbformat_minor": 2
}
