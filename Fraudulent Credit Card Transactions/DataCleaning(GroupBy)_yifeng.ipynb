{
 "cells": [
  {
   "cell_type": "code",
   "execution_count": 1,
   "metadata": {},
   "outputs": [],
   "source": [
    "import pandas as pd\n",
    "import numpy as np\n",
    "import scipy.stats as sps\n",
    "import matplotlib.pyplot as plt\n",
    "import seaborn as sns\n",
    "import sklearn as skl\n",
    "from sklearn import preprocessing\n",
    "import datetime as dt"
   ]
  },
  {
   "cell_type": "code",
   "execution_count": 70,
   "metadata": {},
   "outputs": [
    {
     "name": "stdout",
     "output_type": "stream",
     "text": [
      "CPU times: user 3 µs, sys: 1e+03 ns, total: 4 µs\n",
      "Wall time: 6.91 µs\n"
     ]
    }
   ],
   "source": [
    "%time\n",
    "file = 'card transactions.xlsx'\n",
    "myData = pd.read_excel(file)"
   ]
  },
  {
   "cell_type": "markdown",
   "metadata": {},
   "source": [
    "# Fill up missing value"
   ]
  },
  {
   "cell_type": "markdown",
   "metadata": {},
   "source": [
    "## Merch zip"
   ]
  },
  {
   "cell_type": "markdown",
   "metadata": {},
   "source": [
    "### group by Merch state"
   ]
  },
  {
   "cell_type": "code",
   "execution_count": 123,
   "metadata": {},
   "outputs": [
    {
     "name": "stdout",
     "output_type": "stream",
     "text": [
      "Describe\n",
      "count    96299.000000\n",
      "mean     44266.221124\n",
      "std      28412.118931\n",
      "min          1.000000\n",
      "25%      20852.000000\n",
      "50%      38118.000000\n",
      "75%      63103.000000\n",
      "max      99999.000000\n",
      "Name: Merch zip, dtype: float64\n",
      "Value Counts\n",
      "Float64Index([38118.0, 22202.0, 63103.0, 30091.0, 60061.0, 8701.0], dtype='float64')\n",
      "Null Value Number Counts\n",
      "454\n"
     ]
    }
   ],
   "source": [
    "attribute = 'Merch zip'\n",
    "\n",
    "print('Describe')\n",
    "print(myData[attribute].describe())\n",
    "\n",
    "print('Value Counts')\n",
    "print(myData[attribute].value_counts().index[0:6])\n",
    "\n",
    "print('Null Value Number Counts')\n",
    "print(myData[attribute].isnull().sum())"
   ]
  },
  {
   "cell_type": "code",
   "execution_count": 124,
   "metadata": {},
   "outputs": [
    {
     "name": "stdout",
     "output_type": "stream",
     "text": [
      "Null Value Number Counts\n",
      "454\n"
     ]
    }
   ],
   "source": [
    "valid_index = myData[myData[attribute].isnull() == False].copy()\n",
    "print('Null Value Number Counts')\n",
    "print(myData[attribute].isnull().sum())"
   ]
  },
  {
   "cell_type": "code",
   "execution_count": 125,
   "metadata": {},
   "outputs": [
    {
     "data": {
      "text/html": [
       "<div>\n",
       "<style scoped>\n",
       "    .dataframe tbody tr th:only-of-type {\n",
       "        vertical-align: middle;\n",
       "    }\n",
       "\n",
       "    .dataframe tbody tr th {\n",
       "        vertical-align: top;\n",
       "    }\n",
       "\n",
       "    .dataframe thead th {\n",
       "        text-align: right;\n",
       "    }\n",
       "</style>\n",
       "<table border=\"1\" class=\"dataframe\">\n",
       "  <thead>\n",
       "    <tr style=\"text-align: right;\">\n",
       "      <th></th>\n",
       "      <th>Merch zip</th>\n",
       "    </tr>\n",
       "    <tr>\n",
       "      <th>Merch state</th>\n",
       "      <th></th>\n",
       "    </tr>\n",
       "  </thead>\n",
       "  <tbody>\n",
       "    <tr>\n",
       "      <th>005</th>\n",
       "      <td>48602.0</td>\n",
       "    </tr>\n",
       "    <tr>\n",
       "      <th>016</th>\n",
       "      <td>48602.0</td>\n",
       "    </tr>\n",
       "    <tr>\n",
       "      <th>022</th>\n",
       "      <td>48602.0</td>\n",
       "    </tr>\n",
       "    <tr>\n",
       "      <th>040</th>\n",
       "      <td>48602.0</td>\n",
       "    </tr>\n",
       "    <tr>\n",
       "      <th>042</th>\n",
       "      <td>48602.0</td>\n",
       "    </tr>\n",
       "  </tbody>\n",
       "</table>\n",
       "</div>"
      ],
      "text/plain": [
       "             Merch zip\n",
       "Merch state           \n",
       "005            48602.0\n",
       "016            48602.0\n",
       "022            48602.0\n",
       "040            48602.0\n",
       "042            48602.0"
      ]
     },
     "execution_count": 125,
     "metadata": {},
     "output_type": "execute_result"
    }
   ],
   "source": [
    "def f_mode (x):\n",
    "    return x.value_counts().index[0]\n",
    "\n",
    "valid_dataframe = valid_index[[attribute, 'Merch state']].copy()\n",
    "temp = valid_dataframe.groupby(['Merch state']).agg(f_mode).copy()\n",
    "temp.head(5)"
   ]
  },
  {
   "cell_type": "code",
   "execution_count": 126,
   "metadata": {},
   "outputs": [
    {
     "name": "stdout",
     "output_type": "stream",
     "text": [
      "Null Value Number Counts\n",
      "454\n"
     ]
    }
   ],
   "source": [
    "for i in myData[myData[attribute].isnull() == True].index:\n",
    "    try:\n",
    "        temp_Merch_state = myData.loc[i,'Merch state']\n",
    "        myData.loc[i, attribute] = temp.loc[temp_Merch_state,attribute]\n",
    "    except:\n",
    "        continue\n",
    "print('Null Value Number Counts')\n",
    "print(myData[attribute].isnull().sum())"
   ]
  },
  {
   "cell_type": "markdown",
   "metadata": {},
   "source": [
    "### group by Merchnum"
   ]
  },
  {
   "cell_type": "code",
   "execution_count": 127,
   "metadata": {},
   "outputs": [
    {
     "data": {
      "text/html": [
       "<div>\n",
       "<style scoped>\n",
       "    .dataframe tbody tr th:only-of-type {\n",
       "        vertical-align: middle;\n",
       "    }\n",
       "\n",
       "    .dataframe tbody tr th {\n",
       "        vertical-align: top;\n",
       "    }\n",
       "\n",
       "    .dataframe thead th {\n",
       "        text-align: right;\n",
       "    }\n",
       "</style>\n",
       "<table border=\"1\" class=\"dataframe\">\n",
       "  <thead>\n",
       "    <tr style=\"text-align: right;\">\n",
       "      <th></th>\n",
       "      <th>Merch zip</th>\n",
       "    </tr>\n",
       "    <tr>\n",
       "      <th>Merchnum</th>\n",
       "      <th></th>\n",
       "    </tr>\n",
       "  </thead>\n",
       "  <tbody>\n",
       "    <tr>\n",
       "      <th>0</th>\n",
       "      <td>48602.0</td>\n",
       "    </tr>\n",
       "    <tr>\n",
       "      <th>003100006NOT6</th>\n",
       "      <td>41011.0</td>\n",
       "    </tr>\n",
       "    <tr>\n",
       "      <th>004740006ABC6</th>\n",
       "      <td>82520.0</td>\n",
       "    </tr>\n",
       "    <tr>\n",
       "      <th>005590006PNB6</th>\n",
       "      <td>80439.0</td>\n",
       "    </tr>\n",
       "    <tr>\n",
       "      <th>014430619  14</th>\n",
       "      <td>90502.0</td>\n",
       "    </tr>\n",
       "  </tbody>\n",
       "</table>\n",
       "</div>"
      ],
      "text/plain": [
       "               Merch zip\n",
       "Merchnum                \n",
       "0                48602.0\n",
       "003100006NOT6    41011.0\n",
       "004740006ABC6    82520.0\n",
       "005590006PNB6    80439.0\n",
       "014430619  14    90502.0"
      ]
     },
     "execution_count": 127,
     "metadata": {},
     "output_type": "execute_result"
    }
   ],
   "source": [
    "def f_mode (x):\n",
    "    return x.value_counts().index[0]\n",
    "\n",
    "valid_dataframe = valid_index[[attribute, 'Merchnum']].copy()\n",
    "temp = valid_dataframe.groupby(['Merchnum']).agg(f_mode).copy()\n",
    "temp.head(5)"
   ]
  },
  {
   "cell_type": "code",
   "execution_count": 128,
   "metadata": {},
   "outputs": [
    {
     "name": "stdout",
     "output_type": "stream",
     "text": [
      "Null Value Number Counts\n",
      "454\n"
     ]
    }
   ],
   "source": [
    "for i in myData[myData[attribute].isnull() == True].index:\n",
    "    try:\n",
    "        temp_Merchnum = myData.loc[i,'Merchnum']\n",
    "        myData.loc[i, attribute] = temp.loc[temp_Merchnum,attribute]\n",
    "    except:\n",
    "        continue\n",
    "print('Null Value Number Counts')\n",
    "print(myData[attribute].isnull().sum())"
   ]
  },
  {
   "cell_type": "markdown",
   "metadata": {},
   "source": [
    "### group by Merch description"
   ]
  },
  {
   "cell_type": "code",
   "execution_count": 129,
   "metadata": {},
   "outputs": [
    {
     "data": {
      "text/html": [
       "<div>\n",
       "<style scoped>\n",
       "    .dataframe tbody tr th:only-of-type {\n",
       "        vertical-align: middle;\n",
       "    }\n",
       "\n",
       "    .dataframe tbody tr th {\n",
       "        vertical-align: top;\n",
       "    }\n",
       "\n",
       "    .dataframe thead th {\n",
       "        text-align: right;\n",
       "    }\n",
       "</style>\n",
       "<table border=\"1\" class=\"dataframe\">\n",
       "  <thead>\n",
       "    <tr style=\"text-align: right;\">\n",
       "      <th></th>\n",
       "      <th>Merch zip</th>\n",
       "    </tr>\n",
       "    <tr>\n",
       "      <th>Merch description</th>\n",
       "      <th></th>\n",
       "    </tr>\n",
       "  </thead>\n",
       "  <tbody>\n",
       "    <tr>\n",
       "      <th>#9 SOFTWARE</th>\n",
       "      <td>23663.0</td>\n",
       "    </tr>\n",
       "    <tr>\n",
       "      <th>(ISC)2 CERTIFICATION</th>\n",
       "      <td>1545.0</td>\n",
       "    </tr>\n",
       "    <tr>\n",
       "      <th>0000000000000000000000</th>\n",
       "      <td>98052.0</td>\n",
       "    </tr>\n",
       "    <tr>\n",
       "      <th>033007 KINKO'S</th>\n",
       "      <td>27713.0</td>\n",
       "    </tr>\n",
       "    <tr>\n",
       "      <th>05032 FLYING J</th>\n",
       "      <td>87105.0</td>\n",
       "    </tr>\n",
       "  </tbody>\n",
       "</table>\n",
       "</div>"
      ],
      "text/plain": [
       "                        Merch zip\n",
       "Merch description                \n",
       "#9 SOFTWARE               23663.0\n",
       "(ISC)2 CERTIFICATION       1545.0\n",
       "0000000000000000000000    98052.0\n",
       "033007 KINKO'S            27713.0\n",
       "05032 FLYING J            87105.0"
      ]
     },
     "execution_count": 129,
     "metadata": {},
     "output_type": "execute_result"
    }
   ],
   "source": [
    "def f_mode (x):\n",
    "    return x.value_counts().index[0]\n",
    "\n",
    "valid_dataframe = valid_index[[attribute, 'Merch description']].copy()\n",
    "temp = valid_dataframe.groupby(['Merch description']).agg(f_mode).copy()\n",
    "temp.head(5)"
   ]
  },
  {
   "cell_type": "code",
   "execution_count": 130,
   "metadata": {},
   "outputs": [
    {
     "name": "stdout",
     "output_type": "stream",
     "text": [
      "Null Value Number Counts\n",
      "454\n"
     ]
    }
   ],
   "source": [
    "for i in myData[myData[attribute].isnull() == True].index:\n",
    "    try:\n",
    "        temp_Merch_description = myData.loc[i,'Merch description']\n",
    "        myData.loc[i, attribute] = temp.loc[temp_Merch_description,attribute]\n",
    "    except:\n",
    "        continue\n",
    "print('Null Value Number Counts')\n",
    "print(myData[attribute].isnull().sum())"
   ]
  },
  {
   "cell_type": "markdown",
   "metadata": {},
   "source": [
    "### group by Cardnum"
   ]
  },
  {
   "cell_type": "code",
   "execution_count": 131,
   "metadata": {},
   "outputs": [
    {
     "data": {
      "text/html": [
       "<div>\n",
       "<style scoped>\n",
       "    .dataframe tbody tr th:only-of-type {\n",
       "        vertical-align: middle;\n",
       "    }\n",
       "\n",
       "    .dataframe tbody tr th {\n",
       "        vertical-align: top;\n",
       "    }\n",
       "\n",
       "    .dataframe thead th {\n",
       "        text-align: right;\n",
       "    }\n",
       "</style>\n",
       "<table border=\"1\" class=\"dataframe\">\n",
       "  <thead>\n",
       "    <tr style=\"text-align: right;\">\n",
       "      <th></th>\n",
       "      <th>Merch zip</th>\n",
       "    </tr>\n",
       "    <tr>\n",
       "      <th>Cardnum</th>\n",
       "      <th></th>\n",
       "    </tr>\n",
       "  </thead>\n",
       "  <tbody>\n",
       "    <tr>\n",
       "      <th>5142110002</th>\n",
       "      <td>22202.0</td>\n",
       "    </tr>\n",
       "    <tr>\n",
       "      <th>5142110081</th>\n",
       "      <td>98032.0</td>\n",
       "    </tr>\n",
       "    <tr>\n",
       "      <th>5142110402</th>\n",
       "      <td>21090.0</td>\n",
       "    </tr>\n",
       "    <tr>\n",
       "      <th>5142110434</th>\n",
       "      <td>46032.0</td>\n",
       "    </tr>\n",
       "    <tr>\n",
       "      <th>5142110651</th>\n",
       "      <td>30091.0</td>\n",
       "    </tr>\n",
       "  </tbody>\n",
       "</table>\n",
       "</div>"
      ],
      "text/plain": [
       "            Merch zip\n",
       "Cardnum              \n",
       "5142110002    22202.0\n",
       "5142110081    98032.0\n",
       "5142110402    21090.0\n",
       "5142110434    46032.0\n",
       "5142110651    30091.0"
      ]
     },
     "execution_count": 131,
     "metadata": {},
     "output_type": "execute_result"
    }
   ],
   "source": [
    "def f_mode (x):\n",
    "    return x.value_counts().index[0]\n",
    "\n",
    "valid_dataframe = valid_index[[attribute, 'Cardnum']].copy()\n",
    "temp = valid_dataframe.groupby(['Cardnum']).agg(f_mode).copy()\n",
    "temp.head(5)"
   ]
  },
  {
   "cell_type": "code",
   "execution_count": 132,
   "metadata": {},
   "outputs": [
    {
     "name": "stdout",
     "output_type": "stream",
     "text": [
      "Null Value Number Counts\n",
      "31\n"
     ]
    }
   ],
   "source": [
    "for i in myData[myData[attribute].isnull() == True].index:\n",
    "    try:\n",
    "        temp_Cardnum = myData.loc[i,'Cardnum']\n",
    "        myData.loc[i, attribute] = temp.loc[temp_Cardnum,attribute]\n",
    "    except:\n",
    "        continue\n",
    "print('Null Value Number Counts')\n",
    "print(myData[attribute].isnull().sum())"
   ]
  },
  {
   "cell_type": "code",
   "execution_count": null,
   "metadata": {},
   "outputs": [],
   "source": []
  },
  {
   "cell_type": "markdown",
   "metadata": {},
   "source": [
    "## Merch state(group by Merch zip or Merchnum)"
   ]
  },
  {
   "cell_type": "markdown",
   "metadata": {},
   "source": [
    "### group by Merch zip"
   ]
  },
  {
   "cell_type": "code",
   "execution_count": 133,
   "metadata": {},
   "outputs": [
    {
     "name": "stdout",
     "output_type": "stream",
     "text": [
      "Describe\n",
      "count     96274\n",
      "unique      227\n",
      "top          TN\n",
      "freq      12038\n",
      "Name: Merch state, dtype: object\n",
      "Value Counts\n",
      "Index(['TN', 'VA', 'CA', 'IL', 'MD', 'GA'], dtype='object')\n",
      "Null Value Number Counts\n",
      "479\n"
     ]
    }
   ],
   "source": [
    "attribute = 'Merch state'\n",
    "\n",
    "print('Describe')\n",
    "print(myData[attribute].describe())\n",
    "\n",
    "print('Value Counts')\n",
    "print(myData[attribute].value_counts().index[0:6])\n",
    "\n",
    "print('Null Value Number Counts')\n",
    "print(myData[attribute].isnull().sum())"
   ]
  },
  {
   "cell_type": "code",
   "execution_count": 134,
   "metadata": {},
   "outputs": [
    {
     "name": "stdout",
     "output_type": "stream",
     "text": [
      "Null Value Number Counts\n",
      "479\n"
     ]
    }
   ],
   "source": [
    "valid_index = myData[myData[attribute].isnull() == False].copy()\n",
    "print('Null Value Number Counts')\n",
    "print(myData[attribute].isnull().sum())"
   ]
  },
  {
   "cell_type": "code",
   "execution_count": 135,
   "metadata": {},
   "outputs": [
    {
     "data": {
      "text/html": [
       "<div>\n",
       "<style scoped>\n",
       "    .dataframe tbody tr th:only-of-type {\n",
       "        vertical-align: middle;\n",
       "    }\n",
       "\n",
       "    .dataframe tbody tr th {\n",
       "        vertical-align: top;\n",
       "    }\n",
       "\n",
       "    .dataframe thead th {\n",
       "        text-align: right;\n",
       "    }\n",
       "</style>\n",
       "<table border=\"1\" class=\"dataframe\">\n",
       "  <thead>\n",
       "    <tr style=\"text-align: right;\">\n",
       "      <th></th>\n",
       "      <th>Merch state</th>\n",
       "    </tr>\n",
       "    <tr>\n",
       "      <th>Merch zip</th>\n",
       "      <th></th>\n",
       "    </tr>\n",
       "  </thead>\n",
       "  <tbody>\n",
       "    <tr>\n",
       "      <th>1.0</th>\n",
       "      <td>PA</td>\n",
       "    </tr>\n",
       "    <tr>\n",
       "      <th>2.0</th>\n",
       "      <td>VA</td>\n",
       "    </tr>\n",
       "    <tr>\n",
       "      <th>3.0</th>\n",
       "      <td>GA</td>\n",
       "    </tr>\n",
       "    <tr>\n",
       "      <th>5.0</th>\n",
       "      <td>IA</td>\n",
       "    </tr>\n",
       "    <tr>\n",
       "      <th>6.0</th>\n",
       "      <td>IL</td>\n",
       "    </tr>\n",
       "  </tbody>\n",
       "</table>\n",
       "</div>"
      ],
      "text/plain": [
       "          Merch state\n",
       "Merch zip            \n",
       "1.0                PA\n",
       "2.0                VA\n",
       "3.0                GA\n",
       "5.0                IA\n",
       "6.0                IL"
      ]
     },
     "execution_count": 135,
     "metadata": {},
     "output_type": "execute_result"
    }
   ],
   "source": [
    "def f_mode (x):\n",
    "    return x.value_counts().index[0]\n",
    "\n",
    "valid_dataframe = valid_index[[attribute, 'Merch zip']].copy()\n",
    "temp = valid_dataframe.groupby(['Merch zip']).agg(f_mode).copy()\n",
    "temp.head(5)"
   ]
  },
  {
   "cell_type": "code",
   "execution_count": 136,
   "metadata": {},
   "outputs": [
    {
     "name": "stdout",
     "output_type": "stream",
     "text": [
      "Null Value Number Counts\n",
      "97\n"
     ]
    }
   ],
   "source": [
    "for i in myData[myData[attribute].isnull() == True].index:\n",
    "    try:\n",
    "        temp_Merch_zip = myData.loc[i,'Merch zip']\n",
    "        myData.loc[i, attribute] = temp.loc[temp_Merch_zip,attribute]\n",
    "    except:\n",
    "        continue\n",
    "print('Null Value Number Counts')\n",
    "print(myData[attribute].isnull().sum())"
   ]
  },
  {
   "cell_type": "markdown",
   "metadata": {},
   "source": [
    "### group by Merchnum"
   ]
  },
  {
   "cell_type": "code",
   "execution_count": 137,
   "metadata": {},
   "outputs": [
    {
     "data": {
      "text/html": [
       "<div>\n",
       "<style scoped>\n",
       "    .dataframe tbody tr th:only-of-type {\n",
       "        vertical-align: middle;\n",
       "    }\n",
       "\n",
       "    .dataframe tbody tr th {\n",
       "        vertical-align: top;\n",
       "    }\n",
       "\n",
       "    .dataframe thead th {\n",
       "        text-align: right;\n",
       "    }\n",
       "</style>\n",
       "<table border=\"1\" class=\"dataframe\">\n",
       "  <thead>\n",
       "    <tr style=\"text-align: right;\">\n",
       "      <th></th>\n",
       "      <th>Merch state</th>\n",
       "    </tr>\n",
       "    <tr>\n",
       "      <th>Merchnum</th>\n",
       "      <th></th>\n",
       "    </tr>\n",
       "  </thead>\n",
       "  <tbody>\n",
       "    <tr>\n",
       "      <th>0</th>\n",
       "      <td>MI</td>\n",
       "    </tr>\n",
       "    <tr>\n",
       "      <th>003100006NOT6</th>\n",
       "      <td>KY</td>\n",
       "    </tr>\n",
       "    <tr>\n",
       "      <th>004740006ABC6</th>\n",
       "      <td>WY</td>\n",
       "    </tr>\n",
       "    <tr>\n",
       "      <th>005590006PNB6</th>\n",
       "      <td>CO</td>\n",
       "    </tr>\n",
       "    <tr>\n",
       "      <th>014430619  14</th>\n",
       "      <td>CA</td>\n",
       "    </tr>\n",
       "  </tbody>\n",
       "</table>\n",
       "</div>"
      ],
      "text/plain": [
       "              Merch state\n",
       "Merchnum                 \n",
       "0                      MI\n",
       "003100006NOT6          KY\n",
       "004740006ABC6          WY\n",
       "005590006PNB6          CO\n",
       "014430619  14          CA"
      ]
     },
     "execution_count": 137,
     "metadata": {},
     "output_type": "execute_result"
    }
   ],
   "source": [
    "def f_mode (x):\n",
    "    return x.value_counts().index[0]\n",
    "\n",
    "valid_dataframe = valid_index[[attribute, 'Merchnum']].copy()\n",
    "temp = valid_dataframe.groupby(['Merchnum']).agg(f_mode).copy()\n",
    "temp.head(5)"
   ]
  },
  {
   "cell_type": "code",
   "execution_count": 138,
   "metadata": {},
   "outputs": [
    {
     "name": "stdout",
     "output_type": "stream",
     "text": [
      "Null Value Number Counts\n",
      "97\n"
     ]
    }
   ],
   "source": [
    "for i in myData[myData[attribute].isnull() == True].index:\n",
    "    try:\n",
    "        temp_Merchnum = myData.loc[i,'Merchnum']\n",
    "        myData.loc[i, attribute] = temp.loc[temp_Merchnum,attribute]\n",
    "    except:\n",
    "        continue\n",
    "print('Null Value Number Counts')\n",
    "print(myData[attribute].isnull().sum())"
   ]
  },
  {
   "cell_type": "markdown",
   "metadata": {},
   "source": [
    "### group by Merch description"
   ]
  },
  {
   "cell_type": "code",
   "execution_count": 139,
   "metadata": {},
   "outputs": [
    {
     "data": {
      "text/html": [
       "<div>\n",
       "<style scoped>\n",
       "    .dataframe tbody tr th:only-of-type {\n",
       "        vertical-align: middle;\n",
       "    }\n",
       "\n",
       "    .dataframe tbody tr th {\n",
       "        vertical-align: top;\n",
       "    }\n",
       "\n",
       "    .dataframe thead th {\n",
       "        text-align: right;\n",
       "    }\n",
       "</style>\n",
       "<table border=\"1\" class=\"dataframe\">\n",
       "  <thead>\n",
       "    <tr style=\"text-align: right;\">\n",
       "      <th></th>\n",
       "      <th>Merch state</th>\n",
       "    </tr>\n",
       "    <tr>\n",
       "      <th>Merch description</th>\n",
       "      <th></th>\n",
       "    </tr>\n",
       "  </thead>\n",
       "  <tbody>\n",
       "    <tr>\n",
       "      <th>#9 SOFTWARE</th>\n",
       "      <td>VA</td>\n",
       "    </tr>\n",
       "    <tr>\n",
       "      <th>(ISC)2 CERTIFICATION</th>\n",
       "      <td>MA</td>\n",
       "    </tr>\n",
       "    <tr>\n",
       "      <th>0000000000000000000000</th>\n",
       "      <td>WA</td>\n",
       "    </tr>\n",
       "    <tr>\n",
       "      <th>033007 KINKO'S</th>\n",
       "      <td>NC</td>\n",
       "    </tr>\n",
       "    <tr>\n",
       "      <th>05032 FLYING J</th>\n",
       "      <td>NM</td>\n",
       "    </tr>\n",
       "  </tbody>\n",
       "</table>\n",
       "</div>"
      ],
      "text/plain": [
       "                       Merch state\n",
       "Merch description                 \n",
       "#9 SOFTWARE                     VA\n",
       "(ISC)2 CERTIFICATION            MA\n",
       "0000000000000000000000          WA\n",
       "033007 KINKO'S                  NC\n",
       "05032 FLYING J                  NM"
      ]
     },
     "execution_count": 139,
     "metadata": {},
     "output_type": "execute_result"
    }
   ],
   "source": [
    "def f_mode (x):\n",
    "    return x.value_counts().index[0]\n",
    "\n",
    "valid_dataframe = valid_index[[attribute, 'Merch description']].copy()\n",
    "temp = valid_dataframe.groupby(['Merch description']).agg(f_mode).copy()\n",
    "temp.head(5)"
   ]
  },
  {
   "cell_type": "code",
   "execution_count": 140,
   "metadata": {},
   "outputs": [
    {
     "name": "stdout",
     "output_type": "stream",
     "text": [
      "Null Value Number Counts\n",
      "97\n"
     ]
    }
   ],
   "source": [
    "for i in myData[myData[attribute].isnull() == True].index:\n",
    "    try:\n",
    "        temp_Merch_description = myData.loc[i,'Merch description']\n",
    "        myData.loc[i, attribute] = temp.loc[temp_Merch_description,attribute]\n",
    "    except:\n",
    "        continue\n",
    "print('Null Value Number Counts')\n",
    "print(myData[attribute].isnull().sum())"
   ]
  },
  {
   "cell_type": "code",
   "execution_count": null,
   "metadata": {},
   "outputs": [],
   "source": []
  },
  {
   "cell_type": "code",
   "execution_count": null,
   "metadata": {},
   "outputs": [],
   "source": []
  },
  {
   "cell_type": "markdown",
   "metadata": {},
   "source": [
    "### group by Cardnum"
   ]
  },
  {
   "cell_type": "code",
   "execution_count": 141,
   "metadata": {},
   "outputs": [
    {
     "data": {
      "text/html": [
       "<div>\n",
       "<style scoped>\n",
       "    .dataframe tbody tr th:only-of-type {\n",
       "        vertical-align: middle;\n",
       "    }\n",
       "\n",
       "    .dataframe tbody tr th {\n",
       "        vertical-align: top;\n",
       "    }\n",
       "\n",
       "    .dataframe thead th {\n",
       "        text-align: right;\n",
       "    }\n",
       "</style>\n",
       "<table border=\"1\" class=\"dataframe\">\n",
       "  <thead>\n",
       "    <tr style=\"text-align: right;\">\n",
       "      <th></th>\n",
       "      <th>Merch state</th>\n",
       "    </tr>\n",
       "    <tr>\n",
       "      <th>Cardnum</th>\n",
       "      <th></th>\n",
       "    </tr>\n",
       "  </thead>\n",
       "  <tbody>\n",
       "    <tr>\n",
       "      <th>5142110002</th>\n",
       "      <td>VA</td>\n",
       "    </tr>\n",
       "    <tr>\n",
       "      <th>5142110081</th>\n",
       "      <td>WA</td>\n",
       "    </tr>\n",
       "    <tr>\n",
       "      <th>5142110402</th>\n",
       "      <td>CO</td>\n",
       "    </tr>\n",
       "    <tr>\n",
       "      <th>5142110434</th>\n",
       "      <td>IN</td>\n",
       "    </tr>\n",
       "    <tr>\n",
       "      <th>5142110651</th>\n",
       "      <td>GA</td>\n",
       "    </tr>\n",
       "  </tbody>\n",
       "</table>\n",
       "</div>"
      ],
      "text/plain": [
       "           Merch state\n",
       "Cardnum               \n",
       "5142110002          VA\n",
       "5142110081          WA\n",
       "5142110402          CO\n",
       "5142110434          IN\n",
       "5142110651          GA"
      ]
     },
     "execution_count": 141,
     "metadata": {},
     "output_type": "execute_result"
    }
   ],
   "source": [
    "def f_mode (x):\n",
    "    return x.value_counts().index[0]\n",
    "\n",
    "valid_dataframe = valid_index[[attribute, 'Cardnum']].copy()\n",
    "temp = valid_dataframe.groupby(['Cardnum']).agg(f_mode).copy()\n",
    "temp.head(5)"
   ]
  },
  {
   "cell_type": "code",
   "execution_count": 142,
   "metadata": {},
   "outputs": [
    {
     "name": "stdout",
     "output_type": "stream",
     "text": [
      "Null Value Number Counts\n",
      "31\n"
     ]
    }
   ],
   "source": [
    "for i in myData[myData[attribute].isnull() == True].index:\n",
    "    try:\n",
    "        temp_Cardnum = myData.loc[i,'Cardnum']\n",
    "        myData.loc[i, attribute] = temp.loc[temp_Cardnum,attribute]\n",
    "    except:\n",
    "        continue\n",
    "print('Null Value Number Counts')\n",
    "print(myData[attribute].isnull().sum())"
   ]
  },
  {
   "cell_type": "code",
   "execution_count": null,
   "metadata": {},
   "outputs": [],
   "source": []
  },
  {
   "cell_type": "code",
   "execution_count": null,
   "metadata": {},
   "outputs": [],
   "source": []
  },
  {
   "cell_type": "code",
   "execution_count": null,
   "metadata": {},
   "outputs": [],
   "source": []
  },
  {
   "cell_type": "code",
   "execution_count": null,
   "metadata": {},
   "outputs": [],
   "source": []
  },
  {
   "cell_type": "code",
   "execution_count": null,
   "metadata": {},
   "outputs": [],
   "source": []
  },
  {
   "cell_type": "code",
   "execution_count": null,
   "metadata": {},
   "outputs": [],
   "source": []
  },
  {
   "cell_type": "markdown",
   "metadata": {},
   "source": [
    "## Merchnum"
   ]
  },
  {
   "cell_type": "markdown",
   "metadata": {},
   "source": [
    "### group by Merch zip"
   ]
  },
  {
   "cell_type": "code",
   "execution_count": 143,
   "metadata": {},
   "outputs": [
    {
     "name": "stdout",
     "output_type": "stream",
     "text": [
      "Describe\n",
      "count            96345\n",
      "unique           13091\n",
      "top       930090121224\n",
      "freq              9311\n",
      "Name: Merchnum, dtype: object\n",
      "Value Counts\n",
      "Index(['930090121224', '5509006296254', '9900020006406', '602608969534',\n",
      "       '4353000719908', '410000971343'],\n",
      "      dtype='object')\n",
      "Null Value Number Counts\n",
      "408\n"
     ]
    }
   ],
   "source": [
    "attribute = 'Merchnum'\n",
    "\n",
    "print('Describe')\n",
    "print(myData[attribute].describe())\n",
    "\n",
    "print('Value Counts')\n",
    "print(myData[attribute].value_counts().index[0:6])\n",
    "\n",
    "print('Null Value Number Counts')\n",
    "print(myData[attribute].isnull().sum())"
   ]
  },
  {
   "cell_type": "code",
   "execution_count": 144,
   "metadata": {},
   "outputs": [
    {
     "name": "stdout",
     "output_type": "stream",
     "text": [
      "Null Value Number Counts\n",
      "408\n"
     ]
    }
   ],
   "source": [
    "valid_index = myData[myData[attribute].isnull() == False].copy()\n",
    "print('Null Value Number Counts')\n",
    "print(myData[attribute].isnull().sum())"
   ]
  },
  {
   "cell_type": "code",
   "execution_count": 145,
   "metadata": {},
   "outputs": [
    {
     "data": {
      "text/html": [
       "<div>\n",
       "<style scoped>\n",
       "    .dataframe tbody tr th:only-of-type {\n",
       "        vertical-align: middle;\n",
       "    }\n",
       "\n",
       "    .dataframe tbody tr th {\n",
       "        vertical-align: top;\n",
       "    }\n",
       "\n",
       "    .dataframe thead th {\n",
       "        text-align: right;\n",
       "    }\n",
       "</style>\n",
       "<table border=\"1\" class=\"dataframe\">\n",
       "  <thead>\n",
       "    <tr style=\"text-align: right;\">\n",
       "      <th></th>\n",
       "      <th>Merchnum</th>\n",
       "    </tr>\n",
       "    <tr>\n",
       "      <th>Merch zip</th>\n",
       "      <th></th>\n",
       "    </tr>\n",
       "  </thead>\n",
       "  <tbody>\n",
       "    <tr>\n",
       "      <th>1.0</th>\n",
       "      <td>9341690509209</td>\n",
       "    </tr>\n",
       "    <tr>\n",
       "      <th>2.0</th>\n",
       "      <td>9900020006406</td>\n",
       "    </tr>\n",
       "    <tr>\n",
       "      <th>3.0</th>\n",
       "      <td>602608969534</td>\n",
       "    </tr>\n",
       "    <tr>\n",
       "      <th>5.0</th>\n",
       "      <td>4620000731201</td>\n",
       "    </tr>\n",
       "    <tr>\n",
       "      <th>6.0</th>\n",
       "      <td>5725000466504</td>\n",
       "    </tr>\n",
       "  </tbody>\n",
       "</table>\n",
       "</div>"
      ],
      "text/plain": [
       "                Merchnum\n",
       "Merch zip               \n",
       "1.0        9341690509209\n",
       "2.0        9900020006406\n",
       "3.0         602608969534\n",
       "5.0        4620000731201\n",
       "6.0        5725000466504"
      ]
     },
     "execution_count": 145,
     "metadata": {},
     "output_type": "execute_result"
    }
   ],
   "source": [
    "def f_mode (x):\n",
    "    return x.value_counts().index[0]\n",
    "\n",
    "valid_dataframe = valid_index[[attribute, 'Merch zip']].copy()\n",
    "temp = valid_dataframe.groupby(['Merch zip']).agg(f_mode).copy()\n",
    "temp.head(5)"
   ]
  },
  {
   "cell_type": "code",
   "execution_count": 146,
   "metadata": {},
   "outputs": [
    {
     "name": "stdout",
     "output_type": "stream",
     "text": [
      "Null Value Number Counts\n",
      "49\n"
     ]
    }
   ],
   "source": [
    "for i in myData[myData[attribute].isnull() == True].index:\n",
    "    try:\n",
    "        temp_Merch_zip = myData.loc[i,'Merch zip']\n",
    "        myData.loc[i, attribute] = temp.loc[temp_Merch_zip,attribute]\n",
    "    except:\n",
    "        continue\n",
    "print('Null Value Number Counts')\n",
    "print(myData[attribute].isnull().sum())"
   ]
  },
  {
   "cell_type": "markdown",
   "metadata": {},
   "source": [
    "### group by Merch state"
   ]
  },
  {
   "cell_type": "code",
   "execution_count": 147,
   "metadata": {},
   "outputs": [
    {
     "name": "stdout",
     "output_type": "stream",
     "text": [
      "Null Value Number Counts\n",
      "49\n"
     ]
    }
   ],
   "source": [
    "valid_index = myData[myData[attribute].isnull() == False].copy()\n",
    "print('Null Value Number Counts')\n",
    "print(myData[attribute].isnull().sum())"
   ]
  },
  {
   "cell_type": "code",
   "execution_count": 148,
   "metadata": {},
   "outputs": [
    {
     "data": {
      "text/html": [
       "<div>\n",
       "<style scoped>\n",
       "    .dataframe tbody tr th:only-of-type {\n",
       "        vertical-align: middle;\n",
       "    }\n",
       "\n",
       "    .dataframe tbody tr th {\n",
       "        vertical-align: top;\n",
       "    }\n",
       "\n",
       "    .dataframe thead th {\n",
       "        text-align: right;\n",
       "    }\n",
       "</style>\n",
       "<table border=\"1\" class=\"dataframe\">\n",
       "  <thead>\n",
       "    <tr style=\"text-align: right;\">\n",
       "      <th></th>\n",
       "      <th>Merchnum</th>\n",
       "    </tr>\n",
       "    <tr>\n",
       "      <th>Merch state</th>\n",
       "      <th></th>\n",
       "    </tr>\n",
       "  </thead>\n",
       "  <tbody>\n",
       "    <tr>\n",
       "      <th>005</th>\n",
       "      <td>0</td>\n",
       "    </tr>\n",
       "    <tr>\n",
       "      <th>016</th>\n",
       "      <td>0</td>\n",
       "    </tr>\n",
       "    <tr>\n",
       "      <th>022</th>\n",
       "      <td>0</td>\n",
       "    </tr>\n",
       "    <tr>\n",
       "      <th>040</th>\n",
       "      <td>0</td>\n",
       "    </tr>\n",
       "    <tr>\n",
       "      <th>042</th>\n",
       "      <td>0</td>\n",
       "    </tr>\n",
       "  </tbody>\n",
       "</table>\n",
       "</div>"
      ],
      "text/plain": [
       "            Merchnum\n",
       "Merch state         \n",
       "005                0\n",
       "016                0\n",
       "022                0\n",
       "040                0\n",
       "042                0"
      ]
     },
     "execution_count": 148,
     "metadata": {},
     "output_type": "execute_result"
    }
   ],
   "source": [
    "def f_mode (x):\n",
    "    return x.value_counts().index[0]\n",
    "\n",
    "valid_dataframe = valid_index[[attribute, 'Merch state']].copy()\n",
    "temp = valid_dataframe.groupby(['Merch state']).agg(f_mode).copy()\n",
    "temp.head(5)"
   ]
  },
  {
   "cell_type": "code",
   "execution_count": 149,
   "metadata": {},
   "outputs": [
    {
     "name": "stdout",
     "output_type": "stream",
     "text": [
      "Null Value Number Counts\n",
      "31\n"
     ]
    }
   ],
   "source": [
    "for i in myData[myData[attribute].isnull() == True].index:\n",
    "    try:\n",
    "        temp_Merch_state = myData.loc[i,'Merch state']\n",
    "        myData.loc[i, attribute] = temp.loc[temp_Merch_state,attribute]\n",
    "    except:\n",
    "        continue\n",
    "print('Null Value Number Counts')\n",
    "print(myData[attribute].isnull().sum())"
   ]
  },
  {
   "cell_type": "markdown",
   "metadata": {},
   "source": [
    "### group by Merch description"
   ]
  },
  {
   "cell_type": "code",
   "execution_count": 150,
   "metadata": {},
   "outputs": [
    {
     "data": {
      "text/html": [
       "<div>\n",
       "<style scoped>\n",
       "    .dataframe tbody tr th:only-of-type {\n",
       "        vertical-align: middle;\n",
       "    }\n",
       "\n",
       "    .dataframe tbody tr th {\n",
       "        vertical-align: top;\n",
       "    }\n",
       "\n",
       "    .dataframe thead th {\n",
       "        text-align: right;\n",
       "    }\n",
       "</style>\n",
       "<table border=\"1\" class=\"dataframe\">\n",
       "  <thead>\n",
       "    <tr style=\"text-align: right;\">\n",
       "      <th></th>\n",
       "      <th>Merchnum</th>\n",
       "    </tr>\n",
       "    <tr>\n",
       "      <th>Merch description</th>\n",
       "      <th></th>\n",
       "    </tr>\n",
       "  </thead>\n",
       "  <tbody>\n",
       "    <tr>\n",
       "      <th>#9 SOFTWARE</th>\n",
       "      <td>6000330882278</td>\n",
       "    </tr>\n",
       "    <tr>\n",
       "      <th>(ISC)2 CERTIFICATION</th>\n",
       "      <td>590065510</td>\n",
       "    </tr>\n",
       "    <tr>\n",
       "      <th>0000000000000000000000</th>\n",
       "      <td>8168600400097</td>\n",
       "    </tr>\n",
       "    <tr>\n",
       "      <th>033007 KINKO'S</th>\n",
       "      <td>35068136338</td>\n",
       "    </tr>\n",
       "    <tr>\n",
       "      <th>05032 FLYING J</th>\n",
       "      <td>121075089FL96</td>\n",
       "    </tr>\n",
       "  </tbody>\n",
       "</table>\n",
       "</div>"
      ],
      "text/plain": [
       "                             Merchnum\n",
       "Merch description                    \n",
       "#9 SOFTWARE             6000330882278\n",
       "(ISC)2 CERTIFICATION        590065510\n",
       "0000000000000000000000  8168600400097\n",
       "033007 KINKO'S            35068136338\n",
       "05032 FLYING J          121075089FL96"
      ]
     },
     "execution_count": 150,
     "metadata": {},
     "output_type": "execute_result"
    }
   ],
   "source": [
    "def f_mode (x):\n",
    "    return x.value_counts().index[0]\n",
    "\n",
    "valid_dataframe = valid_index[[attribute, 'Merch description']].copy()\n",
    "temp = valid_dataframe.groupby(['Merch description']).agg(f_mode).copy()\n",
    "temp.head(5)"
   ]
  },
  {
   "cell_type": "code",
   "execution_count": 151,
   "metadata": {},
   "outputs": [
    {
     "name": "stdout",
     "output_type": "stream",
     "text": [
      "Null Value Number Counts\n",
      "31\n"
     ]
    }
   ],
   "source": [
    "for i in myData[myData[attribute].isnull() == True].index:\n",
    "    try:\n",
    "        temp_Merch_description = myData.loc[i,'Merch description']\n",
    "        myData.loc[i, attribute] = temp.loc[temp_Merch_description,attribute]\n",
    "    except:\n",
    "        continue\n",
    "print('Null Value Number Counts')\n",
    "print(myData[attribute].isnull().sum())"
   ]
  },
  {
   "cell_type": "code",
   "execution_count": null,
   "metadata": {},
   "outputs": [],
   "source": []
  },
  {
   "cell_type": "code",
   "execution_count": null,
   "metadata": {},
   "outputs": [],
   "source": []
  },
  {
   "cell_type": "markdown",
   "metadata": {},
   "source": [
    "### group by Cardnum"
   ]
  },
  {
   "cell_type": "code",
   "execution_count": 152,
   "metadata": {},
   "outputs": [
    {
     "data": {
      "text/html": [
       "<div>\n",
       "<style scoped>\n",
       "    .dataframe tbody tr th:only-of-type {\n",
       "        vertical-align: middle;\n",
       "    }\n",
       "\n",
       "    .dataframe tbody tr th {\n",
       "        vertical-align: top;\n",
       "    }\n",
       "\n",
       "    .dataframe thead th {\n",
       "        text-align: right;\n",
       "    }\n",
       "</style>\n",
       "<table border=\"1\" class=\"dataframe\">\n",
       "  <thead>\n",
       "    <tr style=\"text-align: right;\">\n",
       "      <th></th>\n",
       "      <th>Merchnum</th>\n",
       "    </tr>\n",
       "    <tr>\n",
       "      <th>Cardnum</th>\n",
       "      <th></th>\n",
       "    </tr>\n",
       "  </thead>\n",
       "  <tbody>\n",
       "    <tr>\n",
       "      <th>5142110002</th>\n",
       "      <td>9900020006406</td>\n",
       "    </tr>\n",
       "    <tr>\n",
       "      <th>5142110081</th>\n",
       "      <td>4503082412500</td>\n",
       "    </tr>\n",
       "    <tr>\n",
       "      <th>5142110402</th>\n",
       "      <td>8849060059968</td>\n",
       "    </tr>\n",
       "    <tr>\n",
       "      <th>5142110434</th>\n",
       "      <td>8292309000040</td>\n",
       "    </tr>\n",
       "    <tr>\n",
       "      <th>5142110651</th>\n",
       "      <td>602608969534</td>\n",
       "    </tr>\n",
       "  </tbody>\n",
       "</table>\n",
       "</div>"
      ],
      "text/plain": [
       "                 Merchnum\n",
       "Cardnum                  \n",
       "5142110002  9900020006406\n",
       "5142110081  4503082412500\n",
       "5142110402  8849060059968\n",
       "5142110434  8292309000040\n",
       "5142110651   602608969534"
      ]
     },
     "execution_count": 152,
     "metadata": {},
     "output_type": "execute_result"
    }
   ],
   "source": [
    "def f_mode (x):\n",
    "    return x.value_counts().index[0]\n",
    "\n",
    "valid_dataframe = valid_index[[attribute, 'Cardnum']].copy()\n",
    "temp = valid_dataframe.groupby(['Cardnum']).agg(f_mode).copy()\n",
    "temp.head(5)"
   ]
  },
  {
   "cell_type": "code",
   "execution_count": 153,
   "metadata": {},
   "outputs": [
    {
     "name": "stdout",
     "output_type": "stream",
     "text": [
      "Null Value Number Counts\n",
      "31\n"
     ]
    }
   ],
   "source": [
    "for i in myData[myData[attribute].isnull() == True].index:\n",
    "    try:\n",
    "        temp_Cardnum = myData.loc[i,'Cardnum']\n",
    "        myData.loc[i, attribute] = temp.loc[temp_Cardnum,attribute]\n",
    "    except:\n",
    "        continue\n",
    "print('Null Value Number Counts')\n",
    "print(myData[attribute].isnull().sum())"
   ]
  },
  {
   "cell_type": "code",
   "execution_count": 165,
   "metadata": {},
   "outputs": [],
   "source": [
    "myData.to_csv('cleanData1-yifeng.csv')"
   ]
  },
  {
   "cell_type": "code",
   "execution_count": null,
   "metadata": {},
   "outputs": [],
   "source": []
  },
  {
   "cell_type": "code",
   "execution_count": null,
   "metadata": {},
   "outputs": [],
   "source": []
  }
 ],
 "metadata": {
  "kernelspec": {
   "display_name": "Python 3",
   "language": "python",
   "name": "python3"
  },
  "language_info": {
   "codemirror_mode": {
    "name": "ipython",
    "version": 3
   },
   "file_extension": ".py",
   "mimetype": "text/x-python",
   "name": "python",
   "nbconvert_exporter": "python",
   "pygments_lexer": "ipython3",
   "version": "3.7.1"
  }
 },
 "nbformat": 4,
 "nbformat_minor": 2
}
