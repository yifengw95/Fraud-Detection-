{
 "cells": [
  {
   "cell_type": "code",
   "execution_count": 76,
   "metadata": {},
   "outputs": [],
   "source": [
    "import pandas as pd\n",
    "import numpy as np\n",
    "import scipy.stats as sps\n",
    "import matplotlib.pyplot as plt\n",
    "import seaborn as sns\n",
    "import sklearn as skl\n",
    "from sklearn import preprocessing\n",
    "import datetime as dt"
   ]
  },
  {
   "cell_type": "code",
   "execution_count": 77,
   "metadata": {},
   "outputs": [
    {
     "name": "stdout",
     "output_type": "stream",
     "text": [
      "CPU times: user 3 µs, sys: 1 µs, total: 4 µs\n",
      "Wall time: 6.91 µs\n"
     ]
    }
   ],
   "source": [
    "%time\n",
    "file = 'cleanData1-yifeng.csv'\n",
    "myData = pd.read_csv(file)"
   ]
  },
  {
   "cell_type": "markdown",
   "metadata": {},
   "source": [
    "# Delete 31 null value(cannot be grouped by)"
   ]
  },
  {
   "cell_type": "code",
   "execution_count": 78,
   "metadata": {},
   "outputs": [
    {
     "name": "stdout",
     "output_type": "stream",
     "text": [
      "Describe\n",
      "count    96722.000000\n",
      "mean     44310.149377\n",
      "std      28424.263132\n",
      "min          1.000000\n",
      "25%      20852.000000\n",
      "50%      38118.000000\n",
      "75%      63103.000000\n",
      "max      99999.000000\n",
      "Name: Merch zip, dtype: float64\n",
      "Value Counts\n",
      "Float64Index([38118.0, 22202.0, 63103.0, 30091.0, 60061.0, 8701.0], dtype='float64')\n",
      "Null Value Number Counts\n",
      "31\n"
     ]
    }
   ],
   "source": [
    "attribute = 'Merch zip'\n",
    "\n",
    "print('Describe')\n",
    "print(myData[attribute].describe())\n",
    "\n",
    "print('Value Counts')\n",
    "print(myData[attribute].value_counts().index[0:6])\n",
    "\n",
    "print('Null Value Number Counts')\n",
    "print(myData[attribute].isnull().sum())"
   ]
  },
  {
   "cell_type": "code",
   "execution_count": 79,
   "metadata": {
    "scrolled": true
   },
   "outputs": [
    {
     "data": {
      "text/html": [
       "<div>\n",
       "<style scoped>\n",
       "    .dataframe tbody tr th:only-of-type {\n",
       "        vertical-align: middle;\n",
       "    }\n",
       "\n",
       "    .dataframe tbody tr th {\n",
       "        vertical-align: top;\n",
       "    }\n",
       "\n",
       "    .dataframe thead th {\n",
       "        text-align: right;\n",
       "    }\n",
       "</style>\n",
       "<table border=\"1\" class=\"dataframe\">\n",
       "  <thead>\n",
       "    <tr style=\"text-align: right;\">\n",
       "      <th></th>\n",
       "      <th>Unnamed: 0</th>\n",
       "      <th>Recnum</th>\n",
       "      <th>Cardnum</th>\n",
       "      <th>Date</th>\n",
       "      <th>Merchnum</th>\n",
       "      <th>Merch description</th>\n",
       "      <th>Merch state</th>\n",
       "      <th>Merch zip</th>\n",
       "      <th>Transtype</th>\n",
       "      <th>Amount</th>\n",
       "      <th>Fraud</th>\n",
       "    </tr>\n",
       "  </thead>\n",
       "  <tbody>\n",
       "    <tr>\n",
       "      <th>66862</th>\n",
       "      <td>66862</td>\n",
       "      <td>66863</td>\n",
       "      <td>5142110691</td>\n",
       "      <td>2010-08-24</td>\n",
       "      <td>NaN</td>\n",
       "      <td>X ATM CASH ADVANC</td>\n",
       "      <td>NaN</td>\n",
       "      <td>NaN</td>\n",
       "      <td>P</td>\n",
       "      <td>1.93</td>\n",
       "      <td>0</td>\n",
       "    </tr>\n",
       "    <tr>\n",
       "      <th>80277</th>\n",
       "      <td>80277</td>\n",
       "      <td>80278</td>\n",
       "      <td>5142110691</td>\n",
       "      <td>2010-10-07</td>\n",
       "      <td>NaN</td>\n",
       "      <td>XFR F/VILLARREAL 12637808</td>\n",
       "      <td>NaN</td>\n",
       "      <td>NaN</td>\n",
       "      <td>P</td>\n",
       "      <td>0.41</td>\n",
       "      <td>0</td>\n",
       "    </tr>\n",
       "    <tr>\n",
       "      <th>80283</th>\n",
       "      <td>80283</td>\n",
       "      <td>80284</td>\n",
       "      <td>5142110691</td>\n",
       "      <td>2010-10-07</td>\n",
       "      <td>NaN</td>\n",
       "      <td>XFR F/VILLARREAL 12637808</td>\n",
       "      <td>NaN</td>\n",
       "      <td>NaN</td>\n",
       "      <td>P</td>\n",
       "      <td>1.14</td>\n",
       "      <td>0</td>\n",
       "    </tr>\n",
       "    <tr>\n",
       "      <th>80308</th>\n",
       "      <td>80308</td>\n",
       "      <td>80309</td>\n",
       "      <td>5142110691</td>\n",
       "      <td>2010-10-07</td>\n",
       "      <td>NaN</td>\n",
       "      <td>XFR F/VILLARREAL 12637808</td>\n",
       "      <td>NaN</td>\n",
       "      <td>NaN</td>\n",
       "      <td>P</td>\n",
       "      <td>3.83</td>\n",
       "      <td>0</td>\n",
       "    </tr>\n",
       "    <tr>\n",
       "      <th>80315</th>\n",
       "      <td>80315</td>\n",
       "      <td>80316</td>\n",
       "      <td>5142110691</td>\n",
       "      <td>2010-10-07</td>\n",
       "      <td>NaN</td>\n",
       "      <td>XFR F/VILLARREAL 12637808</td>\n",
       "      <td>NaN</td>\n",
       "      <td>NaN</td>\n",
       "      <td>P</td>\n",
       "      <td>0.38</td>\n",
       "      <td>0</td>\n",
       "    </tr>\n",
       "  </tbody>\n",
       "</table>\n",
       "</div>"
      ],
      "text/plain": [
       "       Unnamed: 0  Recnum     Cardnum        Date Merchnum  \\\n",
       "66862       66862   66863  5142110691  2010-08-24      NaN   \n",
       "80277       80277   80278  5142110691  2010-10-07      NaN   \n",
       "80283       80283   80284  5142110691  2010-10-07      NaN   \n",
       "80308       80308   80309  5142110691  2010-10-07      NaN   \n",
       "80315       80315   80316  5142110691  2010-10-07      NaN   \n",
       "\n",
       "               Merch description Merch state  Merch zip Transtype  Amount  \\\n",
       "66862          X ATM CASH ADVANC         NaN        NaN         P    1.93   \n",
       "80277  XFR F/VILLARREAL 12637808         NaN        NaN         P    0.41   \n",
       "80283  XFR F/VILLARREAL 12637808         NaN        NaN         P    1.14   \n",
       "80308  XFR F/VILLARREAL 12637808         NaN        NaN         P    3.83   \n",
       "80315  XFR F/VILLARREAL 12637808         NaN        NaN         P    0.38   \n",
       "\n",
       "       Fraud  \n",
       "66862      0  \n",
       "80277      0  \n",
       "80283      0  \n",
       "80308      0  \n",
       "80315      0  "
      ]
     },
     "execution_count": 79,
     "metadata": {},
     "output_type": "execute_result"
    }
   ],
   "source": [
    "missing_list = (myData[myData[attribute].isnull() == True])\n",
    "missing_list.head(5)"
   ]
  },
  {
   "cell_type": "code",
   "execution_count": 80,
   "metadata": {},
   "outputs": [
    {
     "data": {
      "text/plain": [
       "Int64Index([66862, 80277, 80283, 80308, 80315, 80317, 80318, 80322, 80326,\n",
       "            80331, 80347, 80351, 80364, 80368, 80379, 80386, 80387, 80402,\n",
       "            80446, 80474, 80477, 80483, 80485, 80486, 80487, 80514, 80523,\n",
       "            80526, 80541, 80546, 80588],\n",
       "           dtype='int64')"
      ]
     },
     "execution_count": 80,
     "metadata": {},
     "output_type": "execute_result"
    }
   ],
   "source": [
    "missing_index = myData[myData[attribute].isnull() == True].index\n",
    "missing_index"
   ]
  },
  {
   "cell_type": "code",
   "execution_count": 81,
   "metadata": {},
   "outputs": [],
   "source": [
    "myData2 = myData.drop(missing_index).copy()"
   ]
  },
  {
   "cell_type": "code",
   "execution_count": 82,
   "metadata": {},
   "outputs": [
    {
     "data": {
      "text/plain": [
       "(96722, 11)"
      ]
     },
     "execution_count": 82,
     "metadata": {},
     "output_type": "execute_result"
    }
   ],
   "source": [
    "myData2.shape"
   ]
  },
  {
   "cell_type": "code",
   "execution_count": 83,
   "metadata": {},
   "outputs": [
    {
     "name": "stdout",
     "output_type": "stream",
     "text": [
      "Null Value Number Counts\n",
      "0\n"
     ]
    }
   ],
   "source": [
    "attribute = 'Merch zip'\n",
    "\n",
    "print('Null Value Number Counts')\n",
    "print(myData2[attribute].isnull().sum())"
   ]
  },
  {
   "cell_type": "code",
   "execution_count": 84,
   "metadata": {},
   "outputs": [
    {
     "name": "stdout",
     "output_type": "stream",
     "text": [
      "Null Value Number Counts\n",
      "0\n"
     ]
    }
   ],
   "source": [
    "attribute = 'Merch state'\n",
    "\n",
    "print('Null Value Number Counts')\n",
    "print(myData2[attribute].isnull().sum())"
   ]
  },
  {
   "cell_type": "code",
   "execution_count": 85,
   "metadata": {},
   "outputs": [
    {
     "name": "stdout",
     "output_type": "stream",
     "text": [
      "Null Value Number Counts\n",
      "0\n"
     ]
    }
   ],
   "source": [
    "attribute = 'Merchnum'\n",
    "\n",
    "print('Null Value Number Counts')\n",
    "print(myData2[attribute].isnull().sum())"
   ]
  },
  {
   "cell_type": "markdown",
   "metadata": {},
   "source": [
    "# Delete 1st attribute(Recnum), which is useless"
   ]
  },
  {
   "cell_type": "code",
   "execution_count": 86,
   "metadata": {},
   "outputs": [
    {
     "data": {
      "text/html": [
       "<div>\n",
       "<style scoped>\n",
       "    .dataframe tbody tr th:only-of-type {\n",
       "        vertical-align: middle;\n",
       "    }\n",
       "\n",
       "    .dataframe tbody tr th {\n",
       "        vertical-align: top;\n",
       "    }\n",
       "\n",
       "    .dataframe thead th {\n",
       "        text-align: right;\n",
       "    }\n",
       "</style>\n",
       "<table border=\"1\" class=\"dataframe\">\n",
       "  <thead>\n",
       "    <tr style=\"text-align: right;\">\n",
       "      <th></th>\n",
       "      <th>Unnamed: 0</th>\n",
       "      <th>Recnum</th>\n",
       "      <th>Cardnum</th>\n",
       "      <th>Date</th>\n",
       "      <th>Merchnum</th>\n",
       "      <th>Merch description</th>\n",
       "      <th>Merch state</th>\n",
       "      <th>Merch zip</th>\n",
       "      <th>Transtype</th>\n",
       "      <th>Amount</th>\n",
       "      <th>Fraud</th>\n",
       "    </tr>\n",
       "  </thead>\n",
       "  <tbody>\n",
       "    <tr>\n",
       "      <th>0</th>\n",
       "      <td>0</td>\n",
       "      <td>1</td>\n",
       "      <td>5142190439</td>\n",
       "      <td>2010-01-01</td>\n",
       "      <td>5509006296254</td>\n",
       "      <td>FEDEX SHP 12/23/09 AB#</td>\n",
       "      <td>TN</td>\n",
       "      <td>38118.0</td>\n",
       "      <td>P</td>\n",
       "      <td>3.62</td>\n",
       "      <td>0</td>\n",
       "    </tr>\n",
       "    <tr>\n",
       "      <th>1</th>\n",
       "      <td>1</td>\n",
       "      <td>2</td>\n",
       "      <td>5142183973</td>\n",
       "      <td>2010-01-01</td>\n",
       "      <td>61003026333</td>\n",
       "      <td>SERVICE MERCHANDISE #81</td>\n",
       "      <td>MA</td>\n",
       "      <td>1803.0</td>\n",
       "      <td>P</td>\n",
       "      <td>31.42</td>\n",
       "      <td>0</td>\n",
       "    </tr>\n",
       "    <tr>\n",
       "      <th>2</th>\n",
       "      <td>2</td>\n",
       "      <td>3</td>\n",
       "      <td>5142131721</td>\n",
       "      <td>2010-01-01</td>\n",
       "      <td>4503082993600</td>\n",
       "      <td>OFFICE DEPOT #191</td>\n",
       "      <td>MD</td>\n",
       "      <td>20706.0</td>\n",
       "      <td>P</td>\n",
       "      <td>178.49</td>\n",
       "      <td>0</td>\n",
       "    </tr>\n",
       "  </tbody>\n",
       "</table>\n",
       "</div>"
      ],
      "text/plain": [
       "   Unnamed: 0  Recnum     Cardnum        Date       Merchnum  \\\n",
       "0           0       1  5142190439  2010-01-01  5509006296254   \n",
       "1           1       2  5142183973  2010-01-01    61003026333   \n",
       "2           2       3  5142131721  2010-01-01  4503082993600   \n",
       "\n",
       "         Merch description Merch state  Merch zip Transtype  Amount  Fraud  \n",
       "0   FEDEX SHP 12/23/09 AB#          TN    38118.0         P    3.62      0  \n",
       "1  SERVICE MERCHANDISE #81          MA     1803.0         P   31.42      0  \n",
       "2        OFFICE DEPOT #191          MD    20706.0         P  178.49      0  "
      ]
     },
     "execution_count": 86,
     "metadata": {},
     "output_type": "execute_result"
    }
   ],
   "source": [
    "myData2.head(3)"
   ]
  },
  {
   "cell_type": "code",
   "execution_count": 87,
   "metadata": {},
   "outputs": [],
   "source": [
    "del_attribute = ['Recnum', 'Unnamed: 0']"
   ]
  },
  {
   "cell_type": "code",
   "execution_count": 88,
   "metadata": {},
   "outputs": [],
   "source": [
    "for del_i in del_attribute: \n",
    "    myData2.drop([del_i], axis = 1, inplace= True)"
   ]
  },
  {
   "cell_type": "code",
   "execution_count": 89,
   "metadata": {},
   "outputs": [
    {
     "data": {
      "text/html": [
       "<div>\n",
       "<style scoped>\n",
       "    .dataframe tbody tr th:only-of-type {\n",
       "        vertical-align: middle;\n",
       "    }\n",
       "\n",
       "    .dataframe tbody tr th {\n",
       "        vertical-align: top;\n",
       "    }\n",
       "\n",
       "    .dataframe thead th {\n",
       "        text-align: right;\n",
       "    }\n",
       "</style>\n",
       "<table border=\"1\" class=\"dataframe\">\n",
       "  <thead>\n",
       "    <tr style=\"text-align: right;\">\n",
       "      <th></th>\n",
       "      <th>Cardnum</th>\n",
       "      <th>Date</th>\n",
       "      <th>Merchnum</th>\n",
       "      <th>Merch description</th>\n",
       "      <th>Merch state</th>\n",
       "      <th>Merch zip</th>\n",
       "      <th>Transtype</th>\n",
       "      <th>Amount</th>\n",
       "      <th>Fraud</th>\n",
       "    </tr>\n",
       "  </thead>\n",
       "  <tbody>\n",
       "    <tr>\n",
       "      <th>0</th>\n",
       "      <td>5142190439</td>\n",
       "      <td>2010-01-01</td>\n",
       "      <td>5509006296254</td>\n",
       "      <td>FEDEX SHP 12/23/09 AB#</td>\n",
       "      <td>TN</td>\n",
       "      <td>38118.0</td>\n",
       "      <td>P</td>\n",
       "      <td>3.62</td>\n",
       "      <td>0</td>\n",
       "    </tr>\n",
       "    <tr>\n",
       "      <th>1</th>\n",
       "      <td>5142183973</td>\n",
       "      <td>2010-01-01</td>\n",
       "      <td>61003026333</td>\n",
       "      <td>SERVICE MERCHANDISE #81</td>\n",
       "      <td>MA</td>\n",
       "      <td>1803.0</td>\n",
       "      <td>P</td>\n",
       "      <td>31.42</td>\n",
       "      <td>0</td>\n",
       "    </tr>\n",
       "    <tr>\n",
       "      <th>2</th>\n",
       "      <td>5142131721</td>\n",
       "      <td>2010-01-01</td>\n",
       "      <td>4503082993600</td>\n",
       "      <td>OFFICE DEPOT #191</td>\n",
       "      <td>MD</td>\n",
       "      <td>20706.0</td>\n",
       "      <td>P</td>\n",
       "      <td>178.49</td>\n",
       "      <td>0</td>\n",
       "    </tr>\n",
       "  </tbody>\n",
       "</table>\n",
       "</div>"
      ],
      "text/plain": [
       "      Cardnum        Date       Merchnum        Merch description Merch state  \\\n",
       "0  5142190439  2010-01-01  5509006296254   FEDEX SHP 12/23/09 AB#          TN   \n",
       "1  5142183973  2010-01-01    61003026333  SERVICE MERCHANDISE #81          MA   \n",
       "2  5142131721  2010-01-01  4503082993600        OFFICE DEPOT #191          MD   \n",
       "\n",
       "   Merch zip Transtype  Amount  Fraud  \n",
       "0    38118.0         P    3.62      0  \n",
       "1     1803.0         P   31.42      0  \n",
       "2    20706.0         P  178.49      0  "
      ]
     },
     "execution_count": 89,
     "metadata": {},
     "output_type": "execute_result"
    }
   ],
   "source": [
    "myData2.head(3)"
   ]
  },
  {
   "cell_type": "code",
   "execution_count": 90,
   "metadata": {},
   "outputs": [
    {
     "name": "stdout",
     "output_type": "stream",
     "text": [
      "Null Value Number Counts\n",
      "0\n"
     ]
    }
   ],
   "source": [
    "attribute = 'Cardnum'\n",
    "\n",
    "print('Null Value Number Counts')\n",
    "print(myData2[attribute].isnull().sum())"
   ]
  },
  {
   "cell_type": "code",
   "execution_count": 91,
   "metadata": {},
   "outputs": [
    {
     "name": "stdout",
     "output_type": "stream",
     "text": [
      "Null Value Number Counts\n",
      "0\n"
     ]
    }
   ],
   "source": [
    "attribute = 'Date'\n",
    "\n",
    "print('Null Value Number Counts')\n",
    "print(myData2[attribute].isnull().sum())"
   ]
  },
  {
   "cell_type": "code",
   "execution_count": 92,
   "metadata": {},
   "outputs": [
    {
     "name": "stdout",
     "output_type": "stream",
     "text": [
      "Null Value Number Counts\n",
      "0\n"
     ]
    }
   ],
   "source": [
    "attribute = 'Merch description'\n",
    "\n",
    "print('Null Value Number Counts')\n",
    "print(myData2[attribute].isnull().sum())"
   ]
  },
  {
   "cell_type": "markdown",
   "metadata": {},
   "source": [
    "# Delete 'Transtype' A D Y"
   ]
  },
  {
   "cell_type": "code",
   "execution_count": 93,
   "metadata": {},
   "outputs": [
    {
     "name": "stdout",
     "output_type": "stream",
     "text": [
      "Describe\n",
      "count     96722\n",
      "unique        4\n",
      "top           P\n",
      "freq      96367\n",
      "Name: Transtype, dtype: object\n",
      "Value Counts\n",
      "P    96367\n",
      "A      181\n",
      "D      173\n",
      "Y        1\n",
      "Name: Transtype, dtype: int64\n",
      "Null Value Number Counts\n",
      "0\n"
     ]
    }
   ],
   "source": [
    "attribute = 'Transtype'\n",
    "\n",
    "print('Describe')\n",
    "print(myData2[attribute].describe())\n",
    "\n",
    "print('Value Counts')\n",
    "print(myData2[attribute].value_counts())\n",
    "\n",
    "print('Null Value Number Counts')\n",
    "print(myData2[attribute].isnull().sum())"
   ]
  },
  {
   "cell_type": "code",
   "execution_count": 94,
   "metadata": {},
   "outputs": [],
   "source": [
    "del_index = myData2[myData2[attribute].isin (['A','D', 'Y'])].index"
   ]
  },
  {
   "cell_type": "code",
   "execution_count": 95,
   "metadata": {},
   "outputs": [],
   "source": [
    "myData2.drop(del_index, inplace = True)"
   ]
  },
  {
   "cell_type": "code",
   "execution_count": 96,
   "metadata": {},
   "outputs": [
    {
     "name": "stdout",
     "output_type": "stream",
     "text": [
      "Describe\n",
      "count     96367\n",
      "unique        1\n",
      "top           P\n",
      "freq      96367\n",
      "Name: Transtype, dtype: object\n",
      "Value Counts\n",
      "P    96367\n",
      "Name: Transtype, dtype: int64\n",
      "Null Value Number Counts\n",
      "0\n"
     ]
    }
   ],
   "source": [
    "attribute = 'Transtype'\n",
    "\n",
    "print('Describe')\n",
    "print(myData2[attribute].describe())\n",
    "\n",
    "print('Value Counts')\n",
    "print(myData2[attribute].value_counts())\n",
    "\n",
    "print('Null Value Number Counts')\n",
    "print(myData2[attribute].isnull().sum())"
   ]
  },
  {
   "cell_type": "markdown",
   "metadata": {},
   "source": [
    "# Delete Outlier in Amount"
   ]
  },
  {
   "cell_type": "code",
   "execution_count": 97,
   "metadata": {
    "scrolled": true
   },
   "outputs": [
    {
     "name": "stdout",
     "output_type": "stream",
     "text": [
      "Describe\n",
      "count    9.636700e+04\n",
      "mean     4.281537e+02\n",
      "std      1.002607e+04\n",
      "min      1.000000e-02\n",
      "25%      3.350000e+01\n",
      "50%      1.380000e+02\n",
      "75%      4.285200e+02\n",
      "max      3.102046e+06\n",
      "Name: Amount, dtype: float64\n",
      "Value Counts\n",
      "3.62       4283\n",
      "3.67       1620\n",
      "3.74        913\n",
      "3.80        827\n",
      "4.37        378\n",
      "30.00       315\n",
      "3.85        271\n",
      "100.00      246\n",
      "75.00       240\n",
      "6.62        219\n",
      "19.95       210\n",
      "150.00      205\n",
      "99.00       199\n",
      "50.00       198\n",
      "300.00      194\n",
      "200.00      190\n",
      "350.00      178\n",
      "250.00      171\n",
      "25.00       165\n",
      "8.31        164\n",
      "60.00       158\n",
      "295.00      157\n",
      "195.00      156\n",
      "2500.00     155\n",
      "35.00       151\n",
      "500.00      147\n",
      "199.00      146\n",
      "20.00       144\n",
      "3.57        136\n",
      "125.00      135\n",
      "           ... \n",
      "1760.20       1\n",
      "154.66        1\n",
      "2026.00       1\n",
      "1390.10       1\n",
      "1908.95       1\n",
      "319.60        1\n",
      "1038.11       1\n",
      "1612.41       1\n",
      "126.94        1\n",
      "222.33        1\n",
      "479.75        1\n",
      "1427.90       1\n",
      "1891.20       1\n",
      "45.86         1\n",
      "285.83        1\n",
      "93.39         1\n",
      "93.11         1\n",
      "890.90        1\n",
      "37.84         1\n",
      "64.37         1\n",
      "220.41        1\n",
      "417.29        1\n",
      "572.45        1\n",
      "216.18        1\n",
      "202.57        1\n",
      "278.86        1\n",
      "282.65        1\n",
      "1678.32       1\n",
      "2203.32       1\n",
      "210.94        1\n",
      "Name: Amount, Length: 34884, dtype: int64\n",
      "Null Value Number Counts\n",
      "0\n"
     ]
    }
   ],
   "source": [
    "attribute = 'Amount'\n",
    "\n",
    "print('Describe')\n",
    "print(myData2[attribute].describe())\n",
    "\n",
    "print('Value Counts')\n",
    "print(myData2[attribute].value_counts())\n",
    "\n",
    "print('Null Value Number Counts')\n",
    "print(myData2[attribute].isnull().sum())"
   ]
  },
  {
   "cell_type": "code",
   "execution_count": 98,
   "metadata": {},
   "outputs": [
    {
     "data": {
      "text/plain": [
       "3102045.53"
      ]
     },
     "execution_count": 98,
     "metadata": {},
     "output_type": "execute_result"
    }
   ],
   "source": [
    "max(myData2[attribute])"
   ]
  },
  {
   "cell_type": "code",
   "execution_count": 99,
   "metadata": {},
   "outputs": [
    {
     "data": {
      "text/plain": [
       "Int64Index([52714], dtype='int64')"
      ]
     },
     "execution_count": 99,
     "metadata": {},
     "output_type": "execute_result"
    }
   ],
   "source": [
    "del_index = myData2[myData2[attribute] == max(myData2[attribute])].index\n",
    "del_index"
   ]
  },
  {
   "cell_type": "code",
   "execution_count": 100,
   "metadata": {},
   "outputs": [],
   "source": [
    "myData2.drop(del_index, inplace = True)"
   ]
  },
  {
   "cell_type": "code",
   "execution_count": 101,
   "metadata": {},
   "outputs": [
    {
     "data": {
      "image/png": "[encoded data removed]",
      "text/plain": [
       "<Figure size 432x288 with 1 Axes>"
      ]
     },
     "metadata": {},
     "output_type": "display_data"
    }
   ],
   "source": [
    "sns.set(font_scale=1.)\n",
    "temp = myData2[myData2[attribute] >= 0]\n",
    "ax = sns.distplot(temp[attribute],bins=100, kde=False)\n",
    "ax.set_yscale('log')\n",
    "plt.savefig('log.png')"
   ]
  },
  {
   "cell_type": "code",
   "execution_count": 103,
   "metadata": {},
   "outputs": [],
   "source": [
    "myData2.to_csv('cleanDataFinal-yifeng.csv')"
   ]
  },
  {
   "cell_type": "code",
   "execution_count": null,
   "metadata": {},
   "outputs": [],
   "source": []
  },
  {
   "cell_type": "code",
   "execution_count": null,
   "metadata": {},
   "outputs": [],
   "source": []
  }
 ],
 "metadata": {
  "kernelspec": {
   "display_name": "Python 3",
   "language": "python",
   "name": "python3"
  },
  "language_info": {
   "codemirror_mode": {
    "name": "ipython",
    "version": 3
   },
   "file_extension": ".py",
   "mimetype": "text/x-python",
   "name": "python",
   "nbconvert_exporter": "python",
   "pygments_lexer": "ipython3",
   "version": "3.7.1"
  }
 },
 "nbformat": 4,
 "nbformat_minor": 2
}
