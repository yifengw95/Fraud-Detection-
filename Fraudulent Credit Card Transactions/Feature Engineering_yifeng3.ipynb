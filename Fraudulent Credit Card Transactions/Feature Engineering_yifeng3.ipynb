{
 "cells": [
  {
   "cell_type": "code",
   "execution_count": 1,
   "metadata": {},
   "outputs": [],
   "source": [
    "import pandas as pd\n",
    "import numpy as np\n",
    "import scipy.stats as sps\n",
    "import matplotlib.pyplot as plt\n",
    "import seaborn as sns\n",
    "import sklearn as skl\n",
    "from sklearn import preprocessing\n",
    "from math import isnan\n",
    "import datetime as dt\n",
    "from datetime import datetime\n",
    "from datetime import timedelta"
   ]
  },
  {
   "cell_type": "code",
   "execution_count": 2,
   "metadata": {},
   "outputs": [],
   "source": [
    "file = 'cleanDataFinal-yifeng.csv'\n",
    "myData = pd.read_csv(file)"
   ]
  },
  {
   "cell_type": "markdown",
   "metadata": {},
   "source": [
    "# Delete unrelated attribute"
   ]
  },
  {
   "cell_type": "code",
   "execution_count": 3,
   "metadata": {},
   "outputs": [
    {
     "data": {
      "text/html": [
       "<div>\n",
       "<style scoped>\n",
       "    .dataframe tbody tr th:only-of-type {\n",
       "        vertical-align: middle;\n",
       "    }\n",
       "\n",
       "    .dataframe tbody tr th {\n",
       "        vertical-align: top;\n",
       "    }\n",
       "\n",
       "    .dataframe thead th {\n",
       "        text-align: right;\n",
       "    }\n",
       "</style>\n",
       "<table border=\"1\" class=\"dataframe\">\n",
       "  <thead>\n",
       "    <tr style=\"text-align: right;\">\n",
       "      <th></th>\n",
       "      <th>Unnamed: 0</th>\n",
       "      <th>Cardnum</th>\n",
       "      <th>Date</th>\n",
       "      <th>Merchnum</th>\n",
       "      <th>Merch description</th>\n",
       "      <th>Merch state</th>\n",
       "      <th>Merch zip</th>\n",
       "      <th>Transtype</th>\n",
       "      <th>Amount</th>\n",
       "      <th>Fraud</th>\n",
       "    </tr>\n",
       "  </thead>\n",
       "  <tbody>\n",
       "    <tr>\n",
       "      <th>0</th>\n",
       "      <td>0</td>\n",
       "      <td>5142190439</td>\n",
       "      <td>2010-01-01</td>\n",
       "      <td>5509006296254</td>\n",
       "      <td>FEDEX SHP 12/23/09 AB#</td>\n",
       "      <td>TN</td>\n",
       "      <td>38118.0</td>\n",
       "      <td>P</td>\n",
       "      <td>3.62</td>\n",
       "      <td>0</td>\n",
       "    </tr>\n",
       "    <tr>\n",
       "      <th>1</th>\n",
       "      <td>1</td>\n",
       "      <td>5142183973</td>\n",
       "      <td>2010-01-01</td>\n",
       "      <td>61003026333</td>\n",
       "      <td>SERVICE MERCHANDISE #81</td>\n",
       "      <td>MA</td>\n",
       "      <td>1803.0</td>\n",
       "      <td>P</td>\n",
       "      <td>31.42</td>\n",
       "      <td>0</td>\n",
       "    </tr>\n",
       "    <tr>\n",
       "      <th>2</th>\n",
       "      <td>2</td>\n",
       "      <td>5142131721</td>\n",
       "      <td>2010-01-01</td>\n",
       "      <td>4503082993600</td>\n",
       "      <td>OFFICE DEPOT #191</td>\n",
       "      <td>MD</td>\n",
       "      <td>20706.0</td>\n",
       "      <td>P</td>\n",
       "      <td>178.49</td>\n",
       "      <td>0</td>\n",
       "    </tr>\n",
       "    <tr>\n",
       "      <th>3</th>\n",
       "      <td>3</td>\n",
       "      <td>5142148452</td>\n",
       "      <td>2010-01-01</td>\n",
       "      <td>5509006296254</td>\n",
       "      <td>FEDEX SHP 12/28/09 AB#</td>\n",
       "      <td>TN</td>\n",
       "      <td>38118.0</td>\n",
       "      <td>P</td>\n",
       "      <td>3.62</td>\n",
       "      <td>0</td>\n",
       "    </tr>\n",
       "    <tr>\n",
       "      <th>4</th>\n",
       "      <td>4</td>\n",
       "      <td>5142190439</td>\n",
       "      <td>2010-01-01</td>\n",
       "      <td>5509006296254</td>\n",
       "      <td>FEDEX SHP 12/23/09 AB#</td>\n",
       "      <td>TN</td>\n",
       "      <td>38118.0</td>\n",
       "      <td>P</td>\n",
       "      <td>3.62</td>\n",
       "      <td>0</td>\n",
       "    </tr>\n",
       "  </tbody>\n",
       "</table>\n",
       "</div>"
      ],
      "text/plain": [
       "   Unnamed: 0     Cardnum        Date       Merchnum        Merch description  \\\n",
       "0           0  5142190439  2010-01-01  5509006296254   FEDEX SHP 12/23/09 AB#   \n",
       "1           1  5142183973  2010-01-01    61003026333  SERVICE MERCHANDISE #81   \n",
       "2           2  5142131721  2010-01-01  4503082993600        OFFICE DEPOT #191   \n",
       "3           3  5142148452  2010-01-01  5509006296254   FEDEX SHP 12/28/09 AB#   \n",
       "4           4  5142190439  2010-01-01  5509006296254   FEDEX SHP 12/23/09 AB#   \n",
       "\n",
       "  Merch state  Merch zip Transtype  Amount  Fraud  \n",
       "0          TN    38118.0         P    3.62      0  \n",
       "1          MA     1803.0         P   31.42      0  \n",
       "2          MD    20706.0         P  178.49      0  \n",
       "3          TN    38118.0         P    3.62      0  \n",
       "4          TN    38118.0         P    3.62      0  "
      ]
     },
     "execution_count": 3,
     "metadata": {},
     "output_type": "execute_result"
    }
   ],
   "source": [
    "myData.head(5)"
   ]
  },
  {
   "cell_type": "code",
   "execution_count": 4,
   "metadata": {},
   "outputs": [],
   "source": [
    "del_attribute = 'Unnamed: 0'"
   ]
  },
  {
   "cell_type": "code",
   "execution_count": 5,
   "metadata": {},
   "outputs": [],
   "source": [
    "myData.drop([del_attribute],axis = 1, inplace = True)"
   ]
  },
  {
   "cell_type": "code",
   "execution_count": 6,
   "metadata": {},
   "outputs": [
    {
     "data": {
      "text/html": [
       "<div>\n",
       "<style scoped>\n",
       "    .dataframe tbody tr th:only-of-type {\n",
       "        vertical-align: middle;\n",
       "    }\n",
       "\n",
       "    .dataframe tbody tr th {\n",
       "        vertical-align: top;\n",
       "    }\n",
       "\n",
       "    .dataframe thead th {\n",
       "        text-align: right;\n",
       "    }\n",
       "</style>\n",
       "<table border=\"1\" class=\"dataframe\">\n",
       "  <thead>\n",
       "    <tr style=\"text-align: right;\">\n",
       "      <th></th>\n",
       "      <th>Cardnum</th>\n",
       "      <th>Date</th>\n",
       "      <th>Merchnum</th>\n",
       "      <th>Merch description</th>\n",
       "      <th>Merch state</th>\n",
       "      <th>Merch zip</th>\n",
       "      <th>Transtype</th>\n",
       "      <th>Amount</th>\n",
       "      <th>Fraud</th>\n",
       "    </tr>\n",
       "  </thead>\n",
       "  <tbody>\n",
       "    <tr>\n",
       "      <th>0</th>\n",
       "      <td>5142190439</td>\n",
       "      <td>2010-01-01</td>\n",
       "      <td>5509006296254</td>\n",
       "      <td>FEDEX SHP 12/23/09 AB#</td>\n",
       "      <td>TN</td>\n",
       "      <td>38118.0</td>\n",
       "      <td>P</td>\n",
       "      <td>3.62</td>\n",
       "      <td>0</td>\n",
       "    </tr>\n",
       "    <tr>\n",
       "      <th>1</th>\n",
       "      <td>5142183973</td>\n",
       "      <td>2010-01-01</td>\n",
       "      <td>61003026333</td>\n",
       "      <td>SERVICE MERCHANDISE #81</td>\n",
       "      <td>MA</td>\n",
       "      <td>1803.0</td>\n",
       "      <td>P</td>\n",
       "      <td>31.42</td>\n",
       "      <td>0</td>\n",
       "    </tr>\n",
       "    <tr>\n",
       "      <th>2</th>\n",
       "      <td>5142131721</td>\n",
       "      <td>2010-01-01</td>\n",
       "      <td>4503082993600</td>\n",
       "      <td>OFFICE DEPOT #191</td>\n",
       "      <td>MD</td>\n",
       "      <td>20706.0</td>\n",
       "      <td>P</td>\n",
       "      <td>178.49</td>\n",
       "      <td>0</td>\n",
       "    </tr>\n",
       "    <tr>\n",
       "      <th>3</th>\n",
       "      <td>5142148452</td>\n",
       "      <td>2010-01-01</td>\n",
       "      <td>5509006296254</td>\n",
       "      <td>FEDEX SHP 12/28/09 AB#</td>\n",
       "      <td>TN</td>\n",
       "      <td>38118.0</td>\n",
       "      <td>P</td>\n",
       "      <td>3.62</td>\n",
       "      <td>0</td>\n",
       "    </tr>\n",
       "    <tr>\n",
       "      <th>4</th>\n",
       "      <td>5142190439</td>\n",
       "      <td>2010-01-01</td>\n",
       "      <td>5509006296254</td>\n",
       "      <td>FEDEX SHP 12/23/09 AB#</td>\n",
       "      <td>TN</td>\n",
       "      <td>38118.0</td>\n",
       "      <td>P</td>\n",
       "      <td>3.62</td>\n",
       "      <td>0</td>\n",
       "    </tr>\n",
       "  </tbody>\n",
       "</table>\n",
       "</div>"
      ],
      "text/plain": [
       "      Cardnum        Date       Merchnum        Merch description Merch state  \\\n",
       "0  5142190439  2010-01-01  5509006296254   FEDEX SHP 12/23/09 AB#          TN   \n",
       "1  5142183973  2010-01-01    61003026333  SERVICE MERCHANDISE #81          MA   \n",
       "2  5142131721  2010-01-01  4503082993600        OFFICE DEPOT #191          MD   \n",
       "3  5142148452  2010-01-01  5509006296254   FEDEX SHP 12/28/09 AB#          TN   \n",
       "4  5142190439  2010-01-01  5509006296254   FEDEX SHP 12/23/09 AB#          TN   \n",
       "\n",
       "   Merch zip Transtype  Amount  Fraud  \n",
       "0    38118.0         P    3.62      0  \n",
       "1     1803.0         P   31.42      0  \n",
       "2    20706.0         P  178.49      0  \n",
       "3    38118.0         P    3.62      0  \n",
       "4    38118.0         P    3.62      0  "
      ]
     },
     "execution_count": 6,
     "metadata": {},
     "output_type": "execute_result"
    }
   ],
   "source": [
    "myData.head(5)"
   ]
  },
  {
   "cell_type": "code",
   "execution_count": 7,
   "metadata": {},
   "outputs": [],
   "source": [
    "def str_to_datetime (x):\n",
    "    return datetime.strptime(x, '%Y-%m-%d')\n",
    "myData['Date'] = myData['Date'].apply(str_to_datetime)"
   ]
  },
  {
   "cell_type": "code",
   "execution_count": 8,
   "metadata": {},
   "outputs": [
    {
     "name": "stdout",
     "output_type": "stream",
     "text": [
      "<class 'pandas.core.frame.DataFrame'>\n",
      "RangeIndex: 96366 entries, 0 to 96365\n",
      "Data columns (total 9 columns):\n",
      "Cardnum              96366 non-null int64\n",
      "Date                 96366 non-null datetime64[ns]\n",
      "Merchnum             96366 non-null object\n",
      "Merch description    96366 non-null object\n",
      "Merch state          96366 non-null object\n",
      "Merch zip            96366 non-null float64\n",
      "Transtype            96366 non-null object\n",
      "Amount               96366 non-null float64\n",
      "Fraud                96366 non-null int64\n",
      "dtypes: datetime64[ns](1), float64(2), int64(2), object(4)\n",
      "memory usage: 6.6+ MB\n"
     ]
    }
   ],
   "source": [
    "myData.info()"
   ]
  },
  {
   "cell_type": "code",
   "execution_count": 9,
   "metadata": {},
   "outputs": [
    {
     "data": {
      "text/html": [
       "<div>\n",
       "<style scoped>\n",
       "    .dataframe tbody tr th:only-of-type {\n",
       "        vertical-align: middle;\n",
       "    }\n",
       "\n",
       "    .dataframe tbody tr th {\n",
       "        vertical-align: top;\n",
       "    }\n",
       "\n",
       "    .dataframe thead th {\n",
       "        text-align: right;\n",
       "    }\n",
       "</style>\n",
       "<table border=\"1\" class=\"dataframe\">\n",
       "  <thead>\n",
       "    <tr style=\"text-align: right;\">\n",
       "      <th></th>\n",
       "      <th>Cardnum</th>\n",
       "      <th>Date</th>\n",
       "      <th>Merchnum</th>\n",
       "      <th>Merch description</th>\n",
       "      <th>Merch state</th>\n",
       "      <th>Merch zip</th>\n",
       "      <th>Transtype</th>\n",
       "      <th>Amount</th>\n",
       "      <th>Fraud</th>\n",
       "    </tr>\n",
       "  </thead>\n",
       "  <tbody>\n",
       "    <tr>\n",
       "      <th>0</th>\n",
       "      <td>5142190439</td>\n",
       "      <td>2010-01-01</td>\n",
       "      <td>5509006296254</td>\n",
       "      <td>FEDEX SHP 12/23/09 AB#</td>\n",
       "      <td>TN</td>\n",
       "      <td>38118.0</td>\n",
       "      <td>P</td>\n",
       "      <td>3.62</td>\n",
       "      <td>0</td>\n",
       "    </tr>\n",
       "    <tr>\n",
       "      <th>1</th>\n",
       "      <td>5142183973</td>\n",
       "      <td>2010-01-01</td>\n",
       "      <td>61003026333</td>\n",
       "      <td>SERVICE MERCHANDISE #81</td>\n",
       "      <td>MA</td>\n",
       "      <td>1803.0</td>\n",
       "      <td>P</td>\n",
       "      <td>31.42</td>\n",
       "      <td>0</td>\n",
       "    </tr>\n",
       "    <tr>\n",
       "      <th>2</th>\n",
       "      <td>5142131721</td>\n",
       "      <td>2010-01-01</td>\n",
       "      <td>4503082993600</td>\n",
       "      <td>OFFICE DEPOT #191</td>\n",
       "      <td>MD</td>\n",
       "      <td>20706.0</td>\n",
       "      <td>P</td>\n",
       "      <td>178.49</td>\n",
       "      <td>0</td>\n",
       "    </tr>\n",
       "  </tbody>\n",
       "</table>\n",
       "</div>"
      ],
      "text/plain": [
       "      Cardnum       Date       Merchnum        Merch description Merch state  \\\n",
       "0  5142190439 2010-01-01  5509006296254   FEDEX SHP 12/23/09 AB#          TN   \n",
       "1  5142183973 2010-01-01    61003026333  SERVICE MERCHANDISE #81          MA   \n",
       "2  5142131721 2010-01-01  4503082993600        OFFICE DEPOT #191          MD   \n",
       "\n",
       "   Merch zip Transtype  Amount  Fraud  \n",
       "0    38118.0         P    3.62      0  \n",
       "1     1803.0         P   31.42      0  \n",
       "2    20706.0         P  178.49      0  "
      ]
     },
     "execution_count": 9,
     "metadata": {},
     "output_type": "execute_result"
    }
   ],
   "source": [
    "myData.head(3)"
   ]
  },
  {
   "cell_type": "code",
   "execution_count": null,
   "metadata": {},
   "outputs": [],
   "source": []
  },
  {
   "cell_type": "code",
   "execution_count": null,
   "metadata": {},
   "outputs": [],
   "source": []
  },
  {
   "cell_type": "code",
   "execution_count": null,
   "metadata": {},
   "outputs": [],
   "source": []
  },
  {
   "cell_type": "code",
   "execution_count": null,
   "metadata": {},
   "outputs": [],
   "source": []
  },
  {
   "cell_type": "markdown",
   "metadata": {},
   "source": [
    "# Begin Feature Engineering"
   ]
  },
  {
   "cell_type": "code",
   "execution_count": 10,
   "metadata": {},
   "outputs": [],
   "source": [
    "data_sorted = myData.copy()"
   ]
  },
  {
   "cell_type": "code",
   "execution_count": 11,
   "metadata": {},
   "outputs": [
    {
     "data": {
      "text/plain": [
       "(96366, 9)"
      ]
     },
     "execution_count": 11,
     "metadata": {},
     "output_type": "execute_result"
    }
   ],
   "source": [
    "data_sorted.shape"
   ]
  },
  {
   "cell_type": "code",
   "execution_count": 12,
   "metadata": {},
   "outputs": [
    {
     "name": "stdout",
     "output_type": "stream",
     "text": [
      "CPU times: user 1min 37s, sys: 907 ms, total: 1min 38s\n",
      "Wall time: 1min 37s\n"
     ]
    }
   ],
   "source": [
    "%%time\n",
    "#Cardnum, Merchnum\n",
    "for groupbyvar in ['Cardnum', 'Merchnum']:\n",
    "    data_sorted = data_sorted.sort_values(by = [groupbyvar, 'Date'])\n",
    "    data_sorted_index = data_sorted.set_index('Date')\n",
    "    for agg in ['mean', 'max', 'median', 'sum', 'count']: \n",
    "        for days in ['1d', '3d', '7d', '14d', '30d']:\n",
    "            data_sorted[agg + '_' + groupbyvar + \"_\" + days]= \\\n",
    "                                getattr(data_sorted_index.groupby(groupbyvar)['Amount'].rolling(days),agg)().values\n",
    "            data_sorted['Actual/' + agg + \"_\" + groupbyvar + \"_\" + days] = \\\n",
    "                                data_sorted['Amount']/data_sorted[agg + '_' + groupbyvar + \"_\" + days]"
   ]
  },
  {
   "cell_type": "code",
   "execution_count": 13,
   "metadata": {},
   "outputs": [
    {
     "data": {
      "text/plain": [
       "(96366, 109)"
      ]
     },
     "execution_count": 13,
     "metadata": {},
     "output_type": "execute_result"
    }
   ],
   "source": [
    "data_sorted.shape"
   ]
  },
  {
   "cell_type": "code",
   "execution_count": 14,
   "metadata": {},
   "outputs": [
    {
     "name": "stdout",
     "output_type": "stream",
     "text": [
      "CPU times: user 11min 9s, sys: 18.1 s, total: 11min 27s\n",
      "Wall time: 11min 18s\n"
     ]
    }
   ],
   "source": [
    "%%time\n",
    "#Cardnum and Merchnum, Cardnum and Zip, Cardnum and state\n",
    "for groupbyvar in ['Merchnum', 'Merch zip', 'Merch state']:\n",
    "    data_sorted = data_sorted.sort_values(by = ['Cardnum',groupbyvar, 'Date'])\n",
    "    data_sorted_index = data_sorted.set_index('Date')\n",
    "    for agg in ['mean', 'max', 'median', 'sum', 'count']: \n",
    "        for days in ['1d', '3d', '7d', '14d', '30d']:\n",
    "            data_sorted[agg + '_' + \"Cardnum_\" + groupbyvar + \"_\" + days] = getattr(data_sorted_index.groupby(['Cardnum',groupbyvar])['Amount'].rolling(days),agg)().values\n",
    "            data_sorted['Actual/' + agg + \"_\" + \"Cardnum_\" + groupbyvar + \"_\" + days] = data_sorted['Amount']/data_sorted[agg + '_' + \"Cardnum_\" + groupbyvar + \"_\" + days]            \n"
   ]
  },
  {
   "cell_type": "code",
   "execution_count": 15,
   "metadata": {},
   "outputs": [
    {
     "data": {
      "text/plain": [
       "(96366, 259)"
      ]
     },
     "execution_count": 15,
     "metadata": {},
     "output_type": "execute_result"
    }
   ],
   "source": [
    "data_sorted.shape"
   ]
  },
  {
   "cell_type": "code",
   "execution_count": 16,
   "metadata": {},
   "outputs": [
    {
     "name": "stdout",
     "output_type": "stream",
     "text": [
      "CPU times: user 1min, sys: 2.71 s, total: 1min 3s\n",
      "Wall time: 57.3 s\n"
     ]
    }
   ],
   "source": [
    "%%time\n",
    "#Create days since variables\n",
    "for groupbyvar in [['Cardnum'], ['Merchnum'], ['Cardnum', 'Merchnum'], ['Cardnum', 'Merch zip'], ['Cardnum', 'Merch state']]:\n",
    "    sortCols = groupbyvar[:]\n",
    "    sortCols.append('Date')\n",
    "    data_sorted = data_sorted.sort_values(by = sortCols)\n",
    "    if len(groupbyvar) == 1:\n",
    "        data_sorted['Days_since_per_' + groupbyvar[0]] = \\\n",
    "                                data_sorted.groupby(groupbyvar)['Date'].\\\n",
    "                                apply(lambda x: (x - x.shift(1)).astype('timedelta64[D]')).fillna(365).values \n",
    "    else:\n",
    "        data_sorted['Days_since_per_Cardnum_' + groupbyvar[1]] = \\\n",
    "                                data_sorted.groupby(groupbyvar)['Date'].\\\n",
    "                                apply(lambda x: (x -x.shift(1)).astype('timedelta64[D]')).fillna(365).values \n"
   ]
  },
  {
   "cell_type": "code",
   "execution_count": 17,
   "metadata": {},
   "outputs": [
    {
     "data": {
      "text/plain": [
       "(96366, 264)"
      ]
     },
     "execution_count": 17,
     "metadata": {},
     "output_type": "execute_result"
    }
   ],
   "source": [
    "data_sorted.shape"
   ]
  },
  {
   "cell_type": "code",
   "execution_count": 18,
   "metadata": {},
   "outputs": [
    {
     "name": "stdout",
     "output_type": "stream",
     "text": [
      "CPU times: user 87.8 ms, sys: 27.6 ms, total: 115 ms\n",
      "Wall time: 79.1 ms\n"
     ]
    }
   ],
   "source": [
    "%%time\n",
    "#Velocity change Variables\n",
    "groupbyvar_numerator = ['Cardnum', 'Merchnum']\n",
    "groupbyvar_denominator = ['Cardnum', 'Merchnum']\n",
    "\n",
    "days_numerator = ['1d']\n",
    "days_denominator = ['3d', '7d', '14d', '30d']\n",
    "\n",
    "agg__numerator = ['count', 'mean']\n",
    "agg__denominator = ['count', 'mean']\n",
    "\n",
    "for a in groupbyvar_numerator:\n",
    "    for b in groupbyvar_denominator:\n",
    "        for c in days_numerator:\n",
    "            for d in days_denominator:\n",
    "                for e in agg__numerator:\n",
    "                    for f in agg__denominator:\n",
    "                        data_sorted[a + '_' + c + '_' + e + '_' + b + '_' + d + '_' + f] = \\\n",
    "                            data_sorted[e + '_' + a + \"_\" + c] / \\\n",
    "                            data_sorted[f + '_' + b + \"_\" + d]\n",
    "                            "
   ]
  },
  {
   "cell_type": "code",
   "execution_count": 19,
   "metadata": {},
   "outputs": [
    {
     "data": {
      "text/plain": [
       "(96366, 328)"
      ]
     },
     "execution_count": 19,
     "metadata": {},
     "output_type": "execute_result"
    }
   ],
   "source": [
    "data_sorted.shape"
   ]
  },
  {
   "cell_type": "code",
   "execution_count": 20,
   "metadata": {},
   "outputs": [
    {
     "name": "stdout",
     "output_type": "stream",
     "text": [
      "CPU times: user 248 ms, sys: 240 ms, total: 488 ms\n",
      "Wall time: 411 ms\n"
     ]
    }
   ],
   "source": [
    "%%time\n",
    "#Velocity change Variables\n",
    "groupbyvar_numerator = ['Cardnum', 'Merchnum']\n",
    "groupbyvar_denominator = ['Cardnum', 'Merchnum']\n",
    "\n",
    "days_numerator = ['1d']\n",
    "days_denominator = ['3d', '7d', '14d', '30d']\n",
    "\n",
    "agg__numerator = ['count', 'mean']\n",
    "agg__denominator = ['count']\n",
    "\n",
    "for a in groupbyvar_numerator:\n",
    "    for b in groupbyvar_denominator:\n",
    "        for c in days_numerator:\n",
    "            for d in days_denominator:\n",
    "                for e in agg__numerator:\n",
    "                    for f in agg__denominator:\n",
    "                        temp = d[0:len(d)-1]\n",
    "                        data_sorted[a + '_' + c + '_' + e + '_' + b + '_' + d + '_' + f + '_Ave'] = \\\n",
    "                            data_sorted[e + '_' + a + \"_\" + c] / \\\n",
    "                            (data_sorted[f + '_' + b + \"_\" + d] / float(temp)  )"
   ]
  },
  {
   "cell_type": "code",
   "execution_count": 21,
   "metadata": {},
   "outputs": [
    {
     "data": {
      "text/plain": [
       "(96366, 360)"
      ]
     },
     "execution_count": 21,
     "metadata": {},
     "output_type": "execute_result"
    }
   ],
   "source": [
    "data_sorted.shape"
   ]
  },
  {
   "cell_type": "code",
   "execution_count": null,
   "metadata": {},
   "outputs": [],
   "source": []
  },
  {
   "cell_type": "code",
   "execution_count": 22,
   "metadata": {},
   "outputs": [
    {
     "data": {
      "text/html": [
       "<div>\n",
       "<style scoped>\n",
       "    .dataframe tbody tr th:only-of-type {\n",
       "        vertical-align: middle;\n",
       "    }\n",
       "\n",
       "    .dataframe tbody tr th {\n",
       "        vertical-align: top;\n",
       "    }\n",
       "\n",
       "    .dataframe thead th {\n",
       "        text-align: right;\n",
       "    }\n",
       "</style>\n",
       "<table border=\"1\" class=\"dataframe\">\n",
       "  <thead>\n",
       "    <tr style=\"text-align: right;\">\n",
       "      <th></th>\n",
       "      <th>Cardnum</th>\n",
       "      <th>Date</th>\n",
       "      <th>Merchnum</th>\n",
       "      <th>Merch description</th>\n",
       "      <th>Merch state</th>\n",
       "      <th>Merch zip</th>\n",
       "      <th>Transtype</th>\n",
       "      <th>Amount</th>\n",
       "      <th>Fraud</th>\n",
       "      <th>mean_Cardnum_1d</th>\n",
       "      <th>...</th>\n",
       "      <th>Merchnum_1d_count_Cardnum_30d_count_Ave</th>\n",
       "      <th>Merchnum_1d_mean_Cardnum_30d_count_Ave</th>\n",
       "      <th>Merchnum_1d_count_Merchnum_3d_count_Ave</th>\n",
       "      <th>Merchnum_1d_mean_Merchnum_3d_count_Ave</th>\n",
       "      <th>Merchnum_1d_count_Merchnum_7d_count_Ave</th>\n",
       "      <th>Merchnum_1d_mean_Merchnum_7d_count_Ave</th>\n",
       "      <th>Merchnum_1d_count_Merchnum_14d_count_Ave</th>\n",
       "      <th>Merchnum_1d_mean_Merchnum_14d_count_Ave</th>\n",
       "      <th>Merchnum_1d_count_Merchnum_30d_count_Ave</th>\n",
       "      <th>Merchnum_1d_mean_Merchnum_30d_count_Ave</th>\n",
       "    </tr>\n",
       "  </thead>\n",
       "  <tbody>\n",
       "    <tr>\n",
       "      <th>80770</th>\n",
       "      <td>5142110002</td>\n",
       "      <td>2010-10-12</td>\n",
       "      <td>9900020006406</td>\n",
       "      <td>X REVERSAL OF CR BAL REF</td>\n",
       "      <td>VA</td>\n",
       "      <td>22202.0</td>\n",
       "      <td>P</td>\n",
       "      <td>150.0</td>\n",
       "      <td>0</td>\n",
       "      <td>150.00</td>\n",
       "      <td>...</td>\n",
       "      <td>30.0</td>\n",
       "      <td>4500.00</td>\n",
       "      <td>1.0</td>\n",
       "      <td>150.000</td>\n",
       "      <td>0.170732</td>\n",
       "      <td>25.609756</td>\n",
       "      <td>0.237288</td>\n",
       "      <td>35.593220</td>\n",
       "      <td>0.146341</td>\n",
       "      <td>21.951220</td>\n",
       "    </tr>\n",
       "    <tr>\n",
       "      <th>89106</th>\n",
       "      <td>5142110081</td>\n",
       "      <td>2010-11-26</td>\n",
       "      <td>2094330000009</td>\n",
       "      <td>FRANKLIN COVEY COMPANY</td>\n",
       "      <td>UT</td>\n",
       "      <td>84119.0</td>\n",
       "      <td>P</td>\n",
       "      <td>636.2</td>\n",
       "      <td>0</td>\n",
       "      <td>636.20</td>\n",
       "      <td>...</td>\n",
       "      <td>30.0</td>\n",
       "      <td>19086.00</td>\n",
       "      <td>1.5</td>\n",
       "      <td>954.300</td>\n",
       "      <td>1.750000</td>\n",
       "      <td>1113.350000</td>\n",
       "      <td>1.555556</td>\n",
       "      <td>989.644444</td>\n",
       "      <td>1.250000</td>\n",
       "      <td>795.250000</td>\n",
       "    </tr>\n",
       "    <tr>\n",
       "      <th>16606</th>\n",
       "      <td>5142110081</td>\n",
       "      <td>2010-03-08</td>\n",
       "      <td>4503082412500</td>\n",
       "      <td>X OFFICE DEPOT #1</td>\n",
       "      <td>WA</td>\n",
       "      <td>98032.0</td>\n",
       "      <td>P</td>\n",
       "      <td>495.9</td>\n",
       "      <td>0</td>\n",
       "      <td>495.90</td>\n",
       "      <td>...</td>\n",
       "      <td>30.0</td>\n",
       "      <td>14877.00</td>\n",
       "      <td>3.0</td>\n",
       "      <td>1487.700</td>\n",
       "      <td>3.500000</td>\n",
       "      <td>1735.650000</td>\n",
       "      <td>4.666667</td>\n",
       "      <td>2314.200000</td>\n",
       "      <td>2.727273</td>\n",
       "      <td>1352.454545</td>\n",
       "    </tr>\n",
       "    <tr>\n",
       "      <th>16778</th>\n",
       "      <td>5142110081</td>\n",
       "      <td>2010-03-08</td>\n",
       "      <td>4503082412500</td>\n",
       "      <td>X FRANKLIN COVEY</td>\n",
       "      <td>WA</td>\n",
       "      <td>98032.0</td>\n",
       "      <td>P</td>\n",
       "      <td>636.2</td>\n",
       "      <td>0</td>\n",
       "      <td>566.05</td>\n",
       "      <td>...</td>\n",
       "      <td>30.0</td>\n",
       "      <td>8490.75</td>\n",
       "      <td>3.0</td>\n",
       "      <td>849.075</td>\n",
       "      <td>4.666667</td>\n",
       "      <td>1320.783333</td>\n",
       "      <td>7.000000</td>\n",
       "      <td>1981.175000</td>\n",
       "      <td>5.000000</td>\n",
       "      <td>1415.125000</td>\n",
       "    </tr>\n",
       "    <tr>\n",
       "      <th>95589</th>\n",
       "      <td>5142110081</td>\n",
       "      <td>2010-12-27</td>\n",
       "      <td>4503082412500</td>\n",
       "      <td>OFFICE DEPOT #1078</td>\n",
       "      <td>WA</td>\n",
       "      <td>98032.0</td>\n",
       "      <td>P</td>\n",
       "      <td>495.9</td>\n",
       "      <td>0</td>\n",
       "      <td>495.90</td>\n",
       "      <td>...</td>\n",
       "      <td>30.0</td>\n",
       "      <td>14877.00</td>\n",
       "      <td>3.0</td>\n",
       "      <td>1487.700</td>\n",
       "      <td>3.500000</td>\n",
       "      <td>1735.650000</td>\n",
       "      <td>2.000000</td>\n",
       "      <td>991.800000</td>\n",
       "      <td>3.000000</td>\n",
       "      <td>1487.700000</td>\n",
       "    </tr>\n",
       "  </tbody>\n",
       "</table>\n",
       "<p>5 rows × 360 columns</p>\n",
       "</div>"
      ],
      "text/plain": [
       "          Cardnum       Date       Merchnum         Merch description  \\\n",
       "80770  5142110002 2010-10-12  9900020006406  X REVERSAL OF CR BAL REF   \n",
       "89106  5142110081 2010-11-26  2094330000009    FRANKLIN COVEY COMPANY   \n",
       "16606  5142110081 2010-03-08  4503082412500         X OFFICE DEPOT #1   \n",
       "16778  5142110081 2010-03-08  4503082412500          X FRANKLIN COVEY   \n",
       "95589  5142110081 2010-12-27  4503082412500        OFFICE DEPOT #1078   \n",
       "\n",
       "      Merch state  Merch zip Transtype  Amount  Fraud  mean_Cardnum_1d  \\\n",
       "80770          VA    22202.0         P   150.0      0           150.00   \n",
       "89106          UT    84119.0         P   636.2      0           636.20   \n",
       "16606          WA    98032.0         P   495.9      0           495.90   \n",
       "16778          WA    98032.0         P   636.2      0           566.05   \n",
       "95589          WA    98032.0         P   495.9      0           495.90   \n",
       "\n",
       "                        ...                     \\\n",
       "80770                   ...                      \n",
       "89106                   ...                      \n",
       "16606                   ...                      \n",
       "16778                   ...                      \n",
       "95589                   ...                      \n",
       "\n",
       "       Merchnum_1d_count_Cardnum_30d_count_Ave  \\\n",
       "80770                                     30.0   \n",
       "89106                                     30.0   \n",
       "16606                                     30.0   \n",
       "16778                                     30.0   \n",
       "95589                                     30.0   \n",
       "\n",
       "       Merchnum_1d_mean_Cardnum_30d_count_Ave  \\\n",
       "80770                                 4500.00   \n",
       "89106                                19086.00   \n",
       "16606                                14877.00   \n",
       "16778                                 8490.75   \n",
       "95589                                14877.00   \n",
       "\n",
       "       Merchnum_1d_count_Merchnum_3d_count_Ave  \\\n",
       "80770                                      1.0   \n",
       "89106                                      1.5   \n",
       "16606                                      3.0   \n",
       "16778                                      3.0   \n",
       "95589                                      3.0   \n",
       "\n",
       "       Merchnum_1d_mean_Merchnum_3d_count_Ave  \\\n",
       "80770                                 150.000   \n",
       "89106                                 954.300   \n",
       "16606                                1487.700   \n",
       "16778                                 849.075   \n",
       "95589                                1487.700   \n",
       "\n",
       "       Merchnum_1d_count_Merchnum_7d_count_Ave  \\\n",
       "80770                                 0.170732   \n",
       "89106                                 1.750000   \n",
       "16606                                 3.500000   \n",
       "16778                                 4.666667   \n",
       "95589                                 3.500000   \n",
       "\n",
       "       Merchnum_1d_mean_Merchnum_7d_count_Ave  \\\n",
       "80770                               25.609756   \n",
       "89106                             1113.350000   \n",
       "16606                             1735.650000   \n",
       "16778                             1320.783333   \n",
       "95589                             1735.650000   \n",
       "\n",
       "       Merchnum_1d_count_Merchnum_14d_count_Ave  \\\n",
       "80770                                  0.237288   \n",
       "89106                                  1.555556   \n",
       "16606                                  4.666667   \n",
       "16778                                  7.000000   \n",
       "95589                                  2.000000   \n",
       "\n",
       "       Merchnum_1d_mean_Merchnum_14d_count_Ave  \\\n",
       "80770                                35.593220   \n",
       "89106                               989.644444   \n",
       "16606                              2314.200000   \n",
       "16778                              1981.175000   \n",
       "95589                               991.800000   \n",
       "\n",
       "       Merchnum_1d_count_Merchnum_30d_count_Ave  \\\n",
       "80770                                  0.146341   \n",
       "89106                                  1.250000   \n",
       "16606                                  2.727273   \n",
       "16778                                  5.000000   \n",
       "95589                                  3.000000   \n",
       "\n",
       "       Merchnum_1d_mean_Merchnum_30d_count_Ave  \n",
       "80770                                21.951220  \n",
       "89106                               795.250000  \n",
       "16606                              1352.454545  \n",
       "16778                              1415.125000  \n",
       "95589                              1487.700000  \n",
       "\n",
       "[5 rows x 360 columns]"
      ]
     },
     "execution_count": 22,
     "metadata": {},
     "output_type": "execute_result"
    }
   ],
   "source": [
    "data_sorted.head(5)"
   ]
  },
  {
   "cell_type": "code",
   "execution_count": 23,
   "metadata": {},
   "outputs": [
    {
     "data": {
      "text/plain": [
       "(96366, 360)"
      ]
     },
     "execution_count": 23,
     "metadata": {},
     "output_type": "execute_result"
    }
   ],
   "source": [
    "data_sorted.shape"
   ]
  },
  {
   "cell_type": "code",
   "execution_count": null,
   "metadata": {},
   "outputs": [],
   "source": []
  },
  {
   "cell_type": "code",
   "execution_count": 24,
   "metadata": {},
   "outputs": [],
   "source": [
    "data_sorted.to_csv('featureEngineering_yifeng.csv')"
   ]
  },
  {
   "cell_type": "code",
   "execution_count": null,
   "metadata": {},
   "outputs": [],
   "source": []
  }
 ],
 "metadata": {
  "kernelspec": {
   "display_name": "Python 3",
   "language": "python",
   "name": "python3"
  },
  "language_info": {
   "codemirror_mode": {
    "name": "ipython",
    "version": 3
   },
   "file_extension": ".py",
   "mimetype": "text/x-python",
   "name": "python",
   "nbconvert_exporter": "python",
   "pygments_lexer": "ipython3",
   "version": "3.7.1"
  }
 },
 "nbformat": 4,
 "nbformat_minor": 2
}
